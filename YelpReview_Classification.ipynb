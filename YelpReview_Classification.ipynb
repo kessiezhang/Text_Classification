{
 "cells": [
  {
   "cell_type": "markdown",
   "metadata": {},
   "source": [
    "## WorkFlow\n",
    "1. Combine dataset\n",
    "2. Feature Engineering\n",
    "3. Model Building\n",
    "\n",
    "<ul>\n",
    "    <b>I. Data Preprocessing</b>\n",
    "    <li>a. Dataframe</li>\n",
    "    <li>b. Feature Engineering</li>\n",
    "</ul>\n",
    "\n",
    "<ul>\n",
    "    <b>II. Supervised Learning</b>\n",
    "    <li>a. Using User Activities data Upsampling</li>\n",
    "    <li>b. Using User Activities data Downsampling</li>\n",
    "    <li>c. Using Review Text data Downsampling</li>\n",
    "    <li>d. AUC-ROC Comparison</li>\n",
    "    <li>e. Hyperparameter Optimization With Grid Search</li>\n",
    "    <li>f. Best Model Feature Importance</li>\n",
    "</ul>\n",
    "\n",
    "<ul>\n",
    "    <b>III. Unsupervised Learning</b>\n",
    "    <li>a. Using all User Activities data</li>\n",
    "    <li>b. Using Review Text Word2Vec data</li>\n",
    "</ul>\n",
    "\n",
    "**Metric**\n",
    "<li>False Positive: The model predict it's a real review while it's fake</li>\n",
    "<li>False Negative: The model predict it's a fake review while it's real</li>\n",
    "\n",
    "We don’t want false positives to be high because fake reviews can damage Yelp’s brand. As consumer trust continues to decline, the churn rate might increase. However, if false negative is high, it can lead to poor user experience, leading to a low user retention rate. As a result, we would use AUC-ROC as the classification model comparison metric because it can determine a prediction model’s performance. Since it’s hard to compute an AUC-ROC score from a confusion matrix, we would use specificity scores to compare both unsupervised and supervised models."
   ]
  },
  {
   "cell_type": "markdown",
   "metadata": {},
   "source": [
    "## I. Data Preprocessing"
   ]
  },
  {
   "cell_type": "code",
   "execution_count": 14,
   "metadata": {},
   "outputs": [
    {
     "name": "stderr",
     "output_type": "stream",
     "text": [
      "Using TensorFlow backend.\n"
     ]
    }
   ],
   "source": [
    "import nltk\n",
    "import pandas as pd\n",
    "import seaborn as sns\n",
    "import matplotlib.pyplot as plt\n",
    "sns.set(style=\"darkgrid\")\n",
    "\n",
    "\n",
    "import re\n",
    "import json\n",
    "import numpy as np\n",
    "from random import shuffle\n",
    "from sklearn.svm import SVC\n",
    "from sklearn import neighbors\n",
    "from nltk.tokenize import sent_tokenize\n",
    "from sklearn.metrics import confusion_matrix\n",
    "\n",
    "from sklearn.model_selection import cross_val_score\n",
    "from sklearn.model_selection import cross_val_predict\n",
    "from sklearn.model_selection import train_test_split\n",
    "\n",
    "\n",
    "from sklearn.linear_model import SGDClassifier\n",
    "from sklearn.neighbors import NearestNeighbors\n",
    "from sklearn.tree import DecisionTreeClassifier\n",
    "from sklearn.ensemble import AdaBoostClassifier\n",
    "from sklearn.neighbors import KNeighborsClassifier\n",
    "from sklearn.ensemble import RandomForestClassifier\n",
    "from sklearn.ensemble import GradientBoostingClassifier\n",
    "from sklearn.linear_model import LogisticRegression\n",
    "from sklearn.model_selection import GridSearchCV\n",
    "\n",
    "from sklearn.pipeline import Pipeline\n",
    "from sklearn.metrics import f1_score\n",
    "from sklearn.metrics import accuracy_score, log_loss, roc_auc_score\n",
    "\n",
    "from sklearn.metrics import accuracy_score, recall_score,classification_report \n",
    "\n",
    "from imblearn.over_sampling import SMOTE\n",
    "from imblearn.over_sampling import ADASYN"
   ]
  },
  {
   "cell_type": "code",
   "execution_count": 97,
   "metadata": {},
   "outputs": [],
   "source": [
    "metadata = pd.read_csv('metadata',sep='\\t',header=None)\n",
    "# user_id, prod_id, rating, label, date\n",
    "#add column name\n",
    "metadata.columns =['user_id', 'prod_id', 'rating', 'label','date'] "
   ]
  },
  {
   "cell_type": "code",
   "execution_count": 98,
   "metadata": {},
   "outputs": [],
   "source": [
    "reviewContent = pd.read_csv('reviewContent',sep='\\t',header=None)\n",
    "reviewContent.columns=['user_id', 'prod_id','date','review']"
   ]
  },
  {
   "cell_type": "markdown",
   "metadata": {},
   "source": [
    "### Step 1: DataFrame"
   ]
  },
  {
   "cell_type": "code",
   "execution_count": 99,
   "metadata": {},
   "outputs": [],
   "source": [
    "#merge reviewContent and metadata together\n",
    "data=pd.merge(reviewContent,metadata,on=['user_id', 'prod_id','date'])"
   ]
  },
  {
   "cell_type": "code",
   "execution_count": 7,
   "metadata": {
    "scrolled": true
   },
   "outputs": [
    {
     "name": "stdout",
     "output_type": "stream",
     "text": [
      "<class 'pandas.core.frame.DataFrame'>\n",
      "Int64Index: 608458 entries, 0 to 608457\n",
      "Data columns (total 6 columns):\n",
      " #   Column   Non-Null Count   Dtype  \n",
      "---  ------   --------------   -----  \n",
      " 0   user_id  608458 non-null  int64  \n",
      " 1   prod_id  608458 non-null  int64  \n",
      " 2   date     608458 non-null  object \n",
      " 3   review   608458 non-null  object \n",
      " 4   rating   608458 non-null  float64\n",
      " 5   label    608458 non-null  int64  \n",
      "dtypes: float64(1), int64(3), object(2)\n",
      "memory usage: 32.5+ MB\n"
     ]
    }
   ],
   "source": [
    "# check the data description\n",
    "# no missing values. Good news!\n",
    "data.info()"
   ]
  },
  {
   "cell_type": "code",
   "execution_count": 100,
   "metadata": {},
   "outputs": [],
   "source": [
    "#change date to date time\n",
    "data['date'] = pd.to_datetime(data['date'])"
   ]
  },
  {
   "cell_type": "code",
   "execution_count": 101,
   "metadata": {},
   "outputs": [
    {
     "data": {
      "text/plain": [
       "260239"
      ]
     },
     "execution_count": 101,
     "metadata": {},
     "output_type": "execute_result"
    }
   ],
   "source": [
    "# number of unique users\n",
    "data['user_id'].nunique()"
   ]
  },
  {
   "cell_type": "code",
   "execution_count": 102,
   "metadata": {},
   "outputs": [
    {
     "data": {
      "text/plain": [
       "5044"
      ]
     },
     "execution_count": 102,
     "metadata": {},
     "output_type": "execute_result"
    }
   ],
   "source": [
    "# number of unique product id\n",
    "data['prod_id'].nunique()"
   ]
  },
  {
   "cell_type": "code",
   "execution_count": 103,
   "metadata": {
    "scrolled": true
   },
   "outputs": [
    {
     "data": {
      "text/plain": [
       " 1    528019\n",
       "-1     80439\n",
       "Name: label, dtype: int64"
      ]
     },
     "execution_count": 103,
     "metadata": {},
     "output_type": "execute_result"
    }
   ],
   "source": [
    "data['label'].value_counts()\n",
    "#1 is ham and -1 is scam"
   ]
  },
  {
   "cell_type": "code",
   "execution_count": 1,
   "metadata": {},
   "outputs": [
    {
     "data": {
      "text/plain": [
       "0.13220140091838714"
      ]
     },
     "execution_count": 1,
     "metadata": {},
     "output_type": "execute_result"
    }
   ],
   "source": [
    "# only 13% of the data belongs to -1 class\n",
    "80439/(528019+80439)"
   ]
  },
  {
   "cell_type": "markdown",
   "metadata": {},
   "source": [
    "### Step 2: Feature Engineering\n",
    "\n",
    "**Part I: Reviewer-centric features**\n",
    "1. Maximum number of reviews in a day (1)\n",
    "2. Percentage of reviews with positive / negative ratings (2)\n",
    "3. Average review length (1)\n",
    "4. Standard deviation of ratings of the reviewer’s reviews (1)"
   ]
  },
  {
   "cell_type": "code",
   "execution_count": 11,
   "metadata": {},
   "outputs": [
    {
     "data": {
      "text/html": [
       "<div>\n",
       "<style scoped>\n",
       "    .dataframe tbody tr th:only-of-type {\n",
       "        vertical-align: middle;\n",
       "    }\n",
       "\n",
       "    .dataframe tbody tr th {\n",
       "        vertical-align: top;\n",
       "    }\n",
       "\n",
       "    .dataframe thead th {\n",
       "        text-align: right;\n",
       "    }\n",
       "</style>\n",
       "<table border=\"1\" class=\"dataframe\">\n",
       "  <thead>\n",
       "    <tr style=\"text-align: right;\">\n",
       "      <th></th>\n",
       "      <th>user_id</th>\n",
       "      <th>prod_id</th>\n",
       "      <th>date</th>\n",
       "      <th>review</th>\n",
       "      <th>rating</th>\n",
       "      <th>label</th>\n",
       "    </tr>\n",
       "  </thead>\n",
       "  <tbody>\n",
       "    <tr>\n",
       "      <th>0</th>\n",
       "      <td>5044</td>\n",
       "      <td>0</td>\n",
       "      <td>2014-11-16</td>\n",
       "      <td>Drinks were bad, the hot chocolate was watered...</td>\n",
       "      <td>1.0</td>\n",
       "      <td>-1</td>\n",
       "    </tr>\n",
       "    <tr>\n",
       "      <th>1</th>\n",
       "      <td>5045</td>\n",
       "      <td>0</td>\n",
       "      <td>2014-09-08</td>\n",
       "      <td>This was the worst experience I've ever had a ...</td>\n",
       "      <td>1.0</td>\n",
       "      <td>-1</td>\n",
       "    </tr>\n",
       "    <tr>\n",
       "      <th>2</th>\n",
       "      <td>5046</td>\n",
       "      <td>0</td>\n",
       "      <td>2013-10-06</td>\n",
       "      <td>This is located on the site of the old Spruce ...</td>\n",
       "      <td>3.0</td>\n",
       "      <td>-1</td>\n",
       "    </tr>\n",
       "    <tr>\n",
       "      <th>3</th>\n",
       "      <td>5047</td>\n",
       "      <td>0</td>\n",
       "      <td>2014-11-30</td>\n",
       "      <td>I enjoyed coffee and breakfast twice at Toast ...</td>\n",
       "      <td>5.0</td>\n",
       "      <td>-1</td>\n",
       "    </tr>\n",
       "    <tr>\n",
       "      <th>4</th>\n",
       "      <td>5048</td>\n",
       "      <td>0</td>\n",
       "      <td>2014-08-28</td>\n",
       "      <td>I love Toast! The food choices are fantastic -...</td>\n",
       "      <td>5.0</td>\n",
       "      <td>-1</td>\n",
       "    </tr>\n",
       "  </tbody>\n",
       "</table>\n",
       "</div>"
      ],
      "text/plain": [
       "   user_id  prod_id       date  \\\n",
       "0     5044        0 2014-11-16   \n",
       "1     5045        0 2014-09-08   \n",
       "2     5046        0 2013-10-06   \n",
       "3     5047        0 2014-11-30   \n",
       "4     5048        0 2014-08-28   \n",
       "\n",
       "                                              review  rating  label  \n",
       "0  Drinks were bad, the hot chocolate was watered...     1.0     -1  \n",
       "1  This was the worst experience I've ever had a ...     1.0     -1  \n",
       "2  This is located on the site of the old Spruce ...     3.0     -1  \n",
       "3  I enjoyed coffee and breakfast twice at Toast ...     5.0     -1  \n",
       "4  I love Toast! The food choices are fantastic -...     5.0     -1  "
      ]
     },
     "execution_count": 11,
     "metadata": {},
     "output_type": "execute_result"
    }
   ],
   "source": [
    "data.head()"
   ]
  },
  {
   "cell_type": "code",
   "execution_count": 84,
   "metadata": {
    "scrolled": true
   },
   "outputs": [],
   "source": [
    "#1. Maximum number of reviews in a day\n",
    "review_day=data.groupby(['user_id','date']).count().sort_values(by='review').reset_index()"
   ]
  },
  {
   "cell_type": "code",
   "execution_count": 85,
   "metadata": {},
   "outputs": [],
   "source": [
    "max_review=review_day.groupby('user_id').max().reset_index()[['user_id','review']]\n",
    "max_review.rename(columns={'review':'max_review_on_a_day'},inplace=True)\n",
    "\n",
    "#merge max_review with data\n",
    "data=pd.merge(data,max_review,on=['user_id'])"
   ]
  },
  {
   "cell_type": "code",
   "execution_count": 14,
   "metadata": {},
   "outputs": [],
   "source": [
    "#2. Percentage of reviews with positive / negative ratings (2)\n",
    "\n",
    "#Assuming positive rating is rating >4 and negative rating is rating <4"
   ]
  },
  {
   "cell_type": "code",
   "execution_count": 15,
   "metadata": {
    "scrolled": false
   },
   "outputs": [
    {
     "data": {
      "text/plain": [
       "rating\n",
       "negative     78577\n",
       "neutral      83117\n",
       "positive    446764\n",
       "Name: rating, dtype: int64"
      ]
     },
     "execution_count": 15,
     "metadata": {},
     "output_type": "execute_result"
    }
   ],
   "source": [
    "(data.groupby(data['rating']\n",
    "    .apply(lambda x: 'negative' if x < 3 else 'positive' if x > 3 else 'neutral'))['rating']\n",
    "    .count())"
   ]
  },
  {
   "cell_type": "code",
   "execution_count": 86,
   "metadata": {
    "scrolled": true
   },
   "outputs": [
    {
     "data": {
      "text/html": [
       "<div>\n",
       "<style scoped>\n",
       "    .dataframe tbody tr th:only-of-type {\n",
       "        vertical-align: middle;\n",
       "    }\n",
       "\n",
       "    .dataframe tbody tr th {\n",
       "        vertical-align: top;\n",
       "    }\n",
       "\n",
       "    .dataframe thead th {\n",
       "        text-align: right;\n",
       "    }\n",
       "</style>\n",
       "<table border=\"1\" class=\"dataframe\">\n",
       "  <thead>\n",
       "    <tr style=\"text-align: right;\">\n",
       "      <th></th>\n",
       "      <th>user_id</th>\n",
       "      <th>prod_id</th>\n",
       "      <th>date</th>\n",
       "      <th>review</th>\n",
       "      <th>rating</th>\n",
       "      <th>label</th>\n",
       "      <th>max_review_on_a_day</th>\n",
       "      <th>review_count</th>\n",
       "    </tr>\n",
       "  </thead>\n",
       "  <tbody>\n",
       "    <tr>\n",
       "      <th>0</th>\n",
       "      <td>5044</td>\n",
       "      <td>0</td>\n",
       "      <td>2014-11-16</td>\n",
       "      <td>Drinks were bad, the hot chocolate was watered...</td>\n",
       "      <td>1.0</td>\n",
       "      <td>-1</td>\n",
       "      <td>1</td>\n",
       "      <td>1</td>\n",
       "    </tr>\n",
       "    <tr>\n",
       "      <th>1</th>\n",
       "      <td>5045</td>\n",
       "      <td>0</td>\n",
       "      <td>2014-09-08</td>\n",
       "      <td>This was the worst experience I've ever had a ...</td>\n",
       "      <td>1.0</td>\n",
       "      <td>-1</td>\n",
       "      <td>1</td>\n",
       "      <td>1</td>\n",
       "    </tr>\n",
       "    <tr>\n",
       "      <th>2</th>\n",
       "      <td>5046</td>\n",
       "      <td>0</td>\n",
       "      <td>2013-10-06</td>\n",
       "      <td>This is located on the site of the old Spruce ...</td>\n",
       "      <td>3.0</td>\n",
       "      <td>-1</td>\n",
       "      <td>1</td>\n",
       "      <td>4</td>\n",
       "    </tr>\n",
       "    <tr>\n",
       "      <th>3</th>\n",
       "      <td>5046</td>\n",
       "      <td>376</td>\n",
       "      <td>2013-11-02</td>\n",
       "      <td>I am becoming frustrated with yelp.  I placed ...</td>\n",
       "      <td>3.0</td>\n",
       "      <td>-1</td>\n",
       "      <td>1</td>\n",
       "      <td>4</td>\n",
       "    </tr>\n",
       "    <tr>\n",
       "      <th>4</th>\n",
       "      <td>5046</td>\n",
       "      <td>716</td>\n",
       "      <td>2013-10-02</td>\n",
       "      <td>The pumpkin pancakes are quite good but the pl...</td>\n",
       "      <td>3.0</td>\n",
       "      <td>-1</td>\n",
       "      <td>1</td>\n",
       "      <td>4</td>\n",
       "    </tr>\n",
       "  </tbody>\n",
       "</table>\n",
       "</div>"
      ],
      "text/plain": [
       "   user_id  prod_id       date  \\\n",
       "0     5044        0 2014-11-16   \n",
       "1     5045        0 2014-09-08   \n",
       "2     5046        0 2013-10-06   \n",
       "3     5046      376 2013-11-02   \n",
       "4     5046      716 2013-10-02   \n",
       "\n",
       "                                              review  rating  label  \\\n",
       "0  Drinks were bad, the hot chocolate was watered...     1.0     -1   \n",
       "1  This was the worst experience I've ever had a ...     1.0     -1   \n",
       "2  This is located on the site of the old Spruce ...     3.0     -1   \n",
       "3  I am becoming frustrated with yelp.  I placed ...     3.0     -1   \n",
       "4  The pumpkin pancakes are quite good but the pl...     3.0     -1   \n",
       "\n",
       "   max_review_on_a_day  review_count  \n",
       "0                    1             1  \n",
       "1                    1             1  \n",
       "2                    1             4  \n",
       "3                    1             4  \n",
       "4                    1             4  "
      ]
     },
     "execution_count": 86,
     "metadata": {},
     "output_type": "execute_result"
    }
   ],
   "source": [
    "# count number of reviews each user_id had written\n",
    "d=data.groupby('user_id').count().reset_index()[['user_id','review']]\n",
    "d.rename(columns={'review':'review_count'},inplace=True)\n",
    "\n",
    "#merge review_count with data\n",
    "data=pd.merge(data,d,on=['user_id'])\n",
    "data.head()"
   ]
  },
  {
   "cell_type": "code",
   "execution_count": 87,
   "metadata": {},
   "outputs": [],
   "source": [
    "# if a rating is less than 3 then label it negative, if greater than 3 then label it positive\n",
    "# else neutral\n",
    "data['rating_cat']=data['rating'].apply(lambda x:'negative' if x < 3 else 'positive' if x > 3 else 'neutral')"
   ]
  },
  {
   "cell_type": "code",
   "execution_count": 18,
   "metadata": {
    "scrolled": true
   },
   "outputs": [
    {
     "data": {
      "text/html": [
       "<div>\n",
       "<style scoped>\n",
       "    .dataframe tbody tr th:only-of-type {\n",
       "        vertical-align: middle;\n",
       "    }\n",
       "\n",
       "    .dataframe tbody tr th {\n",
       "        vertical-align: top;\n",
       "    }\n",
       "\n",
       "    .dataframe thead th {\n",
       "        text-align: right;\n",
       "    }\n",
       "</style>\n",
       "<table border=\"1\" class=\"dataframe\">\n",
       "  <thead>\n",
       "    <tr style=\"text-align: right;\">\n",
       "      <th></th>\n",
       "      <th>user_id</th>\n",
       "      <th>prod_id</th>\n",
       "      <th>date</th>\n",
       "      <th>review</th>\n",
       "      <th>rating</th>\n",
       "      <th>label</th>\n",
       "      <th>max_review_on_a_day</th>\n",
       "      <th>review_count</th>\n",
       "      <th>rating_cat</th>\n",
       "    </tr>\n",
       "  </thead>\n",
       "  <tbody>\n",
       "    <tr>\n",
       "      <th>0</th>\n",
       "      <td>5044</td>\n",
       "      <td>0</td>\n",
       "      <td>2014-11-16</td>\n",
       "      <td>Drinks were bad, the hot chocolate was watered...</td>\n",
       "      <td>1.0</td>\n",
       "      <td>-1</td>\n",
       "      <td>1</td>\n",
       "      <td>1</td>\n",
       "      <td>negative</td>\n",
       "    </tr>\n",
       "    <tr>\n",
       "      <th>1</th>\n",
       "      <td>5045</td>\n",
       "      <td>0</td>\n",
       "      <td>2014-09-08</td>\n",
       "      <td>This was the worst experience I've ever had a ...</td>\n",
       "      <td>1.0</td>\n",
       "      <td>-1</td>\n",
       "      <td>1</td>\n",
       "      <td>1</td>\n",
       "      <td>negative</td>\n",
       "    </tr>\n",
       "    <tr>\n",
       "      <th>2</th>\n",
       "      <td>5046</td>\n",
       "      <td>0</td>\n",
       "      <td>2013-10-06</td>\n",
       "      <td>This is located on the site of the old Spruce ...</td>\n",
       "      <td>3.0</td>\n",
       "      <td>-1</td>\n",
       "      <td>1</td>\n",
       "      <td>4</td>\n",
       "      <td>neutral</td>\n",
       "    </tr>\n",
       "    <tr>\n",
       "      <th>3</th>\n",
       "      <td>5046</td>\n",
       "      <td>376</td>\n",
       "      <td>2013-11-02</td>\n",
       "      <td>I am becoming frustrated with yelp.  I placed ...</td>\n",
       "      <td>3.0</td>\n",
       "      <td>-1</td>\n",
       "      <td>1</td>\n",
       "      <td>4</td>\n",
       "      <td>neutral</td>\n",
       "    </tr>\n",
       "    <tr>\n",
       "      <th>4</th>\n",
       "      <td>5046</td>\n",
       "      <td>716</td>\n",
       "      <td>2013-10-02</td>\n",
       "      <td>The pumpkin pancakes are quite good but the pl...</td>\n",
       "      <td>3.0</td>\n",
       "      <td>-1</td>\n",
       "      <td>1</td>\n",
       "      <td>4</td>\n",
       "      <td>neutral</td>\n",
       "    </tr>\n",
       "  </tbody>\n",
       "</table>\n",
       "</div>"
      ],
      "text/plain": [
       "   user_id  prod_id       date  \\\n",
       "0     5044        0 2014-11-16   \n",
       "1     5045        0 2014-09-08   \n",
       "2     5046        0 2013-10-06   \n",
       "3     5046      376 2013-11-02   \n",
       "4     5046      716 2013-10-02   \n",
       "\n",
       "                                              review  rating  label  \\\n",
       "0  Drinks were bad, the hot chocolate was watered...     1.0     -1   \n",
       "1  This was the worst experience I've ever had a ...     1.0     -1   \n",
       "2  This is located on the site of the old Spruce ...     3.0     -1   \n",
       "3  I am becoming frustrated with yelp.  I placed ...     3.0     -1   \n",
       "4  The pumpkin pancakes are quite good but the pl...     3.0     -1   \n",
       "\n",
       "   max_review_on_a_day  review_count rating_cat  \n",
       "0                    1             1   negative  \n",
       "1                    1             1   negative  \n",
       "2                    1             4    neutral  \n",
       "3                    1             4    neutral  \n",
       "4                    1             4    neutral  "
      ]
     },
     "execution_count": 18,
     "metadata": {},
     "output_type": "execute_result"
    }
   ],
   "source": [
    "data.head()"
   ]
  },
  {
   "cell_type": "code",
   "execution_count": 19,
   "metadata": {},
   "outputs": [
    {
     "data": {
      "text/plain": [
       "5.0    229364\n",
       "4.0    217400\n",
       "3.0     83117\n",
       "2.0     42982\n",
       "1.0     35595\n",
       "Name: rating, dtype: int64"
      ]
     },
     "execution_count": 19,
     "metadata": {},
     "output_type": "execute_result"
    }
   ],
   "source": [
    "data.rating.value_counts()"
   ]
  },
  {
   "cell_type": "code",
   "execution_count": 88,
   "metadata": {},
   "outputs": [],
   "source": [
    "# count number of negative reviews for each user_id\n",
    "neg_review_count=data.groupby('user_id')['rating_cat'].apply(lambda x: (x=='negative').sum()).reset_index(name='count')['count'].to_list()\n",
    "# count number of positive reviews for each user_id\n",
    "pos_review_count=data.groupby('user_id')['rating_cat'].apply(lambda x: (x=='positive').sum()).reset_index(name='count')['count'].to_list()\n",
    "# count number of neutral reviews for each user_id\n",
    "neu_review_count=data.groupby('user_id')['rating_cat'].apply(lambda x: (x=='neutral').sum()).reset_index(name='count')['count'].to_list()"
   ]
  },
  {
   "cell_type": "code",
   "execution_count": 89,
   "metadata": {},
   "outputs": [],
   "source": [
    "review_df=data.groupby('user_id').count().reset_index()[['user_id','review']]"
   ]
  },
  {
   "cell_type": "code",
   "execution_count": 90,
   "metadata": {},
   "outputs": [],
   "source": [
    "review_df['neg_review_count']=neg_review_count\n",
    "review_df['pos_review_count']=pos_review_count\n",
    "review_df['neu_review_count']=neu_review_count"
   ]
  },
  {
   "cell_type": "code",
   "execution_count": 23,
   "metadata": {},
   "outputs": [
    {
     "data": {
      "text/html": [
       "<div>\n",
       "<style scoped>\n",
       "    .dataframe tbody tr th:only-of-type {\n",
       "        vertical-align: middle;\n",
       "    }\n",
       "\n",
       "    .dataframe tbody tr th {\n",
       "        vertical-align: top;\n",
       "    }\n",
       "\n",
       "    .dataframe thead th {\n",
       "        text-align: right;\n",
       "    }\n",
       "</style>\n",
       "<table border=\"1\" class=\"dataframe\">\n",
       "  <thead>\n",
       "    <tr style=\"text-align: right;\">\n",
       "      <th></th>\n",
       "      <th>user_id</th>\n",
       "      <th>review</th>\n",
       "      <th>neg_review_count</th>\n",
       "      <th>pos_review_count</th>\n",
       "      <th>neu_review_count</th>\n",
       "    </tr>\n",
       "  </thead>\n",
       "  <tbody>\n",
       "    <tr>\n",
       "      <th>0</th>\n",
       "      <td>5044</td>\n",
       "      <td>1</td>\n",
       "      <td>1</td>\n",
       "      <td>0</td>\n",
       "      <td>0</td>\n",
       "    </tr>\n",
       "    <tr>\n",
       "      <th>1</th>\n",
       "      <td>5045</td>\n",
       "      <td>1</td>\n",
       "      <td>1</td>\n",
       "      <td>0</td>\n",
       "      <td>0</td>\n",
       "    </tr>\n",
       "    <tr>\n",
       "      <th>2</th>\n",
       "      <td>5046</td>\n",
       "      <td>4</td>\n",
       "      <td>0</td>\n",
       "      <td>1</td>\n",
       "      <td>3</td>\n",
       "    </tr>\n",
       "    <tr>\n",
       "      <th>3</th>\n",
       "      <td>5047</td>\n",
       "      <td>1</td>\n",
       "      <td>0</td>\n",
       "      <td>1</td>\n",
       "      <td>0</td>\n",
       "    </tr>\n",
       "    <tr>\n",
       "      <th>4</th>\n",
       "      <td>5048</td>\n",
       "      <td>1</td>\n",
       "      <td>0</td>\n",
       "      <td>1</td>\n",
       "      <td>0</td>\n",
       "    </tr>\n",
       "  </tbody>\n",
       "</table>\n",
       "</div>"
      ],
      "text/plain": [
       "   user_id  review  neg_review_count  pos_review_count  neu_review_count\n",
       "0     5044       1                 1                 0                 0\n",
       "1     5045       1                 1                 0                 0\n",
       "2     5046       4                 0                 1                 3\n",
       "3     5047       1                 0                 1                 0\n",
       "4     5048       1                 0                 1                 0"
      ]
     },
     "execution_count": 23,
     "metadata": {},
     "output_type": "execute_result"
    }
   ],
   "source": [
    "review_df.head()"
   ]
  },
  {
   "cell_type": "code",
   "execution_count": 91,
   "metadata": {},
   "outputs": [],
   "source": [
    "review_df['neg_rating_percentage']=review_df['neg_review_count']/review_df['review']\n",
    "review_df['pos_rating_percentage']=review_df['pos_review_count']/review_df['review']\n",
    "review_df['neu_rating_percentage']=review_df['neu_review_count']/review_df['review']"
   ]
  },
  {
   "cell_type": "code",
   "execution_count": 92,
   "metadata": {},
   "outputs": [],
   "source": [
    "review_df.drop(['neg_review_count','pos_review_count',\n",
    "          'neu_review_count','review'],axis=1,inplace=True)"
   ]
  },
  {
   "cell_type": "code",
   "execution_count": 26,
   "metadata": {},
   "outputs": [
    {
     "data": {
      "text/html": [
       "<div>\n",
       "<style scoped>\n",
       "    .dataframe tbody tr th:only-of-type {\n",
       "        vertical-align: middle;\n",
       "    }\n",
       "\n",
       "    .dataframe tbody tr th {\n",
       "        vertical-align: top;\n",
       "    }\n",
       "\n",
       "    .dataframe thead th {\n",
       "        text-align: right;\n",
       "    }\n",
       "</style>\n",
       "<table border=\"1\" class=\"dataframe\">\n",
       "  <thead>\n",
       "    <tr style=\"text-align: right;\">\n",
       "      <th></th>\n",
       "      <th>user_id</th>\n",
       "      <th>neg_rating_percentage</th>\n",
       "      <th>pos_rating_percentage</th>\n",
       "      <th>neu_rating_percentage</th>\n",
       "    </tr>\n",
       "  </thead>\n",
       "  <tbody>\n",
       "    <tr>\n",
       "      <th>0</th>\n",
       "      <td>5044</td>\n",
       "      <td>1.0</td>\n",
       "      <td>0.00</td>\n",
       "      <td>0.00</td>\n",
       "    </tr>\n",
       "    <tr>\n",
       "      <th>1</th>\n",
       "      <td>5045</td>\n",
       "      <td>1.0</td>\n",
       "      <td>0.00</td>\n",
       "      <td>0.00</td>\n",
       "    </tr>\n",
       "    <tr>\n",
       "      <th>2</th>\n",
       "      <td>5046</td>\n",
       "      <td>0.0</td>\n",
       "      <td>0.25</td>\n",
       "      <td>0.75</td>\n",
       "    </tr>\n",
       "    <tr>\n",
       "      <th>3</th>\n",
       "      <td>5047</td>\n",
       "      <td>0.0</td>\n",
       "      <td>1.00</td>\n",
       "      <td>0.00</td>\n",
       "    </tr>\n",
       "    <tr>\n",
       "      <th>4</th>\n",
       "      <td>5048</td>\n",
       "      <td>0.0</td>\n",
       "      <td>1.00</td>\n",
       "      <td>0.00</td>\n",
       "    </tr>\n",
       "  </tbody>\n",
       "</table>\n",
       "</div>"
      ],
      "text/plain": [
       "   user_id  neg_rating_percentage  pos_rating_percentage  \\\n",
       "0     5044                    1.0                   0.00   \n",
       "1     5045                    1.0                   0.00   \n",
       "2     5046                    0.0                   0.25   \n",
       "3     5047                    0.0                   1.00   \n",
       "4     5048                    0.0                   1.00   \n",
       "\n",
       "   neu_rating_percentage  \n",
       "0                   0.00  \n",
       "1                   0.00  \n",
       "2                   0.75  \n",
       "3                   0.00  \n",
       "4                   0.00  "
      ]
     },
     "execution_count": 26,
     "metadata": {},
     "output_type": "execute_result"
    }
   ],
   "source": [
    "review_df.head()"
   ]
  },
  {
   "cell_type": "code",
   "execution_count": 93,
   "metadata": {},
   "outputs": [],
   "source": [
    "# merge review_df\n",
    "data=pd.merge(data,review_df,on=['user_id'])"
   ]
  },
  {
   "cell_type": "code",
   "execution_count": 28,
   "metadata": {},
   "outputs": [
    {
     "data": {
      "text/html": [
       "<div>\n",
       "<style scoped>\n",
       "    .dataframe tbody tr th:only-of-type {\n",
       "        vertical-align: middle;\n",
       "    }\n",
       "\n",
       "    .dataframe tbody tr th {\n",
       "        vertical-align: top;\n",
       "    }\n",
       "\n",
       "    .dataframe thead th {\n",
       "        text-align: right;\n",
       "    }\n",
       "</style>\n",
       "<table border=\"1\" class=\"dataframe\">\n",
       "  <thead>\n",
       "    <tr style=\"text-align: right;\">\n",
       "      <th></th>\n",
       "      <th>user_id</th>\n",
       "      <th>prod_id</th>\n",
       "      <th>date</th>\n",
       "      <th>review</th>\n",
       "      <th>rating</th>\n",
       "      <th>label</th>\n",
       "      <th>max_review_on_a_day</th>\n",
       "      <th>review_count</th>\n",
       "      <th>rating_cat</th>\n",
       "      <th>neg_rating_percentage</th>\n",
       "      <th>pos_rating_percentage</th>\n",
       "      <th>neu_rating_percentage</th>\n",
       "    </tr>\n",
       "  </thead>\n",
       "  <tbody>\n",
       "    <tr>\n",
       "      <th>0</th>\n",
       "      <td>5044</td>\n",
       "      <td>0</td>\n",
       "      <td>2014-11-16</td>\n",
       "      <td>Drinks were bad, the hot chocolate was watered...</td>\n",
       "      <td>1.0</td>\n",
       "      <td>-1</td>\n",
       "      <td>1</td>\n",
       "      <td>1</td>\n",
       "      <td>negative</td>\n",
       "      <td>1.0</td>\n",
       "      <td>0.00</td>\n",
       "      <td>0.00</td>\n",
       "    </tr>\n",
       "    <tr>\n",
       "      <th>1</th>\n",
       "      <td>5045</td>\n",
       "      <td>0</td>\n",
       "      <td>2014-09-08</td>\n",
       "      <td>This was the worst experience I've ever had a ...</td>\n",
       "      <td>1.0</td>\n",
       "      <td>-1</td>\n",
       "      <td>1</td>\n",
       "      <td>1</td>\n",
       "      <td>negative</td>\n",
       "      <td>1.0</td>\n",
       "      <td>0.00</td>\n",
       "      <td>0.00</td>\n",
       "    </tr>\n",
       "    <tr>\n",
       "      <th>2</th>\n",
       "      <td>5046</td>\n",
       "      <td>0</td>\n",
       "      <td>2013-10-06</td>\n",
       "      <td>This is located on the site of the old Spruce ...</td>\n",
       "      <td>3.0</td>\n",
       "      <td>-1</td>\n",
       "      <td>1</td>\n",
       "      <td>4</td>\n",
       "      <td>neutral</td>\n",
       "      <td>0.0</td>\n",
       "      <td>0.25</td>\n",
       "      <td>0.75</td>\n",
       "    </tr>\n",
       "    <tr>\n",
       "      <th>3</th>\n",
       "      <td>5046</td>\n",
       "      <td>376</td>\n",
       "      <td>2013-11-02</td>\n",
       "      <td>I am becoming frustrated with yelp.  I placed ...</td>\n",
       "      <td>3.0</td>\n",
       "      <td>-1</td>\n",
       "      <td>1</td>\n",
       "      <td>4</td>\n",
       "      <td>neutral</td>\n",
       "      <td>0.0</td>\n",
       "      <td>0.25</td>\n",
       "      <td>0.75</td>\n",
       "    </tr>\n",
       "    <tr>\n",
       "      <th>4</th>\n",
       "      <td>5046</td>\n",
       "      <td>716</td>\n",
       "      <td>2013-10-02</td>\n",
       "      <td>The pumpkin pancakes are quite good but the pl...</td>\n",
       "      <td>3.0</td>\n",
       "      <td>-1</td>\n",
       "      <td>1</td>\n",
       "      <td>4</td>\n",
       "      <td>neutral</td>\n",
       "      <td>0.0</td>\n",
       "      <td>0.25</td>\n",
       "      <td>0.75</td>\n",
       "    </tr>\n",
       "  </tbody>\n",
       "</table>\n",
       "</div>"
      ],
      "text/plain": [
       "   user_id  prod_id       date  \\\n",
       "0     5044        0 2014-11-16   \n",
       "1     5045        0 2014-09-08   \n",
       "2     5046        0 2013-10-06   \n",
       "3     5046      376 2013-11-02   \n",
       "4     5046      716 2013-10-02   \n",
       "\n",
       "                                              review  rating  label  \\\n",
       "0  Drinks were bad, the hot chocolate was watered...     1.0     -1   \n",
       "1  This was the worst experience I've ever had a ...     1.0     -1   \n",
       "2  This is located on the site of the old Spruce ...     3.0     -1   \n",
       "3  I am becoming frustrated with yelp.  I placed ...     3.0     -1   \n",
       "4  The pumpkin pancakes are quite good but the pl...     3.0     -1   \n",
       "\n",
       "   max_review_on_a_day  review_count rating_cat  neg_rating_percentage  \\\n",
       "0                    1             1   negative                    1.0   \n",
       "1                    1             1   negative                    1.0   \n",
       "2                    1             4    neutral                    0.0   \n",
       "3                    1             4    neutral                    0.0   \n",
       "4                    1             4    neutral                    0.0   \n",
       "\n",
       "   pos_rating_percentage  neu_rating_percentage  \n",
       "0                   0.00                   0.00  \n",
       "1                   0.00                   0.00  \n",
       "2                   0.25                   0.75  \n",
       "3                   0.25                   0.75  \n",
       "4                   0.25                   0.75  "
      ]
     },
     "execution_count": 28,
     "metadata": {},
     "output_type": "execute_result"
    }
   ],
   "source": [
    "data.head()"
   ]
  },
  {
   "cell_type": "code",
   "execution_count": 94,
   "metadata": {},
   "outputs": [],
   "source": [
    "#3. Average review length \n",
    "data['review_len']=data['review'].apply(lambda x: len(x))"
   ]
  },
  {
   "cell_type": "code",
   "execution_count": 95,
   "metadata": {},
   "outputs": [
    {
     "data": {
      "text/html": [
       "<div>\n",
       "<style scoped>\n",
       "    .dataframe tbody tr th:only-of-type {\n",
       "        vertical-align: middle;\n",
       "    }\n",
       "\n",
       "    .dataframe tbody tr th {\n",
       "        vertical-align: top;\n",
       "    }\n",
       "\n",
       "    .dataframe thead th {\n",
       "        text-align: right;\n",
       "    }\n",
       "</style>\n",
       "<table border=\"1\" class=\"dataframe\">\n",
       "  <thead>\n",
       "    <tr style=\"text-align: right;\">\n",
       "      <th></th>\n",
       "      <th>user_id</th>\n",
       "      <th>prod_id</th>\n",
       "      <th>date</th>\n",
       "      <th>review</th>\n",
       "      <th>rating</th>\n",
       "      <th>label</th>\n",
       "      <th>max_review_on_a_day</th>\n",
       "      <th>review_count</th>\n",
       "      <th>rating_cat</th>\n",
       "      <th>neg_rating_percentage</th>\n",
       "      <th>pos_rating_percentage</th>\n",
       "      <th>neu_rating_percentage</th>\n",
       "      <th>review_len</th>\n",
       "      <th>avg_review_len</th>\n",
       "    </tr>\n",
       "  </thead>\n",
       "  <tbody>\n",
       "    <tr>\n",
       "      <th>0</th>\n",
       "      <td>5044</td>\n",
       "      <td>0</td>\n",
       "      <td>2014-11-16</td>\n",
       "      <td>Drinks were bad, the hot chocolate was watered...</td>\n",
       "      <td>1.0</td>\n",
       "      <td>-1</td>\n",
       "      <td>1</td>\n",
       "      <td>1</td>\n",
       "      <td>negative</td>\n",
       "      <td>1.0</td>\n",
       "      <td>0.00</td>\n",
       "      <td>0.00</td>\n",
       "      <td>187</td>\n",
       "      <td>187.0</td>\n",
       "    </tr>\n",
       "    <tr>\n",
       "      <th>1</th>\n",
       "      <td>5045</td>\n",
       "      <td>0</td>\n",
       "      <td>2014-09-08</td>\n",
       "      <td>This was the worst experience I've ever had a ...</td>\n",
       "      <td>1.0</td>\n",
       "      <td>-1</td>\n",
       "      <td>1</td>\n",
       "      <td>1</td>\n",
       "      <td>negative</td>\n",
       "      <td>1.0</td>\n",
       "      <td>0.00</td>\n",
       "      <td>0.00</td>\n",
       "      <td>1375</td>\n",
       "      <td>1375.0</td>\n",
       "    </tr>\n",
       "    <tr>\n",
       "      <th>2</th>\n",
       "      <td>5046</td>\n",
       "      <td>0</td>\n",
       "      <td>2013-10-06</td>\n",
       "      <td>This is located on the site of the old Spruce ...</td>\n",
       "      <td>3.0</td>\n",
       "      <td>-1</td>\n",
       "      <td>1</td>\n",
       "      <td>4</td>\n",
       "      <td>neutral</td>\n",
       "      <td>0.0</td>\n",
       "      <td>0.25</td>\n",
       "      <td>0.75</td>\n",
       "      <td>257</td>\n",
       "      <td>245.5</td>\n",
       "    </tr>\n",
       "    <tr>\n",
       "      <th>3</th>\n",
       "      <td>5046</td>\n",
       "      <td>376</td>\n",
       "      <td>2013-11-02</td>\n",
       "      <td>I am becoming frustrated with yelp.  I placed ...</td>\n",
       "      <td>3.0</td>\n",
       "      <td>-1</td>\n",
       "      <td>1</td>\n",
       "      <td>4</td>\n",
       "      <td>neutral</td>\n",
       "      <td>0.0</td>\n",
       "      <td>0.25</td>\n",
       "      <td>0.75</td>\n",
       "      <td>352</td>\n",
       "      <td>245.5</td>\n",
       "    </tr>\n",
       "    <tr>\n",
       "      <th>4</th>\n",
       "      <td>5046</td>\n",
       "      <td>716</td>\n",
       "      <td>2013-10-02</td>\n",
       "      <td>The pumpkin pancakes are quite good but the pl...</td>\n",
       "      <td>3.0</td>\n",
       "      <td>-1</td>\n",
       "      <td>1</td>\n",
       "      <td>4</td>\n",
       "      <td>neutral</td>\n",
       "      <td>0.0</td>\n",
       "      <td>0.25</td>\n",
       "      <td>0.75</td>\n",
       "      <td>154</td>\n",
       "      <td>245.5</td>\n",
       "    </tr>\n",
       "  </tbody>\n",
       "</table>\n",
       "</div>"
      ],
      "text/plain": [
       "   user_id  prod_id       date  \\\n",
       "0     5044        0 2014-11-16   \n",
       "1     5045        0 2014-09-08   \n",
       "2     5046        0 2013-10-06   \n",
       "3     5046      376 2013-11-02   \n",
       "4     5046      716 2013-10-02   \n",
       "\n",
       "                                              review  rating  label  \\\n",
       "0  Drinks were bad, the hot chocolate was watered...     1.0     -1   \n",
       "1  This was the worst experience I've ever had a ...     1.0     -1   \n",
       "2  This is located on the site of the old Spruce ...     3.0     -1   \n",
       "3  I am becoming frustrated with yelp.  I placed ...     3.0     -1   \n",
       "4  The pumpkin pancakes are quite good but the pl...     3.0     -1   \n",
       "\n",
       "   max_review_on_a_day  review_count rating_cat  neg_rating_percentage  \\\n",
       "0                    1             1   negative                    1.0   \n",
       "1                    1             1   negative                    1.0   \n",
       "2                    1             4    neutral                    0.0   \n",
       "3                    1             4    neutral                    0.0   \n",
       "4                    1             4    neutral                    0.0   \n",
       "\n",
       "   pos_rating_percentage  neu_rating_percentage  review_len  avg_review_len  \n",
       "0                   0.00                   0.00         187           187.0  \n",
       "1                   0.00                   0.00        1375          1375.0  \n",
       "2                   0.25                   0.75         257           245.5  \n",
       "3                   0.25                   0.75         352           245.5  \n",
       "4                   0.25                   0.75         154           245.5  "
      ]
     },
     "execution_count": 95,
     "metadata": {},
     "output_type": "execute_result"
    }
   ],
   "source": [
    "d=data.groupby('user_id')['review_len'].mean().reset_index()\n",
    "d.rename(columns={'review_len':'avg_review_len'},inplace=True)\n",
    "data=pd.merge(data,d,on=['user_id'])\n",
    "data.head()"
   ]
  },
  {
   "cell_type": "code",
   "execution_count": 96,
   "metadata": {},
   "outputs": [
    {
     "data": {
      "text/html": [
       "<div>\n",
       "<style scoped>\n",
       "    .dataframe tbody tr th:only-of-type {\n",
       "        vertical-align: middle;\n",
       "    }\n",
       "\n",
       "    .dataframe tbody tr th {\n",
       "        vertical-align: top;\n",
       "    }\n",
       "\n",
       "    .dataframe thead th {\n",
       "        text-align: right;\n",
       "    }\n",
       "</style>\n",
       "<table border=\"1\" class=\"dataframe\">\n",
       "  <thead>\n",
       "    <tr style=\"text-align: right;\">\n",
       "      <th></th>\n",
       "      <th>user_id</th>\n",
       "      <th>prod_id</th>\n",
       "      <th>date</th>\n",
       "      <th>review</th>\n",
       "      <th>rating</th>\n",
       "      <th>label</th>\n",
       "      <th>max_review_on_a_day</th>\n",
       "      <th>review_count</th>\n",
       "      <th>rating_cat</th>\n",
       "      <th>neg_rating_percentage</th>\n",
       "      <th>pos_rating_percentage</th>\n",
       "      <th>neu_rating_percentage</th>\n",
       "      <th>review_len</th>\n",
       "      <th>avg_review_len</th>\n",
       "      <th>std_rating</th>\n",
       "    </tr>\n",
       "  </thead>\n",
       "  <tbody>\n",
       "    <tr>\n",
       "      <th>0</th>\n",
       "      <td>5044</td>\n",
       "      <td>0</td>\n",
       "      <td>2014-11-16</td>\n",
       "      <td>Drinks were bad, the hot chocolate was watered...</td>\n",
       "      <td>1.0</td>\n",
       "      <td>-1</td>\n",
       "      <td>1</td>\n",
       "      <td>1</td>\n",
       "      <td>negative</td>\n",
       "      <td>1.0</td>\n",
       "      <td>0.00</td>\n",
       "      <td>0.00</td>\n",
       "      <td>187</td>\n",
       "      <td>187.0</td>\n",
       "      <td>NaN</td>\n",
       "    </tr>\n",
       "    <tr>\n",
       "      <th>1</th>\n",
       "      <td>5045</td>\n",
       "      <td>0</td>\n",
       "      <td>2014-09-08</td>\n",
       "      <td>This was the worst experience I've ever had a ...</td>\n",
       "      <td>1.0</td>\n",
       "      <td>-1</td>\n",
       "      <td>1</td>\n",
       "      <td>1</td>\n",
       "      <td>negative</td>\n",
       "      <td>1.0</td>\n",
       "      <td>0.00</td>\n",
       "      <td>0.00</td>\n",
       "      <td>1375</td>\n",
       "      <td>1375.0</td>\n",
       "      <td>NaN</td>\n",
       "    </tr>\n",
       "    <tr>\n",
       "      <th>2</th>\n",
       "      <td>5046</td>\n",
       "      <td>0</td>\n",
       "      <td>2013-10-06</td>\n",
       "      <td>This is located on the site of the old Spruce ...</td>\n",
       "      <td>3.0</td>\n",
       "      <td>-1</td>\n",
       "      <td>1</td>\n",
       "      <td>4</td>\n",
       "      <td>neutral</td>\n",
       "      <td>0.0</td>\n",
       "      <td>0.25</td>\n",
       "      <td>0.75</td>\n",
       "      <td>257</td>\n",
       "      <td>245.5</td>\n",
       "      <td>0.5</td>\n",
       "    </tr>\n",
       "    <tr>\n",
       "      <th>3</th>\n",
       "      <td>5046</td>\n",
       "      <td>376</td>\n",
       "      <td>2013-11-02</td>\n",
       "      <td>I am becoming frustrated with yelp.  I placed ...</td>\n",
       "      <td>3.0</td>\n",
       "      <td>-1</td>\n",
       "      <td>1</td>\n",
       "      <td>4</td>\n",
       "      <td>neutral</td>\n",
       "      <td>0.0</td>\n",
       "      <td>0.25</td>\n",
       "      <td>0.75</td>\n",
       "      <td>352</td>\n",
       "      <td>245.5</td>\n",
       "      <td>0.5</td>\n",
       "    </tr>\n",
       "    <tr>\n",
       "      <th>4</th>\n",
       "      <td>5046</td>\n",
       "      <td>716</td>\n",
       "      <td>2013-10-02</td>\n",
       "      <td>The pumpkin pancakes are quite good but the pl...</td>\n",
       "      <td>3.0</td>\n",
       "      <td>-1</td>\n",
       "      <td>1</td>\n",
       "      <td>4</td>\n",
       "      <td>neutral</td>\n",
       "      <td>0.0</td>\n",
       "      <td>0.25</td>\n",
       "      <td>0.75</td>\n",
       "      <td>154</td>\n",
       "      <td>245.5</td>\n",
       "      <td>0.5</td>\n",
       "    </tr>\n",
       "  </tbody>\n",
       "</table>\n",
       "</div>"
      ],
      "text/plain": [
       "   user_id  prod_id       date  \\\n",
       "0     5044        0 2014-11-16   \n",
       "1     5045        0 2014-09-08   \n",
       "2     5046        0 2013-10-06   \n",
       "3     5046      376 2013-11-02   \n",
       "4     5046      716 2013-10-02   \n",
       "\n",
       "                                              review  rating  label  \\\n",
       "0  Drinks were bad, the hot chocolate was watered...     1.0     -1   \n",
       "1  This was the worst experience I've ever had a ...     1.0     -1   \n",
       "2  This is located on the site of the old Spruce ...     3.0     -1   \n",
       "3  I am becoming frustrated with yelp.  I placed ...     3.0     -1   \n",
       "4  The pumpkin pancakes are quite good but the pl...     3.0     -1   \n",
       "\n",
       "   max_review_on_a_day  review_count rating_cat  neg_rating_percentage  \\\n",
       "0                    1             1   negative                    1.0   \n",
       "1                    1             1   negative                    1.0   \n",
       "2                    1             4    neutral                    0.0   \n",
       "3                    1             4    neutral                    0.0   \n",
       "4                    1             4    neutral                    0.0   \n",
       "\n",
       "   pos_rating_percentage  neu_rating_percentage  review_len  avg_review_len  \\\n",
       "0                   0.00                   0.00         187           187.0   \n",
       "1                   0.00                   0.00        1375          1375.0   \n",
       "2                   0.25                   0.75         257           245.5   \n",
       "3                   0.25                   0.75         352           245.5   \n",
       "4                   0.25                   0.75         154           245.5   \n",
       "\n",
       "   std_rating  \n",
       "0         NaN  \n",
       "1         NaN  \n",
       "2         0.5  \n",
       "3         0.5  \n",
       "4         0.5  "
      ]
     },
     "execution_count": 96,
     "metadata": {},
     "output_type": "execute_result"
    }
   ],
   "source": [
    "#Standard deviation of ratings of the reviewer’s reviews \n",
    "d=data.groupby('user_id')['rating'].std().reset_index()\n",
    "d.rename(columns={'rating':'std_rating'},inplace=True)\n",
    "data=pd.merge(data,d,on=['user_id'])\n",
    "data.head()"
   ]
  },
  {
   "cell_type": "code",
   "execution_count": 97,
   "metadata": {},
   "outputs": [],
   "source": [
    "data['std_rating'] = data['std_rating'].fillna(0)"
   ]
  },
  {
   "cell_type": "code",
   "execution_count": 98,
   "metadata": {},
   "outputs": [
    {
     "data": {
      "text/html": [
       "<div>\n",
       "<style scoped>\n",
       "    .dataframe tbody tr th:only-of-type {\n",
       "        vertical-align: middle;\n",
       "    }\n",
       "\n",
       "    .dataframe tbody tr th {\n",
       "        vertical-align: top;\n",
       "    }\n",
       "\n",
       "    .dataframe thead th {\n",
       "        text-align: right;\n",
       "    }\n",
       "</style>\n",
       "<table border=\"1\" class=\"dataframe\">\n",
       "  <thead>\n",
       "    <tr style=\"text-align: right;\">\n",
       "      <th></th>\n",
       "      <th>user_id</th>\n",
       "      <th>prod_id</th>\n",
       "      <th>date</th>\n",
       "      <th>review</th>\n",
       "      <th>rating</th>\n",
       "      <th>label</th>\n",
       "      <th>max_review_on_a_day</th>\n",
       "      <th>review_count</th>\n",
       "      <th>rating_cat</th>\n",
       "      <th>neg_rating_percentage</th>\n",
       "      <th>pos_rating_percentage</th>\n",
       "      <th>neu_rating_percentage</th>\n",
       "      <th>review_len</th>\n",
       "      <th>avg_review_len</th>\n",
       "      <th>std_rating</th>\n",
       "    </tr>\n",
       "  </thead>\n",
       "  <tbody>\n",
       "    <tr>\n",
       "      <th>0</th>\n",
       "      <td>5044</td>\n",
       "      <td>0</td>\n",
       "      <td>2014-11-16</td>\n",
       "      <td>Drinks were bad, the hot chocolate was watered...</td>\n",
       "      <td>1.0</td>\n",
       "      <td>-1</td>\n",
       "      <td>1</td>\n",
       "      <td>1</td>\n",
       "      <td>negative</td>\n",
       "      <td>1.0</td>\n",
       "      <td>0.00</td>\n",
       "      <td>0.00</td>\n",
       "      <td>187</td>\n",
       "      <td>187.0</td>\n",
       "      <td>0.0</td>\n",
       "    </tr>\n",
       "    <tr>\n",
       "      <th>1</th>\n",
       "      <td>5045</td>\n",
       "      <td>0</td>\n",
       "      <td>2014-09-08</td>\n",
       "      <td>This was the worst experience I've ever had a ...</td>\n",
       "      <td>1.0</td>\n",
       "      <td>-1</td>\n",
       "      <td>1</td>\n",
       "      <td>1</td>\n",
       "      <td>negative</td>\n",
       "      <td>1.0</td>\n",
       "      <td>0.00</td>\n",
       "      <td>0.00</td>\n",
       "      <td>1375</td>\n",
       "      <td>1375.0</td>\n",
       "      <td>0.0</td>\n",
       "    </tr>\n",
       "    <tr>\n",
       "      <th>2</th>\n",
       "      <td>5046</td>\n",
       "      <td>0</td>\n",
       "      <td>2013-10-06</td>\n",
       "      <td>This is located on the site of the old Spruce ...</td>\n",
       "      <td>3.0</td>\n",
       "      <td>-1</td>\n",
       "      <td>1</td>\n",
       "      <td>4</td>\n",
       "      <td>neutral</td>\n",
       "      <td>0.0</td>\n",
       "      <td>0.25</td>\n",
       "      <td>0.75</td>\n",
       "      <td>257</td>\n",
       "      <td>245.5</td>\n",
       "      <td>0.5</td>\n",
       "    </tr>\n",
       "    <tr>\n",
       "      <th>3</th>\n",
       "      <td>5046</td>\n",
       "      <td>376</td>\n",
       "      <td>2013-11-02</td>\n",
       "      <td>I am becoming frustrated with yelp.  I placed ...</td>\n",
       "      <td>3.0</td>\n",
       "      <td>-1</td>\n",
       "      <td>1</td>\n",
       "      <td>4</td>\n",
       "      <td>neutral</td>\n",
       "      <td>0.0</td>\n",
       "      <td>0.25</td>\n",
       "      <td>0.75</td>\n",
       "      <td>352</td>\n",
       "      <td>245.5</td>\n",
       "      <td>0.5</td>\n",
       "    </tr>\n",
       "    <tr>\n",
       "      <th>4</th>\n",
       "      <td>5046</td>\n",
       "      <td>716</td>\n",
       "      <td>2013-10-02</td>\n",
       "      <td>The pumpkin pancakes are quite good but the pl...</td>\n",
       "      <td>3.0</td>\n",
       "      <td>-1</td>\n",
       "      <td>1</td>\n",
       "      <td>4</td>\n",
       "      <td>neutral</td>\n",
       "      <td>0.0</td>\n",
       "      <td>0.25</td>\n",
       "      <td>0.75</td>\n",
       "      <td>154</td>\n",
       "      <td>245.5</td>\n",
       "      <td>0.5</td>\n",
       "    </tr>\n",
       "  </tbody>\n",
       "</table>\n",
       "</div>"
      ],
      "text/plain": [
       "   user_id  prod_id       date  \\\n",
       "0     5044        0 2014-11-16   \n",
       "1     5045        0 2014-09-08   \n",
       "2     5046        0 2013-10-06   \n",
       "3     5046      376 2013-11-02   \n",
       "4     5046      716 2013-10-02   \n",
       "\n",
       "                                              review  rating  label  \\\n",
       "0  Drinks were bad, the hot chocolate was watered...     1.0     -1   \n",
       "1  This was the worst experience I've ever had a ...     1.0     -1   \n",
       "2  This is located on the site of the old Spruce ...     3.0     -1   \n",
       "3  I am becoming frustrated with yelp.  I placed ...     3.0     -1   \n",
       "4  The pumpkin pancakes are quite good but the pl...     3.0     -1   \n",
       "\n",
       "   max_review_on_a_day  review_count rating_cat  neg_rating_percentage  \\\n",
       "0                    1             1   negative                    1.0   \n",
       "1                    1             1   negative                    1.0   \n",
       "2                    1             4    neutral                    0.0   \n",
       "3                    1             4    neutral                    0.0   \n",
       "4                    1             4    neutral                    0.0   \n",
       "\n",
       "   pos_rating_percentage  neu_rating_percentage  review_len  avg_review_len  \\\n",
       "0                   0.00                   0.00         187           187.0   \n",
       "1                   0.00                   0.00        1375          1375.0   \n",
       "2                   0.25                   0.75         257           245.5   \n",
       "3                   0.25                   0.75         352           245.5   \n",
       "4                   0.25                   0.75         154           245.5   \n",
       "\n",
       "   std_rating  \n",
       "0         0.0  \n",
       "1         0.0  \n",
       "2         0.5  \n",
       "3         0.5  \n",
       "4         0.5  "
      ]
     },
     "execution_count": 98,
     "metadata": {},
     "output_type": "execute_result"
    }
   ],
   "source": [
    "data.head()"
   ]
  },
  {
   "cell_type": "code",
   "execution_count": 99,
   "metadata": {},
   "outputs": [],
   "source": [
    "#save so far to a pickle\n",
    "data.to_pickle(\"./data_partone.pkl\")"
   ]
  },
  {
   "cell_type": "code",
   "execution_count": 16,
   "metadata": {},
   "outputs": [],
   "source": [
    "data = pd.read_pickle(\"data_partone.pkl\")"
   ]
  },
  {
   "cell_type": "markdown",
   "metadata": {},
   "source": [
    "**Part II: Review-centric features**\n",
    "1. Structural features (5): average word length, number of sentences,\n",
    "average sentence length, percentage of numerals, percentage of capitalized words.\n",
    "2. Semantic features (2): We calculate the percentages of positive and negative opinionbearing words in each review."
   ]
  },
  {
   "cell_type": "code",
   "execution_count": 17,
   "metadata": {},
   "outputs": [],
   "source": [
    "def avg_word_length(x):\n",
    "    sentence = x\n",
    "    words = sentence.split()\n",
    "    average = round(sum(len(word) for word in words) / len(words),2)\n",
    "    return average"
   ]
  },
  {
   "cell_type": "code",
   "execution_count": 18,
   "metadata": {},
   "outputs": [],
   "source": [
    "data['avg_word_length']=data['review'].apply(lambda x: avg_word_length(x))"
   ]
  },
  {
   "cell_type": "code",
   "execution_count": 19,
   "metadata": {},
   "outputs": [],
   "source": [
    "def num_sent(x):\n",
    "    number_of_sentences = sent_tokenize(x)\n",
    "    return len(number_of_sentences)"
   ]
  },
  {
   "cell_type": "code",
   "execution_count": 20,
   "metadata": {},
   "outputs": [],
   "source": [
    "data['num_sent']=data['review'].apply(lambda x: num_sent(x))"
   ]
  },
  {
   "cell_type": "code",
   "execution_count": 104,
   "metadata": {},
   "outputs": [
    {
     "data": {
      "text/plain": [
       "'Drinks were bad, the hot chocolate was watered down and the latte had a burnt taste to it. The food was also poor quality, but the service was the worst part, their cashier was very rude.'"
      ]
     },
     "execution_count": 104,
     "metadata": {},
     "output_type": "execute_result"
    }
   ],
   "source": [
    "data['review'][0]"
   ]
  },
  {
   "cell_type": "code",
   "execution_count": 21,
   "metadata": {},
   "outputs": [],
   "source": [
    "def percentage_of_numerals(x):\n",
    "    numbers = sum(c.isdigit() for c in x)\n",
    "    letter = sum(c.isalpha() for c in x)\n",
    "    \n",
    "    try: \n",
    "        result = numbers / letter\n",
    "    except ZeroDivisionError:\n",
    "        result=-1\n",
    "    return result"
   ]
  },
  {
   "cell_type": "code",
   "execution_count": 22,
   "metadata": {},
   "outputs": [],
   "source": [
    "data['percentage_of_numerals']=data['review'].apply(lambda x: percentage_of_numerals(x))"
   ]
  },
  {
   "cell_type": "code",
   "execution_count": 46,
   "metadata": {
    "scrolled": true
   },
   "outputs": [
    {
     "data": {
      "text/plain": [
       "0.000000    353314\n",
       "0.006944       316\n",
       "0.007937       308\n",
       "0.010417       299\n",
       "0.010000       294\n",
       "             ...  \n",
       "0.022680         1\n",
       "0.030519         1\n",
       "0.001281         1\n",
       "0.000705         1\n",
       "0.016060         1\n",
       "Name: percentage_of_numerals, Length: 21496, dtype: int64"
      ]
     },
     "execution_count": 46,
     "metadata": {},
     "output_type": "execute_result"
    }
   ],
   "source": [
    "data['percentage_of_numerals'].value_counts()"
   ]
  },
  {
   "cell_type": "code",
   "execution_count": 23,
   "metadata": {
    "scrolled": false
   },
   "outputs": [
    {
     "data": {
      "text/html": [
       "<div>\n",
       "<style scoped>\n",
       "    .dataframe tbody tr th:only-of-type {\n",
       "        vertical-align: middle;\n",
       "    }\n",
       "\n",
       "    .dataframe tbody tr th {\n",
       "        vertical-align: top;\n",
       "    }\n",
       "\n",
       "    .dataframe thead th {\n",
       "        text-align: right;\n",
       "    }\n",
       "</style>\n",
       "<table border=\"1\" class=\"dataframe\">\n",
       "  <thead>\n",
       "    <tr style=\"text-align: right;\">\n",
       "      <th></th>\n",
       "      <th>user_id</th>\n",
       "      <th>prod_id</th>\n",
       "      <th>date</th>\n",
       "      <th>review</th>\n",
       "      <th>rating</th>\n",
       "      <th>label</th>\n",
       "      <th>max_review_on_a_day</th>\n",
       "      <th>review_count</th>\n",
       "      <th>rating_cat</th>\n",
       "      <th>neg_rating_percentage</th>\n",
       "      <th>pos_rating_percentage</th>\n",
       "      <th>neu_rating_percentage</th>\n",
       "      <th>review_len</th>\n",
       "      <th>avg_review_len</th>\n",
       "      <th>std_rating</th>\n",
       "      <th>avg_word_length</th>\n",
       "      <th>num_sent</th>\n",
       "      <th>percentage_of_numerals</th>\n",
       "    </tr>\n",
       "  </thead>\n",
       "  <tbody>\n",
       "    <tr>\n",
       "      <th>4692</th>\n",
       "      <td>5569</td>\n",
       "      <td>7</td>\n",
       "      <td>2013-02-02</td>\n",
       "      <td>-</td>\n",
       "      <td>4.0</td>\n",
       "      <td>1</td>\n",
       "      <td>1</td>\n",
       "      <td>1</td>\n",
       "      <td>positive</td>\n",
       "      <td>0.000000</td>\n",
       "      <td>1.000000</td>\n",
       "      <td>0.000000</td>\n",
       "      <td>1</td>\n",
       "      <td>1.000000</td>\n",
       "      <td>0.000000</td>\n",
       "      <td>1.0</td>\n",
       "      <td>1</td>\n",
       "      <td>-1.0</td>\n",
       "    </tr>\n",
       "    <tr>\n",
       "      <th>8788</th>\n",
       "      <td>6151</td>\n",
       "      <td>9</td>\n",
       "      <td>2014-07-07</td>\n",
       "      <td>:)</td>\n",
       "      <td>4.0</td>\n",
       "      <td>-1</td>\n",
       "      <td>1</td>\n",
       "      <td>1</td>\n",
       "      <td>positive</td>\n",
       "      <td>0.000000</td>\n",
       "      <td>1.000000</td>\n",
       "      <td>0.000000</td>\n",
       "      <td>2</td>\n",
       "      <td>2.000000</td>\n",
       "      <td>0.000000</td>\n",
       "      <td>2.0</td>\n",
       "      <td>1</td>\n",
       "      <td>-1.0</td>\n",
       "    </tr>\n",
       "    <tr>\n",
       "      <th>92145</th>\n",
       "      <td>15900</td>\n",
       "      <td>3745</td>\n",
       "      <td>2013-06-09</td>\n",
       "      <td>.</td>\n",
       "      <td>5.0</td>\n",
       "      <td>1</td>\n",
       "      <td>3</td>\n",
       "      <td>23</td>\n",
       "      <td>positive</td>\n",
       "      <td>0.173913</td>\n",
       "      <td>0.608696</td>\n",
       "      <td>0.217391</td>\n",
       "      <td>1</td>\n",
       "      <td>596.956522</td>\n",
       "      <td>1.233588</td>\n",
       "      <td>1.0</td>\n",
       "      <td>1</td>\n",
       "      <td>-1.0</td>\n",
       "    </tr>\n",
       "    <tr>\n",
       "      <th>156194</th>\n",
       "      <td>26230</td>\n",
       "      <td>3212</td>\n",
       "      <td>2014-11-28</td>\n",
       "      <td>.</td>\n",
       "      <td>3.0</td>\n",
       "      <td>1</td>\n",
       "      <td>3</td>\n",
       "      <td>3</td>\n",
       "      <td>neutral</td>\n",
       "      <td>0.000000</td>\n",
       "      <td>0.666667</td>\n",
       "      <td>0.333333</td>\n",
       "      <td>1</td>\n",
       "      <td>13.000000</td>\n",
       "      <td>1.000000</td>\n",
       "      <td>1.0</td>\n",
       "      <td>1</td>\n",
       "      <td>-1.0</td>\n",
       "    </tr>\n",
       "    <tr>\n",
       "      <th>156195</th>\n",
       "      <td>26230</td>\n",
       "      <td>4080</td>\n",
       "      <td>2014-11-28</td>\n",
       "      <td>.</td>\n",
       "      <td>4.0</td>\n",
       "      <td>1</td>\n",
       "      <td>3</td>\n",
       "      <td>3</td>\n",
       "      <td>positive</td>\n",
       "      <td>0.000000</td>\n",
       "      <td>0.666667</td>\n",
       "      <td>0.333333</td>\n",
       "      <td>1</td>\n",
       "      <td>13.000000</td>\n",
       "      <td>1.000000</td>\n",
       "      <td>1.0</td>\n",
       "      <td>1</td>\n",
       "      <td>-1.0</td>\n",
       "    </tr>\n",
       "    <tr>\n",
       "      <th>...</th>\n",
       "      <td>...</td>\n",
       "      <td>...</td>\n",
       "      <td>...</td>\n",
       "      <td>...</td>\n",
       "      <td>...</td>\n",
       "      <td>...</td>\n",
       "      <td>...</td>\n",
       "      <td>...</td>\n",
       "      <td>...</td>\n",
       "      <td>...</td>\n",
       "      <td>...</td>\n",
       "      <td>...</td>\n",
       "      <td>...</td>\n",
       "      <td>...</td>\n",
       "      <td>...</td>\n",
       "      <td>...</td>\n",
       "      <td>...</td>\n",
       "      <td>...</td>\n",
       "    </tr>\n",
       "    <tr>\n",
       "      <th>593844</th>\n",
       "      <td>250967</td>\n",
       "      <td>4698</td>\n",
       "      <td>2014-07-25</td>\n",
       "      <td>?</td>\n",
       "      <td>3.0</td>\n",
       "      <td>-1</td>\n",
       "      <td>1</td>\n",
       "      <td>1</td>\n",
       "      <td>neutral</td>\n",
       "      <td>0.000000</td>\n",
       "      <td>0.000000</td>\n",
       "      <td>1.000000</td>\n",
       "      <td>1</td>\n",
       "      <td>1.000000</td>\n",
       "      <td>0.000000</td>\n",
       "      <td>1.0</td>\n",
       "      <td>1</td>\n",
       "      <td>-1.0</td>\n",
       "    </tr>\n",
       "    <tr>\n",
       "      <th>596978</th>\n",
       "      <td>254021</td>\n",
       "      <td>4735</td>\n",
       "      <td>2013-06-05</td>\n",
       "      <td>! !</td>\n",
       "      <td>4.0</td>\n",
       "      <td>1</td>\n",
       "      <td>1</td>\n",
       "      <td>1</td>\n",
       "      <td>positive</td>\n",
       "      <td>0.000000</td>\n",
       "      <td>1.000000</td>\n",
       "      <td>0.000000</td>\n",
       "      <td>3</td>\n",
       "      <td>3.000000</td>\n",
       "      <td>0.000000</td>\n",
       "      <td>1.0</td>\n",
       "      <td>2</td>\n",
       "      <td>-1.0</td>\n",
       "    </tr>\n",
       "    <tr>\n",
       "      <th>603594</th>\n",
       "      <td>260489</td>\n",
       "      <td>4904</td>\n",
       "      <td>2013-10-13</td>\n",
       "      <td>.</td>\n",
       "      <td>4.0</td>\n",
       "      <td>1</td>\n",
       "      <td>1</td>\n",
       "      <td>1</td>\n",
       "      <td>positive</td>\n",
       "      <td>0.000000</td>\n",
       "      <td>1.000000</td>\n",
       "      <td>0.000000</td>\n",
       "      <td>1</td>\n",
       "      <td>1.000000</td>\n",
       "      <td>0.000000</td>\n",
       "      <td>1.0</td>\n",
       "      <td>1</td>\n",
       "      <td>-1.0</td>\n",
       "    </tr>\n",
       "    <tr>\n",
       "      <th>604085</th>\n",
       "      <td>260975</td>\n",
       "      <td>4366</td>\n",
       "      <td>2014-08-02</td>\n",
       "      <td>.</td>\n",
       "      <td>5.0</td>\n",
       "      <td>-1</td>\n",
       "      <td>1</td>\n",
       "      <td>1</td>\n",
       "      <td>positive</td>\n",
       "      <td>0.000000</td>\n",
       "      <td>1.000000</td>\n",
       "      <td>0.000000</td>\n",
       "      <td>1</td>\n",
       "      <td>1.000000</td>\n",
       "      <td>0.000000</td>\n",
       "      <td>1.0</td>\n",
       "      <td>1</td>\n",
       "      <td>-1.0</td>\n",
       "    </tr>\n",
       "    <tr>\n",
       "      <th>607157</th>\n",
       "      <td>264020</td>\n",
       "      <td>1955</td>\n",
       "      <td>2011-04-01</td>\n",
       "      <td>:)</td>\n",
       "      <td>5.0</td>\n",
       "      <td>1</td>\n",
       "      <td>1</td>\n",
       "      <td>1</td>\n",
       "      <td>positive</td>\n",
       "      <td>0.000000</td>\n",
       "      <td>1.000000</td>\n",
       "      <td>0.000000</td>\n",
       "      <td>2</td>\n",
       "      <td>2.000000</td>\n",
       "      <td>0.000000</td>\n",
       "      <td>2.0</td>\n",
       "      <td>1</td>\n",
       "      <td>-1.0</td>\n",
       "    </tr>\n",
       "  </tbody>\n",
       "</table>\n",
       "<p>67 rows × 18 columns</p>\n",
       "</div>"
      ],
      "text/plain": [
       "        user_id  prod_id       date review  rating  label  \\\n",
       "4692       5569        7 2013-02-02      -     4.0      1   \n",
       "8788       6151        9 2014-07-07     :)     4.0     -1   \n",
       "92145     15900     3745 2013-06-09      .     5.0      1   \n",
       "156194    26230     3212 2014-11-28      .     3.0      1   \n",
       "156195    26230     4080 2014-11-28      .     4.0      1   \n",
       "...         ...      ...        ...    ...     ...    ...   \n",
       "593844   250967     4698 2014-07-25      ?     3.0     -1   \n",
       "596978   254021     4735 2013-06-05    ! !     4.0      1   \n",
       "603594   260489     4904 2013-10-13      .     4.0      1   \n",
       "604085   260975     4366 2014-08-02      .     5.0     -1   \n",
       "607157   264020     1955 2011-04-01     :)     5.0      1   \n",
       "\n",
       "        max_review_on_a_day  review_count rating_cat  neg_rating_percentage  \\\n",
       "4692                      1             1   positive               0.000000   \n",
       "8788                      1             1   positive               0.000000   \n",
       "92145                     3            23   positive               0.173913   \n",
       "156194                    3             3    neutral               0.000000   \n",
       "156195                    3             3   positive               0.000000   \n",
       "...                     ...           ...        ...                    ...   \n",
       "593844                    1             1    neutral               0.000000   \n",
       "596978                    1             1   positive               0.000000   \n",
       "603594                    1             1   positive               0.000000   \n",
       "604085                    1             1   positive               0.000000   \n",
       "607157                    1             1   positive               0.000000   \n",
       "\n",
       "        pos_rating_percentage  neu_rating_percentage  review_len  \\\n",
       "4692                 1.000000               0.000000           1   \n",
       "8788                 1.000000               0.000000           2   \n",
       "92145                0.608696               0.217391           1   \n",
       "156194               0.666667               0.333333           1   \n",
       "156195               0.666667               0.333333           1   \n",
       "...                       ...                    ...         ...   \n",
       "593844               0.000000               1.000000           1   \n",
       "596978               1.000000               0.000000           3   \n",
       "603594               1.000000               0.000000           1   \n",
       "604085               1.000000               0.000000           1   \n",
       "607157               1.000000               0.000000           2   \n",
       "\n",
       "        avg_review_len  std_rating  avg_word_length  num_sent  \\\n",
       "4692          1.000000    0.000000              1.0         1   \n",
       "8788          2.000000    0.000000              2.0         1   \n",
       "92145       596.956522    1.233588              1.0         1   \n",
       "156194       13.000000    1.000000              1.0         1   \n",
       "156195       13.000000    1.000000              1.0         1   \n",
       "...                ...         ...              ...       ...   \n",
       "593844        1.000000    0.000000              1.0         1   \n",
       "596978        3.000000    0.000000              1.0         2   \n",
       "603594        1.000000    0.000000              1.0         1   \n",
       "604085        1.000000    0.000000              1.0         1   \n",
       "607157        2.000000    0.000000              2.0         1   \n",
       "\n",
       "        percentage_of_numerals  \n",
       "4692                      -1.0  \n",
       "8788                      -1.0  \n",
       "92145                     -1.0  \n",
       "156194                    -1.0  \n",
       "156195                    -1.0  \n",
       "...                        ...  \n",
       "593844                    -1.0  \n",
       "596978                    -1.0  \n",
       "603594                    -1.0  \n",
       "604085                    -1.0  \n",
       "607157                    -1.0  \n",
       "\n",
       "[67 rows x 18 columns]"
      ]
     },
     "execution_count": 23,
     "metadata": {},
     "output_type": "execute_result"
    }
   ],
   "source": [
    "# if numbers/letter returns ZeroDivisionError\n",
    "# this means there's 0 letter in the review\n",
    "data[data['percentage_of_numerals']==-1]"
   ]
  },
  {
   "cell_type": "code",
   "execution_count": 24,
   "metadata": {},
   "outputs": [],
   "source": [
    "#remove reviews that doesn't contain any words\n",
    "data=data[data['percentage_of_numerals'] != -1 ]"
   ]
  },
  {
   "cell_type": "code",
   "execution_count": 25,
   "metadata": {
    "scrolled": true
   },
   "outputs": [],
   "source": [
    "# percentage of capitalized words\n",
    "def percentage_of_capitalized(x):\n",
    "    cap = sum(c.isupper() for c in x)\n",
    "    letter = sum(c.isalpha() for c in x)\n",
    "    \n",
    "    try: \n",
    "        result = cap / letter\n",
    "    except ZeroDivisionError:\n",
    "        result=-1\n",
    "    return cap/letter"
   ]
  },
  {
   "cell_type": "code",
   "execution_count": 26,
   "metadata": {},
   "outputs": [],
   "source": [
    "data['percentage_of_capitalized']=data['review'].apply(lambda x: percentage_of_capitalized(x))"
   ]
  },
  {
   "cell_type": "code",
   "execution_count": 27,
   "metadata": {},
   "outputs": [],
   "source": [
    "import nltk\n",
    "from nltk.sentiment.vader import SentimentIntensityAnalyzer"
   ]
  },
  {
   "cell_type": "code",
   "execution_count": 23,
   "metadata": {},
   "outputs": [],
   "source": [
    "#clean up the review text\n",
    "from nltk.tokenize import word_tokenize\n",
    "import string\n",
    "import re\n",
    "from nltk.corpus import stopwords\n",
    "\n",
    "def clean_text(text):\n",
    "    \"\"\"\n",
    "        text: a string\n",
    "        \n",
    "        return: modified initial string\n",
    "    \"\"\"\n",
    "    #tokenizer breaks string into a list of words\n",
    "    text = word_tokenize(text)\n",
    "    text = \" \".join([c for c in text if c not in string.punctuation])\n",
    "    text = text.lower() # lowercase text\n",
    "    text = re.compile('\"''#&?!:_[/(){}\\[\\]\\|@,;.]').sub(' ', text) # replace symbols by space in text. substitute the matched string with space.\n",
    "    text = re.sub(r'\\d+','', text) # remove symbols and numbers\n",
    "    text = ' '.join(word for word in text.split() if word not in stopwords.words('english')) # remove stopwors from text\n",
    "    return text"
   ]
  },
  {
   "cell_type": "code",
   "execution_count": 31,
   "metadata": {},
   "outputs": [],
   "source": [
    "#save so far to a pickle\n",
    "# data.to_pickle(\"./data_parttwo.pkl\")"
   ]
  },
  {
   "cell_type": "code",
   "execution_count": 191,
   "metadata": {
    "scrolled": true
   },
   "outputs": [
    {
     "data": {
      "text/plain": [
       " 1    527966\n",
       "-1     80425\n",
       "Name: label, dtype: int64"
      ]
     },
     "execution_count": 191,
     "metadata": {},
     "output_type": "execute_result"
    }
   ],
   "source": [
    "data.label.value_counts()"
   ]
  },
  {
   "cell_type": "code",
   "execution_count": 91,
   "metadata": {},
   "outputs": [
    {
     "data": {
      "text/plain": [
       "0.1321929482849023"
      ]
     },
     "execution_count": 91,
     "metadata": {},
     "output_type": "execute_result"
    }
   ],
   "source": [
    "80425/(527966+80425)"
   ]
  },
  {
   "cell_type": "code",
   "execution_count": 12,
   "metadata": {},
   "outputs": [],
   "source": [
    "data=data.reset_index()"
   ]
  },
  {
   "cell_type": "code",
   "execution_count": 104,
   "metadata": {},
   "outputs": [],
   "source": [
    "data.rename(columns={\"index\": \"review_id\"},inplace=True)"
   ]
  },
  {
   "cell_type": "code",
   "execution_count": 54,
   "metadata": {
    "scrolled": false
   },
   "outputs": [
    {
     "data": {
      "text/plain": [
       " 1    527966\n",
       "-1     80425\n",
       "Name: label, dtype: int64"
      ]
     },
     "execution_count": 54,
     "metadata": {},
     "output_type": "execute_result"
    }
   ],
   "source": [
    "data.label.value_counts()"
   ]
  },
  {
   "cell_type": "code",
   "execution_count": 23,
   "metadata": {
    "scrolled": true
   },
   "outputs": [
    {
     "data": {
      "text/plain": [
       "Index(['review_id', 'user_id', 'prod_id', 'date', 'review', 'rating', 'label',\n",
       "       'max_review_on_a_day', 'review_count', 'rating_cat',\n",
       "       'neg_rating_percentage', 'pos_rating_percentage',\n",
       "       'neu_rating_percentage', 'review_len', 'avg_review_len', 'std_rating',\n",
       "       'avg_word_length', 'num_sent', 'percentage_of_numerals',\n",
       "       'percentage_of_capitalized'],\n",
       "      dtype='object')"
      ]
     },
     "execution_count": 23,
     "metadata": {},
     "output_type": "execute_result"
    }
   ],
   "source": [
    "data.columns"
   ]
  },
  {
   "cell_type": "code",
   "execution_count": 109,
   "metadata": {},
   "outputs": [],
   "source": [
    "data.drop(['user_id', 'prod_id', 'date','rating_cat'],axis=1,inplace=True)"
   ]
  },
  {
   "cell_type": "code",
   "execution_count": 110,
   "metadata": {},
   "outputs": [],
   "source": [
    "data = data.reindex(columns=['label','review_id', 'review', 'rating',\n",
    "                                          'max_review_on_a_day',\n",
    "                                          'review_count', 'neg_rating_percentage',\n",
    "                                          'pos_rating_percentage', 'neu_rating_percentage', 'review_len',\n",
    "                                          'avg_review_len', 'std_rating', 'avg_word_length', 'num_sent',\n",
    "                                          'percentage_of_numerals', 'percentage_of_capitalized'])"
   ]
  },
  {
   "cell_type": "code",
   "execution_count": 111,
   "metadata": {},
   "outputs": [
    {
     "data": {
      "text/html": [
       "<div>\n",
       "<style scoped>\n",
       "    .dataframe tbody tr th:only-of-type {\n",
       "        vertical-align: middle;\n",
       "    }\n",
       "\n",
       "    .dataframe tbody tr th {\n",
       "        vertical-align: top;\n",
       "    }\n",
       "\n",
       "    .dataframe thead th {\n",
       "        text-align: right;\n",
       "    }\n",
       "</style>\n",
       "<table border=\"1\" class=\"dataframe\">\n",
       "  <thead>\n",
       "    <tr style=\"text-align: right;\">\n",
       "      <th></th>\n",
       "      <th>label</th>\n",
       "      <th>review_id</th>\n",
       "      <th>review</th>\n",
       "      <th>rating</th>\n",
       "      <th>max_review_on_a_day</th>\n",
       "      <th>review_count</th>\n",
       "      <th>neg_rating_percentage</th>\n",
       "      <th>pos_rating_percentage</th>\n",
       "      <th>neu_rating_percentage</th>\n",
       "      <th>review_len</th>\n",
       "      <th>avg_review_len</th>\n",
       "      <th>std_rating</th>\n",
       "      <th>avg_word_length</th>\n",
       "      <th>num_sent</th>\n",
       "      <th>percentage_of_numerals</th>\n",
       "      <th>percentage_of_capitalized</th>\n",
       "    </tr>\n",
       "  </thead>\n",
       "  <tbody>\n",
       "    <tr>\n",
       "      <th>0</th>\n",
       "      <td>-1</td>\n",
       "      <td>0</td>\n",
       "      <td>Drinks were bad, the hot chocolate was watered...</td>\n",
       "      <td>1.0</td>\n",
       "      <td>1</td>\n",
       "      <td>1</td>\n",
       "      <td>1.0</td>\n",
       "      <td>0.00</td>\n",
       "      <td>0.00</td>\n",
       "      <td>187</td>\n",
       "      <td>187.0</td>\n",
       "      <td>0.0</td>\n",
       "      <td>4.22</td>\n",
       "      <td>2</td>\n",
       "      <td>0.00000</td>\n",
       "      <td>0.013605</td>\n",
       "    </tr>\n",
       "    <tr>\n",
       "      <th>1</th>\n",
       "      <td>-1</td>\n",
       "      <td>1</td>\n",
       "      <td>This was the worst experience I've ever had a ...</td>\n",
       "      <td>1.0</td>\n",
       "      <td>1</td>\n",
       "      <td>1</td>\n",
       "      <td>1.0</td>\n",
       "      <td>0.00</td>\n",
       "      <td>0.00</td>\n",
       "      <td>1375</td>\n",
       "      <td>1375.0</td>\n",
       "      <td>0.0</td>\n",
       "      <td>4.50</td>\n",
       "      <td>16</td>\n",
       "      <td>0.00565</td>\n",
       "      <td>0.022599</td>\n",
       "    </tr>\n",
       "    <tr>\n",
       "      <th>2</th>\n",
       "      <td>-1</td>\n",
       "      <td>2</td>\n",
       "      <td>This is located on the site of the old Spruce ...</td>\n",
       "      <td>3.0</td>\n",
       "      <td>1</td>\n",
       "      <td>4</td>\n",
       "      <td>0.0</td>\n",
       "      <td>0.25</td>\n",
       "      <td>0.75</td>\n",
       "      <td>257</td>\n",
       "      <td>245.5</td>\n",
       "      <td>0.5</td>\n",
       "      <td>4.10</td>\n",
       "      <td>4</td>\n",
       "      <td>0.00000</td>\n",
       "      <td>0.055276</td>\n",
       "    </tr>\n",
       "    <tr>\n",
       "      <th>3</th>\n",
       "      <td>-1</td>\n",
       "      <td>3</td>\n",
       "      <td>I am becoming frustrated with yelp.  I placed ...</td>\n",
       "      <td>3.0</td>\n",
       "      <td>1</td>\n",
       "      <td>4</td>\n",
       "      <td>0.0</td>\n",
       "      <td>0.25</td>\n",
       "      <td>0.75</td>\n",
       "      <td>352</td>\n",
       "      <td>245.5</td>\n",
       "      <td>0.5</td>\n",
       "      <td>4.63</td>\n",
       "      <td>5</td>\n",
       "      <td>0.00722</td>\n",
       "      <td>0.036101</td>\n",
       "    </tr>\n",
       "    <tr>\n",
       "      <th>4</th>\n",
       "      <td>-1</td>\n",
       "      <td>4</td>\n",
       "      <td>The pumpkin pancakes are quite good but the pl...</td>\n",
       "      <td>3.0</td>\n",
       "      <td>1</td>\n",
       "      <td>4</td>\n",
       "      <td>0.0</td>\n",
       "      <td>0.25</td>\n",
       "      <td>0.75</td>\n",
       "      <td>154</td>\n",
       "      <td>245.5</td>\n",
       "      <td>0.5</td>\n",
       "      <td>4.70</td>\n",
       "      <td>2</td>\n",
       "      <td>0.00000</td>\n",
       "      <td>0.024194</td>\n",
       "    </tr>\n",
       "  </tbody>\n",
       "</table>\n",
       "</div>"
      ],
      "text/plain": [
       "   label  review_id                                             review  \\\n",
       "0     -1          0  Drinks were bad, the hot chocolate was watered...   \n",
       "1     -1          1  This was the worst experience I've ever had a ...   \n",
       "2     -1          2  This is located on the site of the old Spruce ...   \n",
       "3     -1          3  I am becoming frustrated with yelp.  I placed ...   \n",
       "4     -1          4  The pumpkin pancakes are quite good but the pl...   \n",
       "\n",
       "   rating  max_review_on_a_day  review_count  neg_rating_percentage  \\\n",
       "0     1.0                    1             1                    1.0   \n",
       "1     1.0                    1             1                    1.0   \n",
       "2     3.0                    1             4                    0.0   \n",
       "3     3.0                    1             4                    0.0   \n",
       "4     3.0                    1             4                    0.0   \n",
       "\n",
       "   pos_rating_percentage  neu_rating_percentage  review_len  avg_review_len  \\\n",
       "0                   0.00                   0.00         187           187.0   \n",
       "1                   0.00                   0.00        1375          1375.0   \n",
       "2                   0.25                   0.75         257           245.5   \n",
       "3                   0.25                   0.75         352           245.5   \n",
       "4                   0.25                   0.75         154           245.5   \n",
       "\n",
       "   std_rating  avg_word_length  num_sent  percentage_of_numerals  \\\n",
       "0         0.0             4.22         2                 0.00000   \n",
       "1         0.0             4.50        16                 0.00565   \n",
       "2         0.5             4.10         4                 0.00000   \n",
       "3         0.5             4.63         5                 0.00722   \n",
       "4         0.5             4.70         2                 0.00000   \n",
       "\n",
       "   percentage_of_capitalized  \n",
       "0                   0.013605  \n",
       "1                   0.022599  \n",
       "2                   0.055276  \n",
       "3                   0.036101  \n",
       "4                   0.024194  "
      ]
     },
     "execution_count": 111,
     "metadata": {},
     "output_type": "execute_result"
    }
   ],
   "source": [
    "data.head()"
   ]
  },
  {
   "cell_type": "code",
   "execution_count": 112,
   "metadata": {},
   "outputs": [],
   "source": [
    "data.to_csv('full_activities_review.csv',index=False)"
   ]
  },
  {
   "cell_type": "markdown",
   "metadata": {},
   "source": [
    "## II. Supervised Learning\n",
    "\n",
    "#### Deal with Imbalanced Data\n",
    "\n",
    "For example, say you have a dataset in which 92% of the data is labelled as ‘Not Fraud’ and the remaining 8% are cases of ‘Fraud’. The data is clearly imbalanced. Now say our model ends up as classifying everything it sees as ‘Not Fraud’. If we look at the accuracy, however, it’s a magnificent 92%. But the bank still cares about those ‘Fraud’ cases\n",
    "\n",
    "#### 1. Up-sample Minority Class\n",
    "\n",
    "Over sampling: This method uses synthetic data generation to increase the number of samples in the data set. \n",
    "SMOTE: What smote does is simple. First it finds the n-nearest neighbors in the minority class for each of the samples in the class . Then it draws a line between the the neighbors an generates random points on the lines.\n",
    "\n",
    "ADASYN: similar to SMOTE, but only create synthetic data in the boundary where the it's hard to define.\n",
    "\n",
    "#### 2. Down-sample Majority Class\n",
    "\n",
    "Under sampling: In this method basically we downsize the actual data set in such a way that the ratio of the dependent categories become 10:1. This method is not recommended since we are actually reducing the data set thus giving the model less data to feed on. "
   ]
  },
  {
   "cell_type": "markdown",
   "metadata": {},
   "source": [
    "### Part I: User Activities Data"
   ]
  },
  {
   "cell_type": "code",
   "execution_count": 17,
   "metadata": {},
   "outputs": [],
   "source": [
    "def make_pipeline():\n",
    "    \"Create a single pipeline that processing the data and then fits the classification.\"  \n",
    "    \n",
    "    rf = RandomForestClassifier(random_state=50)\n",
    "    gb=GradientBoostingClassifier(random_state=50)\n",
    "    lr = LogisticRegression(random_state=50)\n",
    "    classifiers=[rf,gb,lr]\n",
    "\n",
    "    pipeline = []\n",
    "    for classifier in classifiers:\n",
    "        pipe = Pipeline(steps=[('classifier', classifier)])\n",
    "        pipeline.append(pipe)\n",
    "\n",
    "    return pipeline"
   ]
  },
  {
   "cell_type": "code",
   "execution_count": 18,
   "metadata": {},
   "outputs": [],
   "source": [
    "def sort_models(pipelines, X_data, y_data):\n",
    "    \"\"\"Sort models based on their f1 score.\"\"\"\n",
    "    scores = []\n",
    "    for pipe in pipelines:\n",
    "        y_pred = pipe.predict(X_data)\n",
    "        f1score = f1_score(y_data, y_pred, average='weighted')\n",
    "        recallscore=recall_score(y_data,y_pred)\n",
    "        accuracyscore=accuracy_score(y_data,y_pred)\n",
    "\n",
    "        aucscore=roc_auc_score(y_data, pipe.predict_proba(X_data)[:,1])\n",
    "        \n",
    "        classfier_name = pipe.steps[-1][1].__class__.__name__.split('.')[-1]\n",
    "        scores.append([classfier_name,f1score,recallscore,accuracyscore,aucscore])\n",
    "        \n",
    "    scores_sorted = sorted(scores,key=lambda x:x[1],reverse=True)\n",
    "    \n",
    "    return scores_sorted"
   ]
  },
  {
   "cell_type": "code",
   "execution_count": 24,
   "metadata": {},
   "outputs": [],
   "source": [
    "def make_confusion_matrix(cf,\n",
    "                          group_names=None,\n",
    "                          categories='auto',\n",
    "                          count=True,\n",
    "                          percent=True,\n",
    "                          cbar=True,\n",
    "                          xyticks=True,\n",
    "                          xyplotlabels=True,\n",
    "                          sum_stats=True,\n",
    "                          figsize=None,\n",
    "                          cmap='Blues',\n",
    "                          title=None):\n",
    "    # CODE TO GENERATE TEXT INSIDE EACH SQUARE\n",
    "    blanks = ['' for i in range(cf.size)]\n",
    "\n",
    "    if group_names and len(group_names)==cf.size:\n",
    "        group_labels = [\"{}\\n\".format(value) for value in group_names]\n",
    "    else:\n",
    "        group_labels = blanks\n",
    "\n",
    "    if count:\n",
    "        group_counts = [\"{0:0.0f}\\n\".format(value) for value in cf.flatten()]\n",
    "    else:\n",
    "        group_counts = blanks\n",
    "\n",
    "    if percent:\n",
    "        group_percentages = [\"{0:.2%}\".format(value) for value in cf.flatten()/np.sum(cf)]\n",
    "    else:\n",
    "        group_percentages = blanks\n",
    "\n",
    "    box_labels = [f\"{v1}{v2}{v3}\".strip() for v1, v2, v3 in zip(group_labels,group_counts,group_percentages)]\n",
    "    box_labels = np.asarray(box_labels).reshape(cf.shape[0],cf.shape[1])\n",
    "\n",
    "\n",
    "    # CODE TO GENERATE SUMMARY STATISTICS & TEXT FOR SUMMARY STATS\n",
    "    if sum_stats:\n",
    "        #Accuracy is sum of diagonal divided by total observations\n",
    "        accuracy  = np.trace(cf) / float(np.sum(cf))\n",
    "\n",
    "        #if it is a binary confusion matrix, show some more stats\n",
    "        if len(cf)==2:\n",
    "            #Metrics for Binary Confusion Matrices\n",
    "            precision = cf[1,1] / sum(cf[:,1]) #TP/TP+FP\n",
    "#             How much were correctly classified as positive out of all positives.\n",
    "            recall    = cf[1,1] / sum(cf[1,:]) #TP/TP+FN\n",
    "            specificity = cf[0,0] / sum(cf[0,:]) #TN/TN+FP \n",
    "            f1_score  = 2*(precision*recall / (precision + recall))\n",
    "        \n",
    "            stats_text = \"\\n\\nAccuracy={:0.3f}\\nPrecision={:0.3f}\\nRecall={:0.3f}\\nSpecificity={:0.3f}\\nF1 Score={:0.3f}\".format(\n",
    "                accuracy,precision,recall,specificity,f1_score)\n",
    "        else:\n",
    "            stats_text = \"\\n\\nAccuracy={:0.3f}\".format(accuracy)\n",
    "    else:\n",
    "        stats_text = \"\"\n",
    "\n",
    "\n",
    "    # SET FIGURE PARAMETERS ACCORDING TO OTHER ARGUMENTS\n",
    "    if figsize==None:\n",
    "        #Get default figure size if not set\n",
    "        figsize = plt.rcParams.get('figure.figsize')\n",
    "\n",
    "    if xyticks==False:\n",
    "        #Do not show categories if xyticks is False\n",
    "        categories=False\n",
    "\n",
    "\n",
    "    # MAKE THE HEATMAP VISUALIZATION\n",
    "    plt.figure(figsize=figsize)\n",
    "    sns.heatmap(cf,annot=box_labels,fmt=\"\",cmap=cmap,cbar=cbar,xticklabels=categories,yticklabels=categories)\n",
    "\n",
    "    if xyplotlabels:\n",
    "        plt.ylabel('True label')\n",
    "        plt.xlabel('Predicted label' + stats_text)\n",
    "    else:\n",
    "        plt.xlabel(stats_text)\n",
    "    \n",
    "    if title:\n",
    "        plt.title(title)\n"
   ]
  },
  {
   "cell_type": "code",
   "execution_count": null,
   "metadata": {},
   "outputs": [],
   "source": []
  },
  {
   "cell_type": "markdown",
   "metadata": {},
   "source": [
    "### a. User Activities Data Upsampling"
   ]
  },
  {
   "cell_type": "code",
   "execution_count": 44,
   "metadata": {},
   "outputs": [],
   "source": [
    "X_up=data.iloc[:,3:]\n",
    "y_up = data['label']"
   ]
  },
  {
   "cell_type": "code",
   "execution_count": 45,
   "metadata": {
    "scrolled": true
   },
   "outputs": [],
   "source": [
    "X_up_train, X_up_test, y_up_train, y_up_test = train_test_split(X_up, y_up, random_state=3)\n",
    "\n",
    "X_smoted_train, y_smoted_train = SMOTE(random_state=42).fit_sample(X_up_train, y_up_train)\n",
    "X_adasyn_train, y_adasyn_train = ADASYN(random_state=42).fit_sample(X_up_train, y_up_train)"
   ]
  },
  {
   "cell_type": "code",
   "execution_count": 46,
   "metadata": {},
   "outputs": [
    {
     "name": "stderr",
     "output_type": "stream",
     "text": [
      "/Users/kessiezhang/anaconda3/lib/python3.7/site-packages/sklearn/ensemble/forest.py:245: FutureWarning: The default value of n_estimators will change from 10 in version 0.20 to 100 in 0.22.\n",
      "  \"10 in version 0.20 to 100 in 0.22.\", FutureWarning)\n",
      "/Users/kessiezhang/anaconda3/lib/python3.7/site-packages/sklearn/linear_model/logistic.py:432: FutureWarning: Default solver will be changed to 'lbfgs' in 0.22. Specify a solver to silence this warning.\n",
      "  FutureWarning)\n"
     ]
    }
   ],
   "source": [
    "smote_pipelines = make_pipeline()\n",
    "# Train all the models\n",
    "for pipe in smote_pipelines:\n",
    "    pipe.fit(X_smoted_train, y_smoted_train)"
   ]
  },
  {
   "cell_type": "code",
   "execution_count": 47,
   "metadata": {},
   "outputs": [],
   "source": [
    "# apply sort_models function from above\n",
    "smoted_sorted_model = sort_models(smote_pipelines, X_up_test, y_up_test)\n",
    "smoted_sort_model_df = pd.DataFrame(smoted_sorted_model)\n",
    "smoted_sort_model_df.columns = ['Model','F1 Score','Recall Score','Accuracy Score','AUC Score']\n",
    "smoted_sort_model_df = pd.melt(smoted_sort_model_df,id_vars=['Model'])"
   ]
  },
  {
   "cell_type": "code",
   "execution_count": 48,
   "metadata": {},
   "outputs": [
    {
     "data": {
      "image/png": "[encoded data removed]",
      "text/plain": [
       "<Figure size 648x288 with 1 Axes>"
      ]
     },
     "metadata": {},
     "output_type": "display_data"
    }
   ],
   "source": [
    "plt.figure(figsize=(9, 4))\n",
    "plt.title('Models using Smoted Upsampling Behavioral Data',fontsize=15)\n",
    "ax = sns.barplot(x=\"Model\", y=\"value\", hue = \"variable\",data=smoted_sort_model_df)\n",
    "ax.legend(bbox_to_anchor=(1.0, 1.05));"
   ]
  },
  {
   "cell_type": "code",
   "execution_count": 49,
   "metadata": {
    "scrolled": false
   },
   "outputs": [
    {
     "data": {
      "text/html": [
       "<div>\n",
       "<style scoped>\n",
       "    .dataframe tbody tr th:only-of-type {\n",
       "        vertical-align: middle;\n",
       "    }\n",
       "\n",
       "    .dataframe tbody tr th {\n",
       "        vertical-align: top;\n",
       "    }\n",
       "\n",
       "    .dataframe thead th {\n",
       "        text-align: right;\n",
       "    }\n",
       "</style>\n",
       "<table border=\"1\" class=\"dataframe\">\n",
       "  <thead>\n",
       "    <tr style=\"text-align: right;\">\n",
       "      <th></th>\n",
       "      <th>Model</th>\n",
       "      <th>variable</th>\n",
       "      <th>value</th>\n",
       "    </tr>\n",
       "  </thead>\n",
       "  <tbody>\n",
       "    <tr>\n",
       "      <th>0</th>\n",
       "      <td>RandomForestClassifier</td>\n",
       "      <td>F1 Score</td>\n",
       "      <td>0.826650</td>\n",
       "    </tr>\n",
       "    <tr>\n",
       "      <th>1</th>\n",
       "      <td>GradientBoostingClassifier</td>\n",
       "      <td>F1 Score</td>\n",
       "      <td>0.804251</td>\n",
       "    </tr>\n",
       "    <tr>\n",
       "      <th>2</th>\n",
       "      <td>LogisticRegression</td>\n",
       "      <td>F1 Score</td>\n",
       "      <td>0.716710</td>\n",
       "    </tr>\n",
       "    <tr>\n",
       "      <th>3</th>\n",
       "      <td>RandomForestClassifier</td>\n",
       "      <td>Recall Score</td>\n",
       "      <td>0.884866</td>\n",
       "    </tr>\n",
       "    <tr>\n",
       "      <th>4</th>\n",
       "      <td>GradientBoostingClassifier</td>\n",
       "      <td>Recall Score</td>\n",
       "      <td>0.807189</td>\n",
       "    </tr>\n",
       "    <tr>\n",
       "      <th>5</th>\n",
       "      <td>LogisticRegression</td>\n",
       "      <td>Recall Score</td>\n",
       "      <td>0.640230</td>\n",
       "    </tr>\n",
       "    <tr>\n",
       "      <th>6</th>\n",
       "      <td>RandomForestClassifier</td>\n",
       "      <td>Accuracy Score</td>\n",
       "      <td>0.821299</td>\n",
       "    </tr>\n",
       "    <tr>\n",
       "      <th>7</th>\n",
       "      <td>GradientBoostingClassifier</td>\n",
       "      <td>Accuracy Score</td>\n",
       "      <td>0.779142</td>\n",
       "    </tr>\n",
       "    <tr>\n",
       "      <th>8</th>\n",
       "      <td>LogisticRegression</td>\n",
       "      <td>Accuracy Score</td>\n",
       "      <td>0.662961</td>\n",
       "    </tr>\n",
       "    <tr>\n",
       "      <th>9</th>\n",
       "      <td>RandomForestClassifier</td>\n",
       "      <td>AUC Score</td>\n",
       "      <td>0.788917</td>\n",
       "    </tr>\n",
       "    <tr>\n",
       "      <th>10</th>\n",
       "      <td>GradientBoostingClassifier</td>\n",
       "      <td>AUC Score</td>\n",
       "      <td>0.808380</td>\n",
       "    </tr>\n",
       "    <tr>\n",
       "      <th>11</th>\n",
       "      <td>LogisticRegression</td>\n",
       "      <td>AUC Score</td>\n",
       "      <td>0.788874</td>\n",
       "    </tr>\n",
       "  </tbody>\n",
       "</table>\n",
       "</div>"
      ],
      "text/plain": [
       "                         Model        variable     value\n",
       "0       RandomForestClassifier        F1 Score  0.826650\n",
       "1   GradientBoostingClassifier        F1 Score  0.804251\n",
       "2           LogisticRegression        F1 Score  0.716710\n",
       "3       RandomForestClassifier    Recall Score  0.884866\n",
       "4   GradientBoostingClassifier    Recall Score  0.807189\n",
       "5           LogisticRegression    Recall Score  0.640230\n",
       "6       RandomForestClassifier  Accuracy Score  0.821299\n",
       "7   GradientBoostingClassifier  Accuracy Score  0.779142\n",
       "8           LogisticRegression  Accuracy Score  0.662961\n",
       "9       RandomForestClassifier       AUC Score  0.788917\n",
       "10  GradientBoostingClassifier       AUC Score  0.808380\n",
       "11          LogisticRegression       AUC Score  0.788874"
      ]
     },
     "execution_count": 49,
     "metadata": {},
     "output_type": "execute_result"
    }
   ],
   "source": [
    "smoted_sort_model_df"
   ]
  },
  {
   "cell_type": "code",
   "execution_count": 50,
   "metadata": {},
   "outputs": [],
   "source": [
    "# best smote model performanxce -- gradientboosting\n",
    "y_pred_smoted=smote_pipelines[1].predict(X_up_test)"
   ]
  },
  {
   "cell_type": "code",
   "execution_count": 51,
   "metadata": {},
   "outputs": [
    {
     "data": {
      "image/png": "[encoded data removed]",
      "text/plain": [
       "<Figure size 576x360 with 2 Axes>"
      ]
     },
     "metadata": {},
     "output_type": "display_data"
    }
   ],
   "source": [
    "cm_smoted = confusion_matrix(y_up_test,y_pred_smoted )\n",
    "\n",
    "sns.set(font_scale=1.0)\n",
    "labels = ['True Neg','False Pos','False Neg','True Pos']\n",
    "categories = ['Fake Review', 'Actual Review']\n",
    "make_confusion_matrix(cm_smoted, \n",
    "                      group_names=labels,\n",
    "                      categories=categories, \n",
    "                      cmap='Blues',figsize=(8,5))\n",
    "\n",
    "plt.title('Confusion Matrix',fontsize=15)\n",
    "plt.tight_layout();"
   ]
  },
  {
   "cell_type": "code",
   "execution_count": 52,
   "metadata": {
    "scrolled": true
   },
   "outputs": [
    {
     "name": "stderr",
     "output_type": "stream",
     "text": [
      "/Users/kessiezhang/anaconda3/lib/python3.7/site-packages/sklearn/ensemble/forest.py:245: FutureWarning: The default value of n_estimators will change from 10 in version 0.20 to 100 in 0.22.\n",
      "  \"10 in version 0.20 to 100 in 0.22.\", FutureWarning)\n",
      "/Users/kessiezhang/anaconda3/lib/python3.7/site-packages/sklearn/linear_model/logistic.py:432: FutureWarning: Default solver will be changed to 'lbfgs' in 0.22. Specify a solver to silence this warning.\n",
      "  FutureWarning)\n"
     ]
    }
   ],
   "source": [
    "adasyn_pipelines = make_pipeline()\n",
    "# Train all the models\n",
    "for pipe in adasyn_pipelines:\n",
    "    pipe.fit(X_adasyn_train, y_adasyn_train)"
   ]
  },
  {
   "cell_type": "code",
   "execution_count": 53,
   "metadata": {},
   "outputs": [],
   "source": [
    "# apply sort_models function from above\n",
    "adasyn_sorted_model = sort_models(adasyn_pipelines, X_up_test, y_up_test)\n",
    "adasyn_sort_model_df = pd.DataFrame(adasyn_sorted_model)\n",
    "adasyn_sort_model_df.columns = ['Model','F1 Score','Recall Score','Accuracy Score','AUC Score']\n",
    "adasyn_sort_model_df = pd.melt(adasyn_sort_model_df,id_vars=['Model'])"
   ]
  },
  {
   "cell_type": "code",
   "execution_count": 54,
   "metadata": {},
   "outputs": [
    {
     "data": {
      "image/png": "[encoded data removed]",
      "text/plain": [
       "<Figure size 648x288 with 1 Axes>"
      ]
     },
     "metadata": {},
     "output_type": "display_data"
    }
   ],
   "source": [
    "plt.figure(figsize=(9, 4))\n",
    "ax = sns.barplot(x=\"Model\", y=\"value\", hue = \"variable\",data=adasyn_sort_model_df)\n",
    "ax.legend(bbox_to_anchor=(1.0, 1.05))\n",
    "plt.title('Models using Adasyn Upsampling Behavioral Data',fontsize=15);"
   ]
  },
  {
   "cell_type": "code",
   "execution_count": 55,
   "metadata": {},
   "outputs": [
    {
     "data": {
      "text/html": [
       "<div>\n",
       "<style scoped>\n",
       "    .dataframe tbody tr th:only-of-type {\n",
       "        vertical-align: middle;\n",
       "    }\n",
       "\n",
       "    .dataframe tbody tr th {\n",
       "        vertical-align: top;\n",
       "    }\n",
       "\n",
       "    .dataframe thead th {\n",
       "        text-align: right;\n",
       "    }\n",
       "</style>\n",
       "<table border=\"1\" class=\"dataframe\">\n",
       "  <thead>\n",
       "    <tr style=\"text-align: right;\">\n",
       "      <th></th>\n",
       "      <th>Model</th>\n",
       "      <th>variable</th>\n",
       "      <th>value</th>\n",
       "    </tr>\n",
       "  </thead>\n",
       "  <tbody>\n",
       "    <tr>\n",
       "      <th>0</th>\n",
       "      <td>RandomForestClassifier</td>\n",
       "      <td>F1 Score</td>\n",
       "      <td>0.826566</td>\n",
       "    </tr>\n",
       "    <tr>\n",
       "      <th>1</th>\n",
       "      <td>GradientBoostingClassifier</td>\n",
       "      <td>F1 Score</td>\n",
       "      <td>0.802366</td>\n",
       "    </tr>\n",
       "    <tr>\n",
       "      <th>2</th>\n",
       "      <td>LogisticRegression</td>\n",
       "      <td>F1 Score</td>\n",
       "      <td>0.692168</td>\n",
       "    </tr>\n",
       "    <tr>\n",
       "      <th>3</th>\n",
       "      <td>RandomForestClassifier</td>\n",
       "      <td>Recall Score</td>\n",
       "      <td>0.884684</td>\n",
       "    </tr>\n",
       "    <tr>\n",
       "      <th>4</th>\n",
       "      <td>GradientBoostingClassifier</td>\n",
       "      <td>Recall Score</td>\n",
       "      <td>0.802704</td>\n",
       "    </tr>\n",
       "    <tr>\n",
       "      <th>5</th>\n",
       "      <td>LogisticRegression</td>\n",
       "      <td>Recall Score</td>\n",
       "      <td>0.601028</td>\n",
       "    </tr>\n",
       "    <tr>\n",
       "      <th>6</th>\n",
       "      <td>RandomForestClassifier</td>\n",
       "      <td>Accuracy Score</td>\n",
       "      <td>0.821168</td>\n",
       "    </tr>\n",
       "    <tr>\n",
       "      <th>7</th>\n",
       "      <td>GradientBoostingClassifier</td>\n",
       "      <td>Accuracy Score</td>\n",
       "      <td>0.776296</td>\n",
       "    </tr>\n",
       "    <tr>\n",
       "      <th>8</th>\n",
       "      <td>LogisticRegression</td>\n",
       "      <td>Accuracy Score</td>\n",
       "      <td>0.634071</td>\n",
       "    </tr>\n",
       "    <tr>\n",
       "      <th>9</th>\n",
       "      <td>RandomForestClassifier</td>\n",
       "      <td>AUC Score</td>\n",
       "      <td>0.787482</td>\n",
       "    </tr>\n",
       "    <tr>\n",
       "      <th>10</th>\n",
       "      <td>GradientBoostingClassifier</td>\n",
       "      <td>AUC Score</td>\n",
       "      <td>0.807050</td>\n",
       "    </tr>\n",
       "    <tr>\n",
       "      <th>11</th>\n",
       "      <td>LogisticRegression</td>\n",
       "      <td>AUC Score</td>\n",
       "      <td>0.791000</td>\n",
       "    </tr>\n",
       "  </tbody>\n",
       "</table>\n",
       "</div>"
      ],
      "text/plain": [
       "                         Model        variable     value\n",
       "0       RandomForestClassifier        F1 Score  0.826566\n",
       "1   GradientBoostingClassifier        F1 Score  0.802366\n",
       "2           LogisticRegression        F1 Score  0.692168\n",
       "3       RandomForestClassifier    Recall Score  0.884684\n",
       "4   GradientBoostingClassifier    Recall Score  0.802704\n",
       "5           LogisticRegression    Recall Score  0.601028\n",
       "6       RandomForestClassifier  Accuracy Score  0.821168\n",
       "7   GradientBoostingClassifier  Accuracy Score  0.776296\n",
       "8           LogisticRegression  Accuracy Score  0.634071\n",
       "9       RandomForestClassifier       AUC Score  0.787482\n",
       "10  GradientBoostingClassifier       AUC Score  0.807050\n",
       "11          LogisticRegression       AUC Score  0.791000"
      ]
     },
     "execution_count": 55,
     "metadata": {},
     "output_type": "execute_result"
    }
   ],
   "source": [
    "adasyn_sort_model_df"
   ]
  },
  {
   "cell_type": "code",
   "execution_count": 56,
   "metadata": {},
   "outputs": [],
   "source": [
    "# best adasyn model performanxce -- gradientboosting\n",
    "y_pred_adasyn=adasyn_pipelines[1].predict(X_up_test)"
   ]
  },
  {
   "cell_type": "code",
   "execution_count": 57,
   "metadata": {
    "scrolled": true
   },
   "outputs": [
    {
     "data": {
      "image/png": "[encoded data removed]",
      "text/plain": [
       "<Figure size 576x360 with 2 Axes>"
      ]
     },
     "metadata": {},
     "output_type": "display_data"
    }
   ],
   "source": [
    "# best adasyn model performanxce\n",
    "cm_adasyn = confusion_matrix(y_up_test, y_pred_adasyn)\n",
    "\n",
    "# sns.set(font_scale=1.0)\n",
    "labels = ['True Neg','False Pos','False Neg','True Pos']\n",
    "categories = ['Fake Review', 'Actual Review']\n",
    "make_confusion_matrix(cm_adasyn, \n",
    "                      group_names=labels,\n",
    "                      categories=categories, \n",
    "                      cmap='Blues',figsize=(8,5))\n",
    "\n",
    "plt.title('Confusion Matrix',fontsize=15)\n",
    "plt.tight_layout();"
   ]
  },
  {
   "cell_type": "markdown",
   "metadata": {},
   "source": [
    "### b. User Activities Data Downsampling"
   ]
  },
  {
   "cell_type": "code",
   "execution_count": 58,
   "metadata": {},
   "outputs": [],
   "source": [
    "# Separate majority and minority classes\n",
    "df_majority = data[data.label==1]\n",
    "df_minority = data[data.label==-1]"
   ]
  },
  {
   "cell_type": "code",
   "execution_count": 59,
   "metadata": {
    "scrolled": true
   },
   "outputs": [
    {
     "data": {
      "text/plain": [
       "-1    80425\n",
       " 1    80425\n",
       "Name: label, dtype: int64"
      ]
     },
     "execution_count": 59,
     "metadata": {},
     "output_type": "execute_result"
    }
   ],
   "source": [
    "from sklearn.utils import resample\n",
    "# Downsample majority class\n",
    "df_majority_downsampled = resample(df_majority, \n",
    "                                 replace=False,    # sample without replacement\n",
    "                                 n_samples=80425,     # to match minority class\n",
    "                                 random_state=123) # reproducible results\n",
    " \n",
    "# Combine minority class with downsampled majority class\n",
    "df_downsampled = pd.concat([df_majority_downsampled, df_minority])\n",
    " \n",
    "# Display new class counts\n",
    "df_downsampled.label.value_counts()"
   ]
  },
  {
   "cell_type": "code",
   "execution_count": 8,
   "metadata": {},
   "outputs": [],
   "source": [
    "# df_downsampled.to_csv('df_downsampled.csv',index=False)\n",
    "# df_downsampled=pd.read_csv('df_downsampled.csv')"
   ]
  },
  {
   "cell_type": "markdown",
   "metadata": {},
   "source": [
    "### Build W2V and Merge with User Activities Data Downsampling\n",
    "\n",
    "Doing so can make sure that the data we use to train text classification and user activities classification models are the same. Text classification will use the review's word2vec form while user activities classification will use the reviewer's user activities."
   ]
  },
  {
   "cell_type": "code",
   "execution_count": 9,
   "metadata": {
    "scrolled": true
   },
   "outputs": [
    {
     "data": {
      "text/plain": [
       "'!\"#$%&\\'()*+,-./:;<=>?@[\\\\]^_`{|}~'"
      ]
     },
     "execution_count": 9,
     "metadata": {},
     "output_type": "execute_result"
    }
   ],
   "source": [
    "# clean the data\n",
    "import string\n",
    "from nltk.tokenize import RegexpTokenizer\n",
    "string.punctuation"
   ]
  },
  {
   "cell_type": "code",
   "execution_count": 10,
   "metadata": {},
   "outputs": [],
   "source": [
    "def remove_punctuation(text):\n",
    "    #tokenizer breaks string into a list of words\n",
    "    tokenizer = RegexpTokenizer(r'\\w+')\n",
    "    text = tokenizer.tokenize(text)\n",
    "    text = \" \".join([c for c in text if c not in string.punctuation])\n",
    "    return text"
   ]
  },
  {
   "cell_type": "code",
   "execution_count": 9,
   "metadata": {},
   "outputs": [],
   "source": [
    "text_df_downsampled=df_downsampled.iloc[:,:3]"
   ]
  },
  {
   "cell_type": "code",
   "execution_count": 10,
   "metadata": {},
   "outputs": [
    {
     "data": {
      "text/html": [
       "<div>\n",
       "<style scoped>\n",
       "    .dataframe tbody tr th:only-of-type {\n",
       "        vertical-align: middle;\n",
       "    }\n",
       "\n",
       "    .dataframe tbody tr th {\n",
       "        vertical-align: top;\n",
       "    }\n",
       "\n",
       "    .dataframe thead th {\n",
       "        text-align: right;\n",
       "    }\n",
       "</style>\n",
       "<table border=\"1\" class=\"dataframe\">\n",
       "  <thead>\n",
       "    <tr style=\"text-align: right;\">\n",
       "      <th></th>\n",
       "      <th>label</th>\n",
       "      <th>review_id</th>\n",
       "      <th>review</th>\n",
       "    </tr>\n",
       "  </thead>\n",
       "  <tbody>\n",
       "    <tr>\n",
       "      <th>0</th>\n",
       "      <td>1</td>\n",
       "      <td>558391</td>\n",
       "      <td>Damn good pizzaria. Old fashioned, brick oven ...</td>\n",
       "    </tr>\n",
       "    <tr>\n",
       "      <th>1</th>\n",
       "      <td>1</td>\n",
       "      <td>93260</td>\n",
       "      <td>The entrees here are classic hearty dishes, th...</td>\n",
       "    </tr>\n",
       "    <tr>\n",
       "      <th>2</th>\n",
       "      <td>1</td>\n",
       "      <td>328802</td>\n",
       "      <td>What can I say? If you want better Italian foo...</td>\n",
       "    </tr>\n",
       "    <tr>\n",
       "      <th>3</th>\n",
       "      <td>1</td>\n",
       "      <td>138491</td>\n",
       "      <td>Stopped by here for lunch and a brew on a warm...</td>\n",
       "    </tr>\n",
       "    <tr>\n",
       "      <th>4</th>\n",
       "      <td>1</td>\n",
       "      <td>555771</td>\n",
       "      <td>We need one of these in every neighborhood. Su...</td>\n",
       "    </tr>\n",
       "  </tbody>\n",
       "</table>\n",
       "</div>"
      ],
      "text/plain": [
       "   label  review_id                                             review\n",
       "0      1     558391  Damn good pizzaria. Old fashioned, brick oven ...\n",
       "1      1      93260  The entrees here are classic hearty dishes, th...\n",
       "2      1     328802  What can I say? If you want better Italian foo...\n",
       "3      1     138491  Stopped by here for lunch and a brew on a warm...\n",
       "4      1     555771  We need one of these in every neighborhood. Su..."
      ]
     },
     "execution_count": 10,
     "metadata": {},
     "output_type": "execute_result"
    }
   ],
   "source": [
    "text_df_downsampled.head()"
   ]
  },
  {
   "cell_type": "code",
   "execution_count": 6,
   "metadata": {
    "scrolled": true
   },
   "outputs": [],
   "source": [
    "# text_df_downsampled.to_csv('text_df_downsampled.csv',index=False)\n",
    "# text_df_downsampled=pd.read_csv('text_df_downsampled.csv')"
   ]
  },
  {
   "cell_type": "code",
   "execution_count": 11,
   "metadata": {},
   "outputs": [],
   "source": [
    "# we only build w2v on downsample data because it will take too long to \n",
    "# convert text data to a vector if the data is big\n",
    "text_df_downsampled.review=text_df_downsampled.review.apply(lambda x: remove_punctuation(x))"
   ]
  },
  {
   "cell_type": "code",
   "execution_count": 12,
   "metadata": {},
   "outputs": [
    {
     "data": {
      "text/html": [
       "<div>\n",
       "<style scoped>\n",
       "    .dataframe tbody tr th:only-of-type {\n",
       "        vertical-align: middle;\n",
       "    }\n",
       "\n",
       "    .dataframe tbody tr th {\n",
       "        vertical-align: top;\n",
       "    }\n",
       "\n",
       "    .dataframe thead th {\n",
       "        text-align: right;\n",
       "    }\n",
       "</style>\n",
       "<table border=\"1\" class=\"dataframe\">\n",
       "  <thead>\n",
       "    <tr style=\"text-align: right;\">\n",
       "      <th></th>\n",
       "      <th>label</th>\n",
       "      <th>review_id</th>\n",
       "      <th>review</th>\n",
       "    </tr>\n",
       "  </thead>\n",
       "  <tbody>\n",
       "    <tr>\n",
       "      <th>0</th>\n",
       "      <td>1</td>\n",
       "      <td>558391</td>\n",
       "      <td>Damn good pizzaria Old fashioned brick oven co...</td>\n",
       "    </tr>\n",
       "    <tr>\n",
       "      <th>1</th>\n",
       "      <td>1</td>\n",
       "      <td>93260</td>\n",
       "      <td>The entrees here are classic hearty dishes thi...</td>\n",
       "    </tr>\n",
       "    <tr>\n",
       "      <th>2</th>\n",
       "      <td>1</td>\n",
       "      <td>328802</td>\n",
       "      <td>What can I say If you want better Italian food...</td>\n",
       "    </tr>\n",
       "    <tr>\n",
       "      <th>3</th>\n",
       "      <td>1</td>\n",
       "      <td>138491</td>\n",
       "      <td>Stopped by here for lunch and a brew on a warm...</td>\n",
       "    </tr>\n",
       "    <tr>\n",
       "      <th>4</th>\n",
       "      <td>1</td>\n",
       "      <td>555771</td>\n",
       "      <td>We need one of these in every neighborhood Sup...</td>\n",
       "    </tr>\n",
       "  </tbody>\n",
       "</table>\n",
       "</div>"
      ],
      "text/plain": [
       "   label  review_id                                             review\n",
       "0      1     558391  Damn good pizzaria Old fashioned brick oven co...\n",
       "1      1      93260  The entrees here are classic hearty dishes thi...\n",
       "2      1     328802  What can I say If you want better Italian food...\n",
       "3      1     138491  Stopped by here for lunch and a brew on a warm...\n",
       "4      1     555771  We need one of these in every neighborhood Sup..."
      ]
     },
     "execution_count": 12,
     "metadata": {},
     "output_type": "execute_result"
    }
   ],
   "source": [
    "text_df_downsampled.head()"
   ]
  },
  {
   "cell_type": "code",
   "execution_count": 14,
   "metadata": {},
   "outputs": [],
   "source": [
    "text_df_downsampled.to_csv('clean_text_df_downsampled.csv',index=False)"
   ]
  },
  {
   "cell_type": "code",
   "execution_count": 15,
   "metadata": {},
   "outputs": [],
   "source": [
    "file_path = 'clean_text_df_downsampled.csv'"
   ]
  },
  {
   "cell_type": "code",
   "execution_count": 16,
   "metadata": {},
   "outputs": [],
   "source": [
    "import h2o.model.clustering\n",
    "from h2o.model.clustering import H2OClusteringModel\n",
    "from nltk.corpus import stopwords"
   ]
  },
  {
   "cell_type": "code",
   "execution_count": 17,
   "metadata": {},
   "outputs": [
    {
     "name": "stdout",
     "output_type": "stream",
     "text": [
      "Checking whether there is an H2O instance running at http://localhost:54323 ..... not found.\n",
      "Attempting to start a local H2O server...\n",
      "  Java Version: java version \"1.8.0_221\"; Java(TM) SE Runtime Environment (build 1.8.0_221-b11); Java HotSpot(TM) 64-Bit Server VM (build 25.221-b11, mixed mode)\n",
      "  Starting server from /Users/kessiezhang/anaconda3/lib/python3.7/site-packages/h2o/backend/bin/h2o.jar\n",
      "  Ice root: /var/folders/b6/hjxvyjq977ndl2kzn72hgh2c0000gn/T/tmpq9e7xbcb\n",
      "  JVM stdout: /var/folders/b6/hjxvyjq977ndl2kzn72hgh2c0000gn/T/tmpq9e7xbcb/h2o_kessiezhang_started_from_python.out\n",
      "  JVM stderr: /var/folders/b6/hjxvyjq977ndl2kzn72hgh2c0000gn/T/tmpq9e7xbcb/h2o_kessiezhang_started_from_python.err\n",
      "  Server is running at http://127.0.0.1:54323\n",
      "Connecting to H2O server at http://127.0.0.1:54323 ... successful.\n"
     ]
    },
    {
     "data": {
      "text/html": [
       "<div style=\"overflow:auto\"><table style=\"width:50%\"><tr><td>H2O_cluster_uptime:</td>\n",
       "<td>03 secs</td></tr>\n",
       "<tr><td>H2O_cluster_timezone:</td>\n",
       "<td>America/Los_Angeles</td></tr>\n",
       "<tr><td>H2O_data_parsing_timezone:</td>\n",
       "<td>UTC</td></tr>\n",
       "<tr><td>H2O_cluster_version:</td>\n",
       "<td>3.30.0.6</td></tr>\n",
       "<tr><td>H2O_cluster_version_age:</td>\n",
       "<td>2 months and 28 days </td></tr>\n",
       "<tr><td>H2O_cluster_name:</td>\n",
       "<td>H2O_from_python_kessiezhang_b6jgeb</td></tr>\n",
       "<tr><td>H2O_cluster_total_nodes:</td>\n",
       "<td>1</td></tr>\n",
       "<tr><td>H2O_cluster_free_memory:</td>\n",
       "<td>1.778 Gb</td></tr>\n",
       "<tr><td>H2O_cluster_total_cores:</td>\n",
       "<td>4</td></tr>\n",
       "<tr><td>H2O_cluster_allowed_cores:</td>\n",
       "<td>4</td></tr>\n",
       "<tr><td>H2O_cluster_status:</td>\n",
       "<td>accepting new members, healthy</td></tr>\n",
       "<tr><td>H2O_connection_url:</td>\n",
       "<td>http://127.0.0.1:54323</td></tr>\n",
       "<tr><td>H2O_connection_proxy:</td>\n",
       "<td>{\"http\": null, \"https\": null}</td></tr>\n",
       "<tr><td>H2O_internal_security:</td>\n",
       "<td>False</td></tr>\n",
       "<tr><td>H2O_API_Extensions:</td>\n",
       "<td>Amazon S3, XGBoost, Algos, AutoML, Core V3, TargetEncoder, Core V4</td></tr>\n",
       "<tr><td>Python_version:</td>\n",
       "<td>3.7.3 final</td></tr></table></div>"
      ],
      "text/plain": [
       "--------------------------  ------------------------------------------------------------------\n",
       "H2O_cluster_uptime:         03 secs\n",
       "H2O_cluster_timezone:       America/Los_Angeles\n",
       "H2O_data_parsing_timezone:  UTC\n",
       "H2O_cluster_version:        3.30.0.6\n",
       "H2O_cluster_version_age:    2 months and 28 days\n",
       "H2O_cluster_name:           H2O_from_python_kessiezhang_b6jgeb\n",
       "H2O_cluster_total_nodes:    1\n",
       "H2O_cluster_free_memory:    1.778 Gb\n",
       "H2O_cluster_total_cores:    4\n",
       "H2O_cluster_allowed_cores:  4\n",
       "H2O_cluster_status:         accepting new members, healthy\n",
       "H2O_connection_url:         http://127.0.0.1:54323\n",
       "H2O_connection_proxy:       {\"http\": null, \"https\": null}\n",
       "H2O_internal_security:      False\n",
       "H2O_API_Extensions:         Amazon S3, XGBoost, Algos, AutoML, Core V3, TargetEncoder, Core V4\n",
       "Python_version:             3.7.3 final\n",
       "--------------------------  ------------------------------------------------------------------"
      ]
     },
     "metadata": {},
     "output_type": "display_data"
    }
   ],
   "source": [
    "import h2o\n",
    "h2o.init(ip=\"localhost\", port=54323)\n",
    "from h2o.estimators.word2vec import H2OWord2vecEstimator\n",
    "from h2o.estimators.gbm import H2OGradientBoostingEstimator"
   ]
  },
  {
   "cell_type": "code",
   "execution_count": 18,
   "metadata": {},
   "outputs": [
    {
     "name": "stdout",
     "output_type": "stream",
     "text": [
      "Parse progress: |█████████████████████████████████████████████████████████| 100%\n"
     ]
    }
   ],
   "source": [
    "text_log =(h2o.import_file(file_path, destination_frame = \"review\",\n",
    "                          col_names = [\"label\",\"review_id\",\"review\"], \n",
    "                          col_types = [\"int\",\"int\",\"string\"]))"
   ]
  },
  {
   "cell_type": "code",
   "execution_count": 19,
   "metadata": {},
   "outputs": [
    {
     "name": "stderr",
     "output_type": "stream",
     "text": [
      "[nltk_data] Downloading package stopwords to\n",
      "[nltk_data]     /Users/kessiezhang/nltk_data...\n",
      "[nltk_data]   Package stopwords is already up-to-date!\n"
     ]
    },
    {
     "data": {
      "text/plain": [
       "True"
      ]
     },
     "execution_count": 19,
     "metadata": {},
     "output_type": "execute_result"
    }
   ],
   "source": [
    "import nltk\n",
    "nltk.download('stopwords')"
   ]
  },
  {
   "cell_type": "code",
   "execution_count": 20,
   "metadata": {},
   "outputs": [],
   "source": [
    "STOP_WORDS = set(stopwords.words('english'))"
   ]
  },
  {
   "cell_type": "code",
   "execution_count": 21,
   "metadata": {},
   "outputs": [],
   "source": [
    "def tokenize(sentences, stop_word = STOP_WORDS):\n",
    "    tokenized = sentences.tokenize(\"\\\\W+\")\n",
    "    tokenized_lower = tokenized.tolower()\n",
    "    tokenized_filtered = tokenized_lower[(tokenized_lower.nchar() >= 2) | (tokenized_lower.isna()),:]\n",
    "    tokenized_words = tokenized_filtered[tokenized_filtered.grep(\"[0-9]\",invert=True,output_logical=True),:]\n",
    "    tokenized_words = tokenized_words[(tokenized_words.isna()) | (~ tokenized_words.isin(STOP_WORDS)),:]\n",
    "    return tokenized_words"
   ]
  },
  {
   "cell_type": "code",
   "execution_count": 22,
   "metadata": {},
   "outputs": [],
   "source": [
    "def predict(review_text_test,w2v,gbm):\n",
    "    words = tokenize(h2o.H2OFrame(review_text_test).ascharacter())\n",
    "    job_title_vec = w2v.transform(words, aggregate_method=\"AVERAGE\")\n",
    "    return(gbm.predict(test_data=job_title_vec))"
   ]
  },
  {
   "cell_type": "code",
   "execution_count": 23,
   "metadata": {},
   "outputs": [
    {
     "name": "stdout",
     "output_type": "stream",
     "text": [
      "Break chat text into sequence of words\n"
     ]
    }
   ],
   "source": [
    "print(\"Break chat text into sequence of words\")\n",
    "words = tokenize(text_log[\"review\"])\n"
   ]
  },
  {
   "cell_type": "code",
   "execution_count": 24,
   "metadata": {},
   "outputs": [
    {
     "name": "stdout",
     "output_type": "stream",
     "text": [
      "Build word2vec model\n",
      "word2vec Model Build progress: |██████████████████████████████████████████| 100%\n",
      "word2vec Model Build progress: |██████████████████████████████████████████| 100%\n"
     ]
    }
   ],
   "source": [
    "print(\"Build word2vec model\")\n",
    "# min_word_freq default is 5, thats why I have missing values\n",
    "w2v_model = H2OWord2vecEstimator(sent_sample_rate = 0.0, epochs = 5)\n",
    "new_w2v_model = w2v_model.train(training_frame=words)\n",
    "w2v_model.train(training_frame=words)"
   ]
  },
  {
   "cell_type": "code",
   "execution_count": 25,
   "metadata": {},
   "outputs": [
    {
     "name": "stdout",
     "output_type": "stream",
     "text": [
      "Calculate a vector for each review text\n"
     ]
    }
   ],
   "source": [
    "print(\"Calculate a vector for each review text\")\n",
    "review_text_vecs = w2v_model.transform(words, aggregate_method = \"AVERAGE\")"
   ]
  },
  {
   "cell_type": "code",
   "execution_count": 26,
   "metadata": {},
   "outputs": [
    {
     "name": "stdout",
     "output_type": "stream",
     "text": [
      "Prepare training&validation data (keep only review texts made of known words)\n"
     ]
    }
   ],
   "source": [
    "print(\"Prepare training&validation data (keep only review texts made of known words)\")\n",
    "valid_chat_text= ~ review_text_vecs[\"C1\"].isna()\n",
    "data = text_log[valid_chat_text,:].cbind(review_text_vecs[valid_chat_text,:])"
   ]
  },
  {
   "cell_type": "code",
   "execution_count": 27,
   "metadata": {},
   "outputs": [],
   "source": [
    "data_as_df_5 = h2o.as_list(data)"
   ]
  },
  {
   "cell_type": "code",
   "execution_count": 28,
   "metadata": {},
   "outputs": [],
   "source": [
    "# data_as_df_5.to_csv('clean_data_as_df.csv')"
   ]
  },
  {
   "cell_type": "code",
   "execution_count": 37,
   "metadata": {},
   "outputs": [],
   "source": [
    "df_downsampled.drop(['label','review'],axis=1,inplace=True)"
   ]
  },
  {
   "cell_type": "code",
   "execution_count": 39,
   "metadata": {
    "scrolled": true
   },
   "outputs": [
    {
     "data": {
      "text/plain": [
       "(160802, 117)"
      ]
     },
     "execution_count": 39,
     "metadata": {},
     "output_type": "execute_result"
    }
   ],
   "source": [
    "#merge w2v with df_downsampled data\n",
    "\n",
    "downsample_final_df=pd.merge(data_as_df_5,df_downsampled, left_on=['review_id'], right_on=['review_id'])\n",
    "downsample_final_df.shape"
   ]
  },
  {
   "cell_type": "code",
   "execution_count": 40,
   "metadata": {
    "scrolled": true
   },
   "outputs": [
    {
     "data": {
      "text/html": [
       "<div>\n",
       "<style scoped>\n",
       "    .dataframe tbody tr th:only-of-type {\n",
       "        vertical-align: middle;\n",
       "    }\n",
       "\n",
       "    .dataframe tbody tr th {\n",
       "        vertical-align: top;\n",
       "    }\n",
       "\n",
       "    .dataframe thead th {\n",
       "        text-align: right;\n",
       "    }\n",
       "</style>\n",
       "<table border=\"1\" class=\"dataframe\">\n",
       "  <thead>\n",
       "    <tr style=\"text-align: right;\">\n",
       "      <th></th>\n",
       "      <th>label</th>\n",
       "      <th>review_id</th>\n",
       "      <th>review</th>\n",
       "      <th>C1</th>\n",
       "      <th>C2</th>\n",
       "      <th>C3</th>\n",
       "      <th>C4</th>\n",
       "      <th>C5</th>\n",
       "      <th>C6</th>\n",
       "      <th>C7</th>\n",
       "      <th>...</th>\n",
       "      <th>neg_rating_percentage</th>\n",
       "      <th>pos_rating_percentage</th>\n",
       "      <th>neu_rating_percentage</th>\n",
       "      <th>review_len</th>\n",
       "      <th>avg_review_len</th>\n",
       "      <th>std_rating</th>\n",
       "      <th>avg_word_length</th>\n",
       "      <th>num_sent</th>\n",
       "      <th>percentage_of_numerals</th>\n",
       "      <th>percentage_of_capitalized</th>\n",
       "    </tr>\n",
       "  </thead>\n",
       "  <tbody>\n",
       "    <tr>\n",
       "      <th>0</th>\n",
       "      <td>1</td>\n",
       "      <td>558391</td>\n",
       "      <td>Damn good pizzaria Old fashioned brick oven co...</td>\n",
       "      <td>0.118176</td>\n",
       "      <td>-0.00554</td>\n",
       "      <td>-0.118697</td>\n",
       "      <td>0.004663</td>\n",
       "      <td>0.225756</td>\n",
       "      <td>0.110888</td>\n",
       "      <td>-0.067641</td>\n",
       "      <td>...</td>\n",
       "      <td>0.0</td>\n",
       "      <td>1.0</td>\n",
       "      <td>0.0</td>\n",
       "      <td>700</td>\n",
       "      <td>700.0</td>\n",
       "      <td>0.0</td>\n",
       "      <td>4.7</td>\n",
       "      <td>8</td>\n",
       "      <td>0.0</td>\n",
       "      <td>0.019469</td>\n",
       "    </tr>\n",
       "  </tbody>\n",
       "</table>\n",
       "<p>1 rows × 117 columns</p>\n",
       "</div>"
      ],
      "text/plain": [
       "   label  review_id                                             review  \\\n",
       "0      1     558391  Damn good pizzaria Old fashioned brick oven co...   \n",
       "\n",
       "         C1       C2        C3        C4        C5        C6        C7  ...  \\\n",
       "0  0.118176 -0.00554 -0.118697  0.004663  0.225756  0.110888 -0.067641  ...   \n",
       "\n",
       "   neg_rating_percentage  pos_rating_percentage  neu_rating_percentage  \\\n",
       "0                    0.0                    1.0                    0.0   \n",
       "\n",
       "   review_len  avg_review_len  std_rating  avg_word_length  num_sent  \\\n",
       "0         700           700.0         0.0              4.7         8   \n",
       "\n",
       "   percentage_of_numerals  percentage_of_capitalized  \n",
       "0                     0.0                   0.019469  \n",
       "\n",
       "[1 rows x 117 columns]"
      ]
     },
     "execution_count": 40,
     "metadata": {},
     "output_type": "execute_result"
    }
   ],
   "source": [
    "upsample_final_df.head(1)"
   ]
  },
  {
   "cell_type": "code",
   "execution_count": 41,
   "metadata": {},
   "outputs": [],
   "source": [
    "downsample_final_df.drop(['review_id','rating_cat'],axis=1,inplace=True)"
   ]
  },
  {
   "cell_type": "code",
   "execution_count": 63,
   "metadata": {},
   "outputs": [],
   "source": [
    "# downsample_final_df.to_csv('downsample_final_df.csv',index=False)"
   ]
  },
  {
   "cell_type": "code",
   "execution_count": 60,
   "metadata": {},
   "outputs": [],
   "source": [
    "downsample_final_df=pd.read_csv('downsample_final_df.csv')"
   ]
  },
  {
   "cell_type": "code",
   "execution_count": 61,
   "metadata": {},
   "outputs": [
    {
     "data": {
      "text/plain": [
       "((160802, 114), (160802,))"
      ]
     },
     "execution_count": 61,
     "metadata": {},
     "output_type": "execute_result"
    }
   ],
   "source": [
    "X=downsample_final_df.iloc[:,1:]\n",
    "y = downsample_final_df['label']\n",
    "X.shape, y.shape"
   ]
  },
  {
   "cell_type": "code",
   "execution_count": 62,
   "metadata": {},
   "outputs": [],
   "source": [
    "X_train, X_test, y_train, y_test = train_test_split(X, y, test_size=0.2, random_state=1)"
   ]
  },
  {
   "cell_type": "code",
   "execution_count": 63,
   "metadata": {
    "scrolled": true
   },
   "outputs": [],
   "source": [
    "#user activities\n",
    "X_activity_train=X_train.iloc[:,101:]\n",
    "X_activity_test=X_test.iloc[:,101:]"
   ]
  },
  {
   "cell_type": "code",
   "execution_count": 64,
   "metadata": {
    "scrolled": false
   },
   "outputs": [
    {
     "name": "stderr",
     "output_type": "stream",
     "text": [
      "/Users/kessiezhang/anaconda3/lib/python3.7/site-packages/sklearn/ensemble/forest.py:245: FutureWarning: The default value of n_estimators will change from 10 in version 0.20 to 100 in 0.22.\n",
      "  \"10 in version 0.20 to 100 in 0.22.\", FutureWarning)\n",
      "/Users/kessiezhang/anaconda3/lib/python3.7/site-packages/sklearn/linear_model/logistic.py:432: FutureWarning: Default solver will be changed to 'lbfgs' in 0.22. Specify a solver to silence this warning.\n",
      "  FutureWarning)\n"
     ]
    }
   ],
   "source": [
    "activity_pipelines = make_pipeline()\n",
    "# Train all the models\n",
    "for pipe in activity_pipelines:\n",
    "    pipe.fit(X_activity_train, y_train)"
   ]
  },
  {
   "cell_type": "code",
   "execution_count": 65,
   "metadata": {},
   "outputs": [],
   "source": [
    "activity_sorted_model = sort_models(activity_pipelines, X_activity_test, y_test)\n",
    "activity_sorted_model_df = pd.DataFrame(activity_sorted_model)\n",
    "activity_sorted_model_df.columns = ['Model','F1 Score','Recall Score','Accuracy Score','AUC Score']\n",
    "activity_sorted_model_df = pd.melt(activity_sorted_model_df,id_vars=['Model'])"
   ]
  },
  {
   "cell_type": "code",
   "execution_count": 66,
   "metadata": {
    "scrolled": false
   },
   "outputs": [
    {
     "data": {
      "text/html": [
       "<div>\n",
       "<style scoped>\n",
       "    .dataframe tbody tr th:only-of-type {\n",
       "        vertical-align: middle;\n",
       "    }\n",
       "\n",
       "    .dataframe tbody tr th {\n",
       "        vertical-align: top;\n",
       "    }\n",
       "\n",
       "    .dataframe thead th {\n",
       "        text-align: right;\n",
       "    }\n",
       "</style>\n",
       "<table border=\"1\" class=\"dataframe\">\n",
       "  <thead>\n",
       "    <tr style=\"text-align: right;\">\n",
       "      <th></th>\n",
       "      <th>Model</th>\n",
       "      <th>variable</th>\n",
       "      <th>value</th>\n",
       "    </tr>\n",
       "  </thead>\n",
       "  <tbody>\n",
       "    <tr>\n",
       "      <th>0</th>\n",
       "      <td>GradientBoostingClassifier</td>\n",
       "      <td>F1 Score</td>\n",
       "      <td>0.752331</td>\n",
       "    </tr>\n",
       "    <tr>\n",
       "      <th>1</th>\n",
       "      <td>RandomForestClassifier</td>\n",
       "      <td>F1 Score</td>\n",
       "      <td>0.746471</td>\n",
       "    </tr>\n",
       "    <tr>\n",
       "      <th>2</th>\n",
       "      <td>LogisticRegression</td>\n",
       "      <td>F1 Score</td>\n",
       "      <td>0.722182</td>\n",
       "    </tr>\n",
       "    <tr>\n",
       "      <th>3</th>\n",
       "      <td>GradientBoostingClassifier</td>\n",
       "      <td>Recall Score</td>\n",
       "      <td>0.664920</td>\n",
       "    </tr>\n",
       "    <tr>\n",
       "      <th>4</th>\n",
       "      <td>RandomForestClassifier</td>\n",
       "      <td>Recall Score</td>\n",
       "      <td>0.661160</td>\n",
       "    </tr>\n",
       "    <tr>\n",
       "      <th>5</th>\n",
       "      <td>LogisticRegression</td>\n",
       "      <td>Recall Score</td>\n",
       "      <td>0.635764</td>\n",
       "    </tr>\n",
       "    <tr>\n",
       "      <th>6</th>\n",
       "      <td>GradientBoostingClassifier</td>\n",
       "      <td>Accuracy Score</td>\n",
       "      <td>0.754236</td>\n",
       "    </tr>\n",
       "    <tr>\n",
       "      <th>7</th>\n",
       "      <td>RandomForestClassifier</td>\n",
       "      <td>Accuracy Score</td>\n",
       "      <td>0.748329</td>\n",
       "    </tr>\n",
       "    <tr>\n",
       "      <th>8</th>\n",
       "      <td>LogisticRegression</td>\n",
       "      <td>Accuracy Score</td>\n",
       "      <td>0.724293</td>\n",
       "    </tr>\n",
       "    <tr>\n",
       "      <th>9</th>\n",
       "      <td>GradientBoostingClassifier</td>\n",
       "      <td>AUC Score</td>\n",
       "      <td>0.824268</td>\n",
       "    </tr>\n",
       "    <tr>\n",
       "      <th>10</th>\n",
       "      <td>RandomForestClassifier</td>\n",
       "      <td>AUC Score</td>\n",
       "      <td>0.809938</td>\n",
       "    </tr>\n",
       "    <tr>\n",
       "      <th>11</th>\n",
       "      <td>LogisticRegression</td>\n",
       "      <td>AUC Score</td>\n",
       "      <td>0.790840</td>\n",
       "    </tr>\n",
       "  </tbody>\n",
       "</table>\n",
       "</div>"
      ],
      "text/plain": [
       "                         Model        variable     value\n",
       "0   GradientBoostingClassifier        F1 Score  0.752331\n",
       "1       RandomForestClassifier        F1 Score  0.746471\n",
       "2           LogisticRegression        F1 Score  0.722182\n",
       "3   GradientBoostingClassifier    Recall Score  0.664920\n",
       "4       RandomForestClassifier    Recall Score  0.661160\n",
       "5           LogisticRegression    Recall Score  0.635764\n",
       "6   GradientBoostingClassifier  Accuracy Score  0.754236\n",
       "7       RandomForestClassifier  Accuracy Score  0.748329\n",
       "8           LogisticRegression  Accuracy Score  0.724293\n",
       "9   GradientBoostingClassifier       AUC Score  0.824268\n",
       "10      RandomForestClassifier       AUC Score  0.809938\n",
       "11          LogisticRegression       AUC Score  0.790840"
      ]
     },
     "execution_count": 66,
     "metadata": {},
     "output_type": "execute_result"
    }
   ],
   "source": [
    "activity_sorted_model_df"
   ]
  },
  {
   "cell_type": "code",
   "execution_count": 67,
   "metadata": {},
   "outputs": [
    {
     "data": {
      "image/png": "[encoded data removed]",
      "text/plain": [
       "<Figure size 648x288 with 1 Axes>"
      ]
     },
     "metadata": {},
     "output_type": "display_data"
    }
   ],
   "source": [
    "plt.figure(figsize=(9, 4))\n",
    "ax = sns.barplot(x=\"Model\", y=\"value\", hue = \"variable\",data=activity_sorted_model_df)\n",
    "ax.legend(bbox_to_anchor=(1.0, 1.05))\n",
    "plt.title('Models using Downsampling Behavioral Data',fontsize=15);"
   ]
  },
  {
   "cell_type": "code",
   "execution_count": 68,
   "metadata": {},
   "outputs": [
    {
     "data": {
      "image/png": "[encoded data removed]",
      "text/plain": [
       "<Figure size 576x360 with 2 Axes>"
      ]
     },
     "metadata": {},
     "output_type": "display_data"
    }
   ],
   "source": [
    "# the best model is gb\n",
    "# pipelines=[rf,gb,lr]\n",
    "cm_activity = confusion_matrix(y_test, activity_pipelines[1].predict(X_activity_test))\n",
    "\n",
    "sns.set(font_scale=1.0)\n",
    "labels = ['True Neg','False Pos','False Neg','True Pos']\n",
    "categories = ['Fake Review', 'Actual Review']\n",
    "make_confusion_matrix(cm_activity, \n",
    "                      group_names=labels,\n",
    "                      categories=categories, \n",
    "                      cmap='Blues',figsize=(8,5))\n",
    "\n",
    "plt.title('Confusion Matrix',fontsize=15)\n",
    "plt.tight_layout();"
   ]
  },
  {
   "cell_type": "markdown",
   "metadata": {},
   "source": [
    "### c. Text Data Downsampling"
   ]
  },
  {
   "cell_type": "code",
   "execution_count": 69,
   "metadata": {},
   "outputs": [],
   "source": [
    "#text \n",
    "X_text_train=X_train.iloc[:,1:101]\n",
    "X_text_test=X_test.iloc[:,1:101]"
   ]
  },
  {
   "cell_type": "code",
   "execution_count": 70,
   "metadata": {},
   "outputs": [
    {
     "name": "stderr",
     "output_type": "stream",
     "text": [
      "/Users/kessiezhang/anaconda3/lib/python3.7/site-packages/sklearn/ensemble/forest.py:245: FutureWarning: The default value of n_estimators will change from 10 in version 0.20 to 100 in 0.22.\n",
      "  \"10 in version 0.20 to 100 in 0.22.\", FutureWarning)\n",
      "/Users/kessiezhang/anaconda3/lib/python3.7/site-packages/sklearn/linear_model/logistic.py:432: FutureWarning: Default solver will be changed to 'lbfgs' in 0.22. Specify a solver to silence this warning.\n",
      "  FutureWarning)\n"
     ]
    }
   ],
   "source": [
    "text_pipelines = make_pipeline()\n",
    "# Train all the models\n",
    "for pipe in text_pipelines:\n",
    "    pipe.fit(X_text_train, y_train)"
   ]
  },
  {
   "cell_type": "code",
   "execution_count": 71,
   "metadata": {},
   "outputs": [],
   "source": [
    "text_sorted_model = sort_models(text_pipelines, X_text_test, y_test)\n",
    "text_sorted_model_df = pd.DataFrame(text_sorted_model)\n",
    "text_sorted_model_df.columns = ['Model','F1 Score','Recall Score','Accuracy Score','AUC Score']\n",
    "text_sorted_model_df = pd.melt(text_sorted_model_df,id_vars=['Model'])"
   ]
  },
  {
   "cell_type": "code",
   "execution_count": 72,
   "metadata": {
    "scrolled": true
   },
   "outputs": [
    {
     "data": {
      "image/png": "[encoded data removed]",
      "text/plain": [
       "<Figure size 648x288 with 1 Axes>"
      ]
     },
     "metadata": {},
     "output_type": "display_data"
    }
   ],
   "source": [
    "plt.figure(figsize=(9, 4))\n",
    "ax = sns.barplot(x=\"Model\", y=\"value\", hue = \"variable\",data=text_sorted_model_df)\n",
    "ax.legend(bbox_to_anchor=(1.0, 1.05))\n",
    "plt.title('Models using Downsampling Text Data',fontsize=15);"
   ]
  },
  {
   "cell_type": "code",
   "execution_count": 75,
   "metadata": {},
   "outputs": [
    {
     "data": {
      "text/html": [
       "<div>\n",
       "<style scoped>\n",
       "    .dataframe tbody tr th:only-of-type {\n",
       "        vertical-align: middle;\n",
       "    }\n",
       "\n",
       "    .dataframe tbody tr th {\n",
       "        vertical-align: top;\n",
       "    }\n",
       "\n",
       "    .dataframe thead th {\n",
       "        text-align: right;\n",
       "    }\n",
       "</style>\n",
       "<table border=\"1\" class=\"dataframe\">\n",
       "  <thead>\n",
       "    <tr style=\"text-align: right;\">\n",
       "      <th></th>\n",
       "      <th>Model</th>\n",
       "      <th>variable</th>\n",
       "      <th>value</th>\n",
       "    </tr>\n",
       "  </thead>\n",
       "  <tbody>\n",
       "    <tr>\n",
       "      <th>0</th>\n",
       "      <td>GradientBoostingClassifier</td>\n",
       "      <td>F1 Score</td>\n",
       "      <td>0.662773</td>\n",
       "    </tr>\n",
       "    <tr>\n",
       "      <th>1</th>\n",
       "      <td>LogisticRegression</td>\n",
       "      <td>F1 Score</td>\n",
       "      <td>0.660571</td>\n",
       "    </tr>\n",
       "    <tr>\n",
       "      <th>2</th>\n",
       "      <td>RandomForestClassifier</td>\n",
       "      <td>F1 Score</td>\n",
       "      <td>0.608964</td>\n",
       "    </tr>\n",
       "    <tr>\n",
       "      <th>3</th>\n",
       "      <td>GradientBoostingClassifier</td>\n",
       "      <td>Recall Score</td>\n",
       "      <td>0.674043</td>\n",
       "    </tr>\n",
       "    <tr>\n",
       "      <th>4</th>\n",
       "      <td>LogisticRegression</td>\n",
       "      <td>Recall Score</td>\n",
       "      <td>0.685508</td>\n",
       "    </tr>\n",
       "    <tr>\n",
       "      <th>5</th>\n",
       "      <td>RandomForestClassifier</td>\n",
       "      <td>Recall Score</td>\n",
       "      <td>0.519694</td>\n",
       "    </tr>\n",
       "    <tr>\n",
       "      <th>6</th>\n",
       "      <td>GradientBoostingClassifier</td>\n",
       "      <td>Accuracy Score</td>\n",
       "      <td>0.662821</td>\n",
       "    </tr>\n",
       "    <tr>\n",
       "      <th>7</th>\n",
       "      <td>LogisticRegression</td>\n",
       "      <td>Accuracy Score</td>\n",
       "      <td>0.660800</td>\n",
       "    </tr>\n",
       "    <tr>\n",
       "      <th>8</th>\n",
       "      <td>RandomForestClassifier</td>\n",
       "      <td>Accuracy Score</td>\n",
       "      <td>0.612294</td>\n",
       "    </tr>\n",
       "    <tr>\n",
       "      <th>9</th>\n",
       "      <td>GradientBoostingClassifier</td>\n",
       "      <td>AUC Score</td>\n",
       "      <td>0.719623</td>\n",
       "    </tr>\n",
       "    <tr>\n",
       "      <th>10</th>\n",
       "      <td>LogisticRegression</td>\n",
       "      <td>AUC Score</td>\n",
       "      <td>0.711529</td>\n",
       "    </tr>\n",
       "    <tr>\n",
       "      <th>11</th>\n",
       "      <td>RandomForestClassifier</td>\n",
       "      <td>AUC Score</td>\n",
       "      <td>0.653120</td>\n",
       "    </tr>\n",
       "  </tbody>\n",
       "</table>\n",
       "</div>"
      ],
      "text/plain": [
       "                         Model        variable     value\n",
       "0   GradientBoostingClassifier        F1 Score  0.662773\n",
       "1           LogisticRegression        F1 Score  0.660571\n",
       "2       RandomForestClassifier        F1 Score  0.608964\n",
       "3   GradientBoostingClassifier    Recall Score  0.674043\n",
       "4           LogisticRegression    Recall Score  0.685508\n",
       "5       RandomForestClassifier    Recall Score  0.519694\n",
       "6   GradientBoostingClassifier  Accuracy Score  0.662821\n",
       "7           LogisticRegression  Accuracy Score  0.660800\n",
       "8       RandomForestClassifier  Accuracy Score  0.612294\n",
       "9   GradientBoostingClassifier       AUC Score  0.719623\n",
       "10          LogisticRegression       AUC Score  0.711529\n",
       "11      RandomForestClassifier       AUC Score  0.653120"
      ]
     },
     "execution_count": 75,
     "metadata": {},
     "output_type": "execute_result"
    }
   ],
   "source": [
    "text_sorted_model_df"
   ]
  },
  {
   "cell_type": "code",
   "execution_count": 76,
   "metadata": {},
   "outputs": [
    {
     "data": {
      "image/png": "[encoded data removed]",
      "text/plain": [
       "<Figure size 576x360 with 2 Axes>"
      ]
     },
     "metadata": {},
     "output_type": "display_data"
    }
   ],
   "source": [
    "# the best model is gb\n",
    "cm_text = confusion_matrix(y_test, text_pipelines[1].predict(X_text_test))\n",
    "\n",
    "sns.set(font_scale=1.0)\n",
    "labels = ['True Neg','False Pos','False Neg','True Pos']\n",
    "categories = ['Fake Review', 'Actual Review']\n",
    "make_confusion_matrix(cm_text, \n",
    "                      group_names=labels,\n",
    "                      categories=categories, \n",
    "                      cmap='Blues',figsize=(8,5))\n",
    "\n",
    "plt.title('Confusion Matrix',fontsize=15)\n",
    "plt.tight_layout();"
   ]
  },
  {
   "cell_type": "markdown",
   "metadata": {},
   "source": [
    "### d. AUC-ROC Comparison"
   ]
  },
  {
   "cell_type": "code",
   "execution_count": 74,
   "metadata": {},
   "outputs": [],
   "source": [
    "from sklearn.metrics import roc_curve"
   ]
  },
  {
   "cell_type": "code",
   "execution_count": 77,
   "metadata": {},
   "outputs": [
    {
     "data": {
      "image/png": "[encoded data removed]",
      "text/plain": [
       "<Figure size 720x576 with 1 Axes>"
      ]
     },
     "metadata": {},
     "output_type": "display_data"
    }
   ],
   "source": [
    "plt.figure(figsize=(10,8))\n",
    "\n",
    "y_pred_smoted=smote_pipelines[0].predict(X_up_test)\n",
    "\n",
    "#GradientBoosting Upsampling\n",
    "fpr_gb1, tpr_gb1, thresholds = roc_curve(y_up_test, smote_pipelines[1].predict_proba(X_up_test)[:,1])\n",
    "fpr_gb2, tpr_gb2, thresholds = roc_curve(y_up_test, adasyn_pipelines[1].predict_proba(X_up_test)[:,1])\n",
    "roc_auc_GB_smote=roc_auc_score(y_up_test, smote_pipelines[1].predict_proba(X_up_test)[:,1])\n",
    "roc_auc_GB_adasyn=roc_auc_score(y_up_test, adasyn_pipelines[1].predict_proba(X_up_test)[:,1])\n",
    "\n",
    "#GradientBoosting with SMOTE and ADASYN\n",
    "plt.plot(fpr_gb1, tpr_gb1,lw=2, label='Gradient Boosting SMOTE User Activities ROC area = %0.2f)' % roc_auc_GB_smote)\n",
    "plt.plot(fpr_gb2, tpr_gb2,lw=2, label='Gradient Boosting ADASYN User Activities ROC area = %0.2f)' % roc_auc_GB_adasyn)\n",
    "\n",
    "#GradientBoosting with Downsampling \n",
    "fpr_gb1, tpr_gb1, thresholds = roc_curve(y_test, activity_pipelines[1].predict_proba(X_activity_test)[:,1])\n",
    "fpr_gb2, tpr_gb2, thresholds = roc_curve(y_test, text_pipelines[1].predict_proba(X_text_test)[:,1])\n",
    "roc_auc_GB_activity=roc_auc_score(y_test, activity_pipelines[1].predict_proba(X_activity_test)[:,1])\n",
    "roc_auc_GB_text=roc_auc_score(y_test, text_pipelines[1].predict_proba(X_text_test)[:,1])\n",
    "\n",
    "#GradientBoosting with Downsampling\n",
    "plt.plot(fpr_gb1, tpr_gb1,lw=2, label='Gradient Boosting User Activities ROC area = %0.2f)' % roc_auc_GB_activity)\n",
    "plt.plot(fpr_gb2, tpr_gb2,lw=2, label='Gradient Boosting Text ROC area = %0.2f)' % roc_auc_GB_text)\n",
    "\n",
    "plt.plot([0,1],[0,1],c='violet',ls='--')\n",
    "plt.xlim([-0.05,1.05])\n",
    "plt.ylim([-0.05,1.05])\n",
    "\n",
    "plt.legend(loc=\"lower right\",ncol=1,fontsize = 'small')\n",
    "plt.xlabel('False positive rate',fontsize=10)\n",
    "plt.ylabel('True positive rate',fontsize=10)\n",
    "plt.title('ROC curve for Fake Review Classification',fontsize=15);"
   ]
  },
  {
   "cell_type": "markdown",
   "metadata": {},
   "source": [
    "### e. Best Model Grid Search\n",
    "From above, we can see that using user activities data give us better results. The best model is GradientBoostingClassifier. What we can here is to use grid search to optimize the model performance."
   ]
  },
  {
   "cell_type": "code",
   "execution_count": 79,
   "metadata": {
    "scrolled": true
   },
   "outputs": [
    {
     "name": "stdout",
     "output_type": "stream",
     "text": [
      "GradientBoostingClassifier(criterion='friedman_mse', init=None,\n",
      "                           learning_rate=0.1, loss='deviance', max_depth=9,\n",
      "                           max_features=None, max_leaf_nodes=None,\n",
      "                           min_impurity_decrease=0.0, min_impurity_split=None,\n",
      "                           min_samples_leaf=1, min_samples_split=2,\n",
      "                           min_weight_fraction_leaf=0.0, n_estimators=100,\n",
      "                           n_iter_no_change=None, presort='auto',\n",
      "                           random_state=50, subsample=1.0, tol=0.0001,\n",
      "                           validation_fraction=0.1, verbose=0,\n",
      "                           warm_start=False)\n"
     ]
    }
   ],
   "source": [
    "def make_random_cv(clf):\n",
    "    \"\"\"\n",
    "    Steps:\n",
    "    1. Define Estimator\n",
    "    2. Define hyperparameter search space\n",
    "    3. Instantiate GridSearchCV\n",
    "    \"\"\"\n",
    "    if clf._final_estimator.__class__.__name__ == 'GradientBoostingClassifier':\n",
    "\n",
    "        \n",
    "                #parameters to tune\n",
    "        hyperparameters = {\n",
    "#          'classifier__learning_rate': [0.01,0.05,0.1,0.5,1],\n",
    "         'classifier__max_depth' : [5,7,9],\n",
    "         'classifier__min_samples_split': list(range(2, 6))\n",
    "#          'classifier__min_samples_leaf': list(range(1, 6)),\n",
    "#          'classifier__max_features': list(range(1, 10))\n",
    "        }\n",
    "\n",
    "        clf_random_cv = GridSearchCV(clf,\n",
    "                                     hyperparameters,\n",
    "                                     cv=5,\n",
    "                                     #optimize roc curve\n",
    "                                     scoring='roc_auc',\n",
    "                                     refit=True,\n",
    "                                     n_jobs=-1)\n",
    "\n",
    "    return clf_random_cv\n",
    "\n",
    "gb = make_random_cv(activity_pipelines[1])\n",
    "gb_model = gb.fit(X_activity_train, y_train)\n",
    "print(gb_model.best_estimator_._final_estimator)\n",
    "\n",
    "# use the best estimator to train the model\n",
    "new_gb_model =gb_model.best_estimator_._final_estimator.fit(X_activity_test,y_test)"
   ]
  },
  {
   "cell_type": "code",
   "execution_count": 80,
   "metadata": {
    "scrolled": true
   },
   "outputs": [
    {
     "data": {
      "image/png": "[encoded data removed]",
      "text/plain": [
       "<Figure size 576x360 with 2 Axes>"
      ]
     },
     "metadata": {},
     "output_type": "display_data"
    }
   ],
   "source": [
    "cm_best_activity = confusion_matrix(y_test, new_gb_model.predict(X_activity_test))\n",
    "\n",
    "sns.set(font_scale=1.0)\n",
    "labels = ['True Neg','False Pos','False Neg','True Pos']\n",
    "categories = ['Fake Review', 'Actual Review']\n",
    "make_confusion_matrix(cm_best_activity, \n",
    "                      group_names=labels,\n",
    "                      categories=categories, \n",
    "                      cmap='Blues',figsize=(8,5))\n",
    "\n",
    "plt.title('Confusion Matrix',fontsize=15)\n",
    "plt.tight_layout();"
   ]
  },
  {
   "cell_type": "code",
   "execution_count": 81,
   "metadata": {},
   "outputs": [
    {
     "data": {
      "image/png": "[encoded data removed]",
      "text/plain": [
       "<Figure size 720x576 with 1 Axes>"
      ]
     },
     "metadata": {},
     "output_type": "display_data"
    }
   ],
   "source": [
    "plt.figure(figsize=(10,8))\n",
    "#GradientBoosting with downsampling user activity\n",
    "fpr_gb1, tpr_gb1, thresholds = roc_curve(y_test, activity_pipelines[1].predict_proba(X_activity_test)[:,1])\n",
    "fpr_gb_best, tpr_gb_best, thresholds = roc_curve(y_test, new_gb_model.predict_proba(X_activity_test)[:,1])\n",
    "\n",
    "roc_auc_GB_activity=roc_auc_score(y_test, activity_pipelines[1].predict_proba(X_activity_test)[:,1])\n",
    "roc_auc_GB_best=roc_auc_score(y_test, new_gb_model.predict_proba(X_activity_test)[:,1])\n",
    "\n",
    "#GradientBoosting with downsampling\n",
    "plt.plot(fpr_gb1, tpr_gb1,lw=2, label='Gradient Boosting Downsampling User Activities ROC area = %0.2f)' \n",
    "         % roc_auc_GB_activity)\n",
    "\n",
    "#GradientBoosting with downsampling\n",
    "plt.plot(fpr_gb_best, tpr_gb_best, lw=2, label='Gradient Boosting Optimized User Activities ROC area = %0.2f)' \n",
    "         % roc_auc_GB_best)\n",
    "\n",
    "\n",
    "plt.plot([0,1],[0,1],c='violet',ls='--')\n",
    "plt.xlim([-0.05,1.05])\n",
    "plt.ylim([-0.05,1.05])\n",
    "\n",
    "plt.legend(loc=\"lower right\",ncol=1,fontsize = 'small')\n",
    "plt.xlabel('False positive rate',fontsize=10)\n",
    "plt.ylabel('True positive rate',fontsize=10)\n",
    "plt.title('ROC curve for Fake Review Classification',fontsize=15);"
   ]
  },
  {
   "cell_type": "markdown",
   "metadata": {},
   "source": [
    "### f. Best Model Feature Importance"
   ]
  },
  {
   "cell_type": "code",
   "execution_count": 82,
   "metadata": {
    "scrolled": false
   },
   "outputs": [
    {
     "data": {
      "image/png": "[encoded data removed]",
      "text/plain": [
       "<Figure size 720x360 with 1 Axes>"
      ]
     },
     "metadata": {},
     "output_type": "display_data"
    }
   ],
   "source": [
    "gb_activity_importances=new_gb_model.feature_importances_\n",
    "\n",
    "indices = np.argsort(gb_activity_importances)\n",
    "# X_activity_train[indices]\n",
    "\n",
    "feature_importance=pd.DataFrame(list(zip(list(X_activity_train.columns[indices]),gb_activity_importances)),\n",
    "             columns=['feature','value'])\n",
    "\n",
    "feature_importance.sort_values(by='value',ascending=True).plot(kind='barh',sort_columns=True,figsize=(10,5))\n",
    "plt.title('Feature Importance',fontsize=20)\n",
    "plt.yticks(feature_importance.index,feature_importance['feature'].values,fontsize=13);"
   ]
  },
  {
   "cell_type": "code",
   "execution_count": null,
   "metadata": {},
   "outputs": [],
   "source": []
  },
  {
   "cell_type": "code",
   "execution_count": null,
   "metadata": {},
   "outputs": [],
   "source": []
  },
  {
   "cell_type": "markdown",
   "metadata": {},
   "source": [
    "## III. Unsupervised Learning\n",
    "\n",
    "Outlier Detection with Isolation Forest"
   ]
  },
  {
   "cell_type": "markdown",
   "metadata": {},
   "source": [
    "### a. Using User Activeties Data"
   ]
  },
  {
   "cell_type": "code",
   "execution_count": 116,
   "metadata": {},
   "outputs": [],
   "source": [
    "from sklearn.ensemble import IsolationForest"
   ]
  },
  {
   "cell_type": "code",
   "execution_count": 113,
   "metadata": {
    "scrolled": false
   },
   "outputs": [
    {
     "data": {
      "text/html": [
       "<div>\n",
       "<style scoped>\n",
       "    .dataframe tbody tr th:only-of-type {\n",
       "        vertical-align: middle;\n",
       "    }\n",
       "\n",
       "    .dataframe tbody tr th {\n",
       "        vertical-align: top;\n",
       "    }\n",
       "\n",
       "    .dataframe thead th {\n",
       "        text-align: right;\n",
       "    }\n",
       "</style>\n",
       "<table border=\"1\" class=\"dataframe\">\n",
       "  <thead>\n",
       "    <tr style=\"text-align: right;\">\n",
       "      <th></th>\n",
       "      <th>label</th>\n",
       "      <th>review_id</th>\n",
       "      <th>review</th>\n",
       "      <th>rating</th>\n",
       "      <th>max_review_on_a_day</th>\n",
       "      <th>review_count</th>\n",
       "      <th>neg_rating_percentage</th>\n",
       "      <th>pos_rating_percentage</th>\n",
       "      <th>neu_rating_percentage</th>\n",
       "      <th>review_len</th>\n",
       "      <th>avg_review_len</th>\n",
       "      <th>std_rating</th>\n",
       "      <th>avg_word_length</th>\n",
       "      <th>num_sent</th>\n",
       "      <th>percentage_of_numerals</th>\n",
       "      <th>percentage_of_capitalized</th>\n",
       "    </tr>\n",
       "  </thead>\n",
       "  <tbody>\n",
       "    <tr>\n",
       "      <th>0</th>\n",
       "      <td>-1</td>\n",
       "      <td>0</td>\n",
       "      <td>Drinks were bad, the hot chocolate was watered...</td>\n",
       "      <td>1.0</td>\n",
       "      <td>1</td>\n",
       "      <td>1</td>\n",
       "      <td>1.0</td>\n",
       "      <td>0.00</td>\n",
       "      <td>0.00</td>\n",
       "      <td>187</td>\n",
       "      <td>187.0</td>\n",
       "      <td>0.0</td>\n",
       "      <td>4.22</td>\n",
       "      <td>2</td>\n",
       "      <td>0.00000</td>\n",
       "      <td>0.013605</td>\n",
       "    </tr>\n",
       "    <tr>\n",
       "      <th>1</th>\n",
       "      <td>-1</td>\n",
       "      <td>1</td>\n",
       "      <td>This was the worst experience I've ever had a ...</td>\n",
       "      <td>1.0</td>\n",
       "      <td>1</td>\n",
       "      <td>1</td>\n",
       "      <td>1.0</td>\n",
       "      <td>0.00</td>\n",
       "      <td>0.00</td>\n",
       "      <td>1375</td>\n",
       "      <td>1375.0</td>\n",
       "      <td>0.0</td>\n",
       "      <td>4.50</td>\n",
       "      <td>16</td>\n",
       "      <td>0.00565</td>\n",
       "      <td>0.022599</td>\n",
       "    </tr>\n",
       "    <tr>\n",
       "      <th>2</th>\n",
       "      <td>-1</td>\n",
       "      <td>2</td>\n",
       "      <td>This is located on the site of the old Spruce ...</td>\n",
       "      <td>3.0</td>\n",
       "      <td>1</td>\n",
       "      <td>4</td>\n",
       "      <td>0.0</td>\n",
       "      <td>0.25</td>\n",
       "      <td>0.75</td>\n",
       "      <td>257</td>\n",
       "      <td>245.5</td>\n",
       "      <td>0.5</td>\n",
       "      <td>4.10</td>\n",
       "      <td>4</td>\n",
       "      <td>0.00000</td>\n",
       "      <td>0.055276</td>\n",
       "    </tr>\n",
       "    <tr>\n",
       "      <th>3</th>\n",
       "      <td>-1</td>\n",
       "      <td>3</td>\n",
       "      <td>I am becoming frustrated with yelp.  I placed ...</td>\n",
       "      <td>3.0</td>\n",
       "      <td>1</td>\n",
       "      <td>4</td>\n",
       "      <td>0.0</td>\n",
       "      <td>0.25</td>\n",
       "      <td>0.75</td>\n",
       "      <td>352</td>\n",
       "      <td>245.5</td>\n",
       "      <td>0.5</td>\n",
       "      <td>4.63</td>\n",
       "      <td>5</td>\n",
       "      <td>0.00722</td>\n",
       "      <td>0.036101</td>\n",
       "    </tr>\n",
       "    <tr>\n",
       "      <th>4</th>\n",
       "      <td>-1</td>\n",
       "      <td>4</td>\n",
       "      <td>The pumpkin pancakes are quite good but the pl...</td>\n",
       "      <td>3.0</td>\n",
       "      <td>1</td>\n",
       "      <td>4</td>\n",
       "      <td>0.0</td>\n",
       "      <td>0.25</td>\n",
       "      <td>0.75</td>\n",
       "      <td>154</td>\n",
       "      <td>245.5</td>\n",
       "      <td>0.5</td>\n",
       "      <td>4.70</td>\n",
       "      <td>2</td>\n",
       "      <td>0.00000</td>\n",
       "      <td>0.024194</td>\n",
       "    </tr>\n",
       "  </tbody>\n",
       "</table>\n",
       "</div>"
      ],
      "text/plain": [
       "   label  review_id                                             review  \\\n",
       "0     -1          0  Drinks were bad, the hot chocolate was watered...   \n",
       "1     -1          1  This was the worst experience I've ever had a ...   \n",
       "2     -1          2  This is located on the site of the old Spruce ...   \n",
       "3     -1          3  I am becoming frustrated with yelp.  I placed ...   \n",
       "4     -1          4  The pumpkin pancakes are quite good but the pl...   \n",
       "\n",
       "   rating  max_review_on_a_day  review_count  neg_rating_percentage  \\\n",
       "0     1.0                    1             1                    1.0   \n",
       "1     1.0                    1             1                    1.0   \n",
       "2     3.0                    1             4                    0.0   \n",
       "3     3.0                    1             4                    0.0   \n",
       "4     3.0                    1             4                    0.0   \n",
       "\n",
       "   pos_rating_percentage  neu_rating_percentage  review_len  avg_review_len  \\\n",
       "0                   0.00                   0.00         187           187.0   \n",
       "1                   0.00                   0.00        1375          1375.0   \n",
       "2                   0.25                   0.75         257           245.5   \n",
       "3                   0.25                   0.75         352           245.5   \n",
       "4                   0.25                   0.75         154           245.5   \n",
       "\n",
       "   std_rating  avg_word_length  num_sent  percentage_of_numerals  \\\n",
       "0         0.0             4.22         2                 0.00000   \n",
       "1         0.0             4.50        16                 0.00565   \n",
       "2         0.5             4.10         4                 0.00000   \n",
       "3         0.5             4.63         5                 0.00722   \n",
       "4         0.5             4.70         2                 0.00000   \n",
       "\n",
       "   percentage_of_capitalized  \n",
       "0                   0.013605  \n",
       "1                   0.022599  \n",
       "2                   0.055276  \n",
       "3                   0.036101  \n",
       "4                   0.024194  "
      ]
     },
     "execution_count": 113,
     "metadata": {},
     "output_type": "execute_result"
    }
   ],
   "source": [
    "data.head()"
   ]
  },
  {
   "cell_type": "code",
   "execution_count": 120,
   "metadata": {},
   "outputs": [
    {
     "name": "stdout",
     "output_type": "stream",
     "text": [
      "Total training records = 456293\n",
      "Total testing records = 152098\n"
     ]
    }
   ],
   "source": [
    "X=data.iloc[:,3:]\n",
    "y = data.iloc[:,:1]\n",
    "\n",
    "X_train, X_test, y_train, y_test = train_test_split(X, y, random_state=3)\n",
    "\n",
    "print(f\"Total training records = {len(X_train)}\")\n",
    "print(f\"Total testing records = {len(X_test)}\")"
   ]
  },
  {
   "cell_type": "code",
   "execution_count": 150,
   "metadata": {},
   "outputs": [],
   "source": [
    "# Isolation Forest ----\n",
    "\n",
    "# training the model\n",
    "model_final=IsolationForest(n_estimators=50, max_samples='auto', contamination=float(0.1),max_features=1.0)\n",
    "model_final.fit(X_train)"
   ]
  },
  {
   "cell_type": "code",
   "execution_count": 153,
   "metadata": {},
   "outputs": [],
   "source": [
    "y_activity_test=y_test.copy()\n",
    "y_activity_test.loc[:,'scores']=model_final.decision_function(X_test)\n",
    "y_activity_test.loc[:,'anomaly']=model_final.predict(X_test)"
   ]
  },
  {
   "cell_type": "code",
   "execution_count": 138,
   "metadata": {},
   "outputs": [
    {
     "data": {
      "text/html": [
       "<div>\n",
       "<style scoped>\n",
       "    .dataframe tbody tr th:only-of-type {\n",
       "        vertical-align: middle;\n",
       "    }\n",
       "\n",
       "    .dataframe tbody tr th {\n",
       "        vertical-align: top;\n",
       "    }\n",
       "\n",
       "    .dataframe thead th {\n",
       "        text-align: right;\n",
       "    }\n",
       "</style>\n",
       "<table border=\"1\" class=\"dataframe\">\n",
       "  <thead>\n",
       "    <tr style=\"text-align: right;\">\n",
       "      <th></th>\n",
       "      <th>label</th>\n",
       "      <th>scores</th>\n",
       "      <th>anomaly</th>\n",
       "    </tr>\n",
       "  </thead>\n",
       "  <tbody>\n",
       "    <tr>\n",
       "      <th>240497</th>\n",
       "      <td>1</td>\n",
       "      <td>0.068753</td>\n",
       "      <td>1</td>\n",
       "    </tr>\n",
       "    <tr>\n",
       "      <th>387416</th>\n",
       "      <td>-1</td>\n",
       "      <td>0.135379</td>\n",
       "      <td>1</td>\n",
       "    </tr>\n",
       "    <tr>\n",
       "      <th>209976</th>\n",
       "      <td>1</td>\n",
       "      <td>-0.004027</td>\n",
       "      <td>1</td>\n",
       "    </tr>\n",
       "    <tr>\n",
       "      <th>367408</th>\n",
       "      <td>1</td>\n",
       "      <td>0.056090</td>\n",
       "      <td>1</td>\n",
       "    </tr>\n",
       "    <tr>\n",
       "      <th>184220</th>\n",
       "      <td>1</td>\n",
       "      <td>0.036906</td>\n",
       "      <td>1</td>\n",
       "    </tr>\n",
       "    <tr>\n",
       "      <th>261480</th>\n",
       "      <td>1</td>\n",
       "      <td>0.096093</td>\n",
       "      <td>1</td>\n",
       "    </tr>\n",
       "    <tr>\n",
       "      <th>127394</th>\n",
       "      <td>1</td>\n",
       "      <td>0.035391</td>\n",
       "      <td>1</td>\n",
       "    </tr>\n",
       "    <tr>\n",
       "      <th>77691</th>\n",
       "      <td>1</td>\n",
       "      <td>0.055706</td>\n",
       "      <td>1</td>\n",
       "    </tr>\n",
       "    <tr>\n",
       "      <th>483689</th>\n",
       "      <td>1</td>\n",
       "      <td>-0.000984</td>\n",
       "      <td>1</td>\n",
       "    </tr>\n",
       "    <tr>\n",
       "      <th>244496</th>\n",
       "      <td>1</td>\n",
       "      <td>0.070012</td>\n",
       "      <td>1</td>\n",
       "    </tr>\n",
       "    <tr>\n",
       "      <th>310364</th>\n",
       "      <td>1</td>\n",
       "      <td>0.090017</td>\n",
       "      <td>1</td>\n",
       "    </tr>\n",
       "    <tr>\n",
       "      <th>427241</th>\n",
       "      <td>1</td>\n",
       "      <td>0.128405</td>\n",
       "      <td>1</td>\n",
       "    </tr>\n",
       "    <tr>\n",
       "      <th>487759</th>\n",
       "      <td>1</td>\n",
       "      <td>-0.052406</td>\n",
       "      <td>-1</td>\n",
       "    </tr>\n",
       "    <tr>\n",
       "      <th>245288</th>\n",
       "      <td>1</td>\n",
       "      <td>0.081340</td>\n",
       "      <td>1</td>\n",
       "    </tr>\n",
       "    <tr>\n",
       "      <th>326017</th>\n",
       "      <td>-1</td>\n",
       "      <td>0.085376</td>\n",
       "      <td>1</td>\n",
       "    </tr>\n",
       "    <tr>\n",
       "      <th>502566</th>\n",
       "      <td>1</td>\n",
       "      <td>0.131619</td>\n",
       "      <td>1</td>\n",
       "    </tr>\n",
       "    <tr>\n",
       "      <th>498660</th>\n",
       "      <td>1</td>\n",
       "      <td>0.133401</td>\n",
       "      <td>1</td>\n",
       "    </tr>\n",
       "    <tr>\n",
       "      <th>226157</th>\n",
       "      <td>1</td>\n",
       "      <td>0.063290</td>\n",
       "      <td>1</td>\n",
       "    </tr>\n",
       "    <tr>\n",
       "      <th>538306</th>\n",
       "      <td>1</td>\n",
       "      <td>0.110596</td>\n",
       "      <td>1</td>\n",
       "    </tr>\n",
       "    <tr>\n",
       "      <th>438195</th>\n",
       "      <td>1</td>\n",
       "      <td>0.075574</td>\n",
       "      <td>1</td>\n",
       "    </tr>\n",
       "  </tbody>\n",
       "</table>\n",
       "</div>"
      ],
      "text/plain": [
       "        label    scores  anomaly\n",
       "240497      1  0.068753        1\n",
       "387416     -1  0.135379        1\n",
       "209976      1 -0.004027        1\n",
       "367408      1  0.056090        1\n",
       "184220      1  0.036906        1\n",
       "261480      1  0.096093        1\n",
       "127394      1  0.035391        1\n",
       "77691       1  0.055706        1\n",
       "483689      1 -0.000984        1\n",
       "244496      1  0.070012        1\n",
       "310364      1  0.090017        1\n",
       "427241      1  0.128405        1\n",
       "487759      1 -0.052406       -1\n",
       "245288      1  0.081340        1\n",
       "326017     -1  0.085376        1\n",
       "502566      1  0.131619        1\n",
       "498660      1  0.133401        1\n",
       "226157      1  0.063290        1\n",
       "538306      1  0.110596        1\n",
       "438195      1  0.075574        1"
      ]
     },
     "execution_count": 138,
     "metadata": {},
     "output_type": "execute_result"
    }
   ],
   "source": [
    "y_activity_test.head(20)"
   ]
  },
  {
   "cell_type": "code",
   "execution_count": 139,
   "metadata": {},
   "outputs": [],
   "source": [
    "#change lable to int64\n",
    "y_activity_test['label']=[int(x) for x in y_activity_test['label']]"
   ]
  },
  {
   "cell_type": "code",
   "execution_count": 140,
   "metadata": {
    "scrolled": true
   },
   "outputs": [
    {
     "data": {
      "image/png": "[encoded data removed]",
      "text/plain": [
       "<Figure size 576x360 with 2 Axes>"
      ]
     },
     "metadata": {},
     "output_type": "display_data"
    }
   ],
   "source": [
    "sns.set(font_scale=1.0)\n",
    "labels = ['True Neg','False Pos','False Neg','True Pos']\n",
    "categories = ['Fake Review', 'Actual Review']\n",
    "\n",
    "cm_isolation = confusion_matrix(y_activity_test['label'], y_activity_test['anomaly'])\n",
    "make_confusion_matrix(cm_isolation, \n",
    "                      group_names=labels,\n",
    "                      categories=categories, \n",
    "                      cmap='Blues',figsize=(8,5))\n",
    "\n",
    "plt.title('Confusion Matrix',fontsize=15)\n",
    "plt.tight_layout();"
   ]
  },
  {
   "cell_type": "markdown",
   "metadata": {},
   "source": [
    "Although the F1 score is pretty high using this isolation forest model, the true negative rate is too low. This means that the model has a hard time capturing frauds. As expected, the specificity score is low."
   ]
  },
  {
   "cell_type": "markdown",
   "metadata": {},
   "source": [
    "### b. Using Reviews Word2Vec data"
   ]
  },
  {
   "cell_type": "code",
   "execution_count": 143,
   "metadata": {
    "scrolled": false
   },
   "outputs": [
    {
     "data": {
      "text/html": [
       "<div>\n",
       "<style scoped>\n",
       "    .dataframe tbody tr th:only-of-type {\n",
       "        vertical-align: middle;\n",
       "    }\n",
       "\n",
       "    .dataframe tbody tr th {\n",
       "        vertical-align: top;\n",
       "    }\n",
       "\n",
       "    .dataframe thead th {\n",
       "        text-align: right;\n",
       "    }\n",
       "</style>\n",
       "<table border=\"1\" class=\"dataframe\">\n",
       "  <thead>\n",
       "    <tr style=\"text-align: right;\">\n",
       "      <th></th>\n",
       "      <th>label</th>\n",
       "      <th>review_id</th>\n",
       "      <th>review</th>\n",
       "      <th>C1</th>\n",
       "      <th>C2</th>\n",
       "      <th>C3</th>\n",
       "      <th>C4</th>\n",
       "      <th>C5</th>\n",
       "      <th>C6</th>\n",
       "      <th>C7</th>\n",
       "      <th>...</th>\n",
       "      <th>C91</th>\n",
       "      <th>C92</th>\n",
       "      <th>C93</th>\n",
       "      <th>C94</th>\n",
       "      <th>C95</th>\n",
       "      <th>C96</th>\n",
       "      <th>C97</th>\n",
       "      <th>C98</th>\n",
       "      <th>C99</th>\n",
       "      <th>C100</th>\n",
       "    </tr>\n",
       "  </thead>\n",
       "  <tbody>\n",
       "    <tr>\n",
       "      <th>0</th>\n",
       "      <td>1</td>\n",
       "      <td>558391</td>\n",
       "      <td>Damn good pizzaria Old fashioned brick oven co...</td>\n",
       "      <td>0.118176</td>\n",
       "      <td>-0.005540</td>\n",
       "      <td>-0.118697</td>\n",
       "      <td>0.004663</td>\n",
       "      <td>0.225756</td>\n",
       "      <td>0.110888</td>\n",
       "      <td>-0.067641</td>\n",
       "      <td>...</td>\n",
       "      <td>0.003960</td>\n",
       "      <td>0.149121</td>\n",
       "      <td>-0.014126</td>\n",
       "      <td>0.003619</td>\n",
       "      <td>0.033720</td>\n",
       "      <td>0.158498</td>\n",
       "      <td>-0.023986</td>\n",
       "      <td>-0.141746</td>\n",
       "      <td>-0.050047</td>\n",
       "      <td>0.161457</td>\n",
       "    </tr>\n",
       "    <tr>\n",
       "      <th>1</th>\n",
       "      <td>1</td>\n",
       "      <td>93260</td>\n",
       "      <td>The entrees here are classic hearty dishes thi...</td>\n",
       "      <td>0.097937</td>\n",
       "      <td>0.085351</td>\n",
       "      <td>-0.139262</td>\n",
       "      <td>-0.066124</td>\n",
       "      <td>0.205679</td>\n",
       "      <td>-0.090262</td>\n",
       "      <td>-0.034592</td>\n",
       "      <td>...</td>\n",
       "      <td>-0.228383</td>\n",
       "      <td>0.086872</td>\n",
       "      <td>-0.160074</td>\n",
       "      <td>-0.068987</td>\n",
       "      <td>-0.097264</td>\n",
       "      <td>0.071557</td>\n",
       "      <td>-0.086675</td>\n",
       "      <td>-0.158406</td>\n",
       "      <td>-0.061039</td>\n",
       "      <td>0.245379</td>\n",
       "    </tr>\n",
       "    <tr>\n",
       "      <th>2</th>\n",
       "      <td>1</td>\n",
       "      <td>328802</td>\n",
       "      <td>What can I say If you want better Italian food...</td>\n",
       "      <td>0.084738</td>\n",
       "      <td>-0.079039</td>\n",
       "      <td>-0.026011</td>\n",
       "      <td>-0.079858</td>\n",
       "      <td>0.212637</td>\n",
       "      <td>-0.000920</td>\n",
       "      <td>-0.096243</td>\n",
       "      <td>...</td>\n",
       "      <td>-0.075990</td>\n",
       "      <td>0.028098</td>\n",
       "      <td>-0.027545</td>\n",
       "      <td>0.004868</td>\n",
       "      <td>0.000700</td>\n",
       "      <td>0.180517</td>\n",
       "      <td>-0.081295</td>\n",
       "      <td>-0.069636</td>\n",
       "      <td>-0.194717</td>\n",
       "      <td>0.131500</td>\n",
       "    </tr>\n",
       "    <tr>\n",
       "      <th>3</th>\n",
       "      <td>1</td>\n",
       "      <td>138491</td>\n",
       "      <td>Stopped by here for lunch and a brew on a warm...</td>\n",
       "      <td>0.063559</td>\n",
       "      <td>0.029708</td>\n",
       "      <td>-0.098327</td>\n",
       "      <td>-0.005688</td>\n",
       "      <td>0.247395</td>\n",
       "      <td>0.020205</td>\n",
       "      <td>-0.037919</td>\n",
       "      <td>...</td>\n",
       "      <td>-0.132956</td>\n",
       "      <td>0.048136</td>\n",
       "      <td>-0.009286</td>\n",
       "      <td>0.043280</td>\n",
       "      <td>0.004087</td>\n",
       "      <td>0.079074</td>\n",
       "      <td>0.002828</td>\n",
       "      <td>-0.163538</td>\n",
       "      <td>-0.046593</td>\n",
       "      <td>0.170076</td>\n",
       "    </tr>\n",
       "    <tr>\n",
       "      <th>4</th>\n",
       "      <td>1</td>\n",
       "      <td>555771</td>\n",
       "      <td>We need one of these in every neighborhood Sup...</td>\n",
       "      <td>0.146168</td>\n",
       "      <td>0.091399</td>\n",
       "      <td>-0.118312</td>\n",
       "      <td>-0.042718</td>\n",
       "      <td>0.211164</td>\n",
       "      <td>0.070250</td>\n",
       "      <td>0.001079</td>\n",
       "      <td>...</td>\n",
       "      <td>-0.055113</td>\n",
       "      <td>0.066783</td>\n",
       "      <td>-0.065623</td>\n",
       "      <td>-0.042693</td>\n",
       "      <td>-0.005330</td>\n",
       "      <td>0.123948</td>\n",
       "      <td>0.017047</td>\n",
       "      <td>-0.179111</td>\n",
       "      <td>-0.010585</td>\n",
       "      <td>0.158528</td>\n",
       "    </tr>\n",
       "  </tbody>\n",
       "</table>\n",
       "<p>5 rows × 103 columns</p>\n",
       "</div>"
      ],
      "text/plain": [
       "   label  review_id                                             review  \\\n",
       "0      1     558391  Damn good pizzaria Old fashioned brick oven co...   \n",
       "1      1      93260  The entrees here are classic hearty dishes thi...   \n",
       "2      1     328802  What can I say If you want better Italian food...   \n",
       "3      1     138491  Stopped by here for lunch and a brew on a warm...   \n",
       "4      1     555771  We need one of these in every neighborhood Sup...   \n",
       "\n",
       "         C1        C2        C3        C4        C5        C6        C7  ...  \\\n",
       "0  0.118176 -0.005540 -0.118697  0.004663  0.225756  0.110888 -0.067641  ...   \n",
       "1  0.097937  0.085351 -0.139262 -0.066124  0.205679 -0.090262 -0.034592  ...   \n",
       "2  0.084738 -0.079039 -0.026011 -0.079858  0.212637 -0.000920 -0.096243  ...   \n",
       "3  0.063559  0.029708 -0.098327 -0.005688  0.247395  0.020205 -0.037919  ...   \n",
       "4  0.146168  0.091399 -0.118312 -0.042718  0.211164  0.070250  0.001079  ...   \n",
       "\n",
       "        C91       C92       C93       C94       C95       C96       C97  \\\n",
       "0  0.003960  0.149121 -0.014126  0.003619  0.033720  0.158498 -0.023986   \n",
       "1 -0.228383  0.086872 -0.160074 -0.068987 -0.097264  0.071557 -0.086675   \n",
       "2 -0.075990  0.028098 -0.027545  0.004868  0.000700  0.180517 -0.081295   \n",
       "3 -0.132956  0.048136 -0.009286  0.043280  0.004087  0.079074  0.002828   \n",
       "4 -0.055113  0.066783 -0.065623 -0.042693 -0.005330  0.123948  0.017047   \n",
       "\n",
       "        C98       C99      C100  \n",
       "0 -0.141746 -0.050047  0.161457  \n",
       "1 -0.158406 -0.061039  0.245379  \n",
       "2 -0.069636 -0.194717  0.131500  \n",
       "3 -0.163538 -0.046593  0.170076  \n",
       "4 -0.179111 -0.010585  0.158528  \n",
       "\n",
       "[5 rows x 103 columns]"
      ]
     },
     "execution_count": 143,
     "metadata": {},
     "output_type": "execute_result"
    }
   ],
   "source": [
    "#using data_as_df w2v dataset\n",
    "# clean_data_as_df\n",
    "\n",
    "data_as_df=pd.read_csv('clean_data_as_df.csv',index_col=0)\n",
    "data_as_df.head()"
   ]
  },
  {
   "cell_type": "code",
   "execution_count": 145,
   "metadata": {},
   "outputs": [],
   "source": [
    "data_as_df.drop(['review_id','review'],axis=1,inplace=True)"
   ]
  },
  {
   "cell_type": "code",
   "execution_count": 146,
   "metadata": {},
   "outputs": [],
   "source": [
    "X=data_as_df.iloc[:,1:]\n",
    "y = data_as_df.iloc[:,:1]"
   ]
  },
  {
   "cell_type": "code",
   "execution_count": 148,
   "metadata": {
    "scrolled": true
   },
   "outputs": [
    {
     "name": "stdout",
     "output_type": "stream",
     "text": [
      "Total training records = 120601\n",
      "Total testing records = 40201\n"
     ]
    }
   ],
   "source": [
    "X_train, X_test, y_train, y_test = train_test_split(X, y, random_state=3)\n",
    "\n",
    "print(f\"Total training records = {len(X_train)}\")\n",
    "print(f\"Total testing records = {len(X_test)}\")"
   ]
  },
  {
   "cell_type": "code",
   "execution_count": 151,
   "metadata": {},
   "outputs": [],
   "source": [
    "# Isolation Forest ----\n",
    "\n",
    "# training the model\n",
    "model=IsolationForest(n_estimators=50, max_samples='auto', contamination=float(0.1),max_features=1.0)\n",
    "model.fit(X_train)"
   ]
  },
  {
   "cell_type": "code",
   "execution_count": 156,
   "metadata": {},
   "outputs": [],
   "source": [
    "y_text_test=y_test.copy()\n",
    "y_text_test.loc[:,'scores']=model.decision_function(X_test)\n",
    "y_text_test.loc[:,'anomaly']=model.predict(X_test)"
   ]
  },
  {
   "cell_type": "code",
   "execution_count": 155,
   "metadata": {
    "scrolled": false
   },
   "outputs": [
    {
     "data": {
      "text/html": [
       "<div>\n",
       "<style scoped>\n",
       "    .dataframe tbody tr th:only-of-type {\n",
       "        vertical-align: middle;\n",
       "    }\n",
       "\n",
       "    .dataframe tbody tr th {\n",
       "        vertical-align: top;\n",
       "    }\n",
       "\n",
       "    .dataframe thead th {\n",
       "        text-align: right;\n",
       "    }\n",
       "</style>\n",
       "<table border=\"1\" class=\"dataframe\">\n",
       "  <thead>\n",
       "    <tr style=\"text-align: right;\">\n",
       "      <th></th>\n",
       "      <th>label</th>\n",
       "      <th>scores</th>\n",
       "      <th>anomaly</th>\n",
       "    </tr>\n",
       "  </thead>\n",
       "  <tbody>\n",
       "    <tr>\n",
       "      <th>139679</th>\n",
       "      <td>-1</td>\n",
       "      <td>0.050178</td>\n",
       "      <td>1</td>\n",
       "    </tr>\n",
       "    <tr>\n",
       "      <th>111141</th>\n",
       "      <td>-1</td>\n",
       "      <td>0.088602</td>\n",
       "      <td>1</td>\n",
       "    </tr>\n",
       "    <tr>\n",
       "      <th>20897</th>\n",
       "      <td>1</td>\n",
       "      <td>0.065660</td>\n",
       "      <td>1</td>\n",
       "    </tr>\n",
       "    <tr>\n",
       "      <th>75943</th>\n",
       "      <td>1</td>\n",
       "      <td>0.086985</td>\n",
       "      <td>1</td>\n",
       "    </tr>\n",
       "    <tr>\n",
       "      <th>62302</th>\n",
       "      <td>1</td>\n",
       "      <td>0.117100</td>\n",
       "      <td>1</td>\n",
       "    </tr>\n",
       "    <tr>\n",
       "      <th>49443</th>\n",
       "      <td>1</td>\n",
       "      <td>0.095628</td>\n",
       "      <td>1</td>\n",
       "    </tr>\n",
       "    <tr>\n",
       "      <th>78759</th>\n",
       "      <td>1</td>\n",
       "      <td>0.118212</td>\n",
       "      <td>1</td>\n",
       "    </tr>\n",
       "    <tr>\n",
       "      <th>155199</th>\n",
       "      <td>-1</td>\n",
       "      <td>-0.039908</td>\n",
       "      <td>-1</td>\n",
       "    </tr>\n",
       "    <tr>\n",
       "      <th>149210</th>\n",
       "      <td>-1</td>\n",
       "      <td>0.077020</td>\n",
       "      <td>1</td>\n",
       "    </tr>\n",
       "    <tr>\n",
       "      <th>140344</th>\n",
       "      <td>-1</td>\n",
       "      <td>0.127422</td>\n",
       "      <td>1</td>\n",
       "    </tr>\n",
       "    <tr>\n",
       "      <th>159835</th>\n",
       "      <td>-1</td>\n",
       "      <td>0.119112</td>\n",
       "      <td>1</td>\n",
       "    </tr>\n",
       "    <tr>\n",
       "      <th>2855</th>\n",
       "      <td>1</td>\n",
       "      <td>0.119625</td>\n",
       "      <td>1</td>\n",
       "    </tr>\n",
       "    <tr>\n",
       "      <th>80907</th>\n",
       "      <td>-1</td>\n",
       "      <td>0.060833</td>\n",
       "      <td>1</td>\n",
       "    </tr>\n",
       "    <tr>\n",
       "      <th>58499</th>\n",
       "      <td>1</td>\n",
       "      <td>0.132004</td>\n",
       "      <td>1</td>\n",
       "    </tr>\n",
       "    <tr>\n",
       "      <th>98755</th>\n",
       "      <td>-1</td>\n",
       "      <td>0.101871</td>\n",
       "      <td>1</td>\n",
       "    </tr>\n",
       "    <tr>\n",
       "      <th>134544</th>\n",
       "      <td>-1</td>\n",
       "      <td>0.121240</td>\n",
       "      <td>1</td>\n",
       "    </tr>\n",
       "    <tr>\n",
       "      <th>13205</th>\n",
       "      <td>1</td>\n",
       "      <td>0.082709</td>\n",
       "      <td>1</td>\n",
       "    </tr>\n",
       "    <tr>\n",
       "      <th>155917</th>\n",
       "      <td>-1</td>\n",
       "      <td>0.053143</td>\n",
       "      <td>1</td>\n",
       "    </tr>\n",
       "    <tr>\n",
       "      <th>95272</th>\n",
       "      <td>-1</td>\n",
       "      <td>0.049838</td>\n",
       "      <td>1</td>\n",
       "    </tr>\n",
       "    <tr>\n",
       "      <th>99965</th>\n",
       "      <td>-1</td>\n",
       "      <td>0.081864</td>\n",
       "      <td>1</td>\n",
       "    </tr>\n",
       "  </tbody>\n",
       "</table>\n",
       "</div>"
      ],
      "text/plain": [
       "        label    scores  anomaly\n",
       "139679     -1  0.050178        1\n",
       "111141     -1  0.088602        1\n",
       "20897       1  0.065660        1\n",
       "75943       1  0.086985        1\n",
       "62302       1  0.117100        1\n",
       "49443       1  0.095628        1\n",
       "78759       1  0.118212        1\n",
       "155199     -1 -0.039908       -1\n",
       "149210     -1  0.077020        1\n",
       "140344     -1  0.127422        1\n",
       "159835     -1  0.119112        1\n",
       "2855        1  0.119625        1\n",
       "80907      -1  0.060833        1\n",
       "58499       1  0.132004        1\n",
       "98755      -1  0.101871        1\n",
       "134544     -1  0.121240        1\n",
       "13205       1  0.082709        1\n",
       "155917     -1  0.053143        1\n",
       "95272      -1  0.049838        1\n",
       "99965      -1  0.081864        1"
      ]
     },
     "execution_count": 155,
     "metadata": {},
     "output_type": "execute_result"
    }
   ],
   "source": [
    "y_text_test.head(20)"
   ]
  },
  {
   "cell_type": "code",
   "execution_count": 158,
   "metadata": {},
   "outputs": [],
   "source": [
    "#change lable to int64\n",
    "y_text_test['label']=[int(x) for x in y_text_test['label']]"
   ]
  },
  {
   "cell_type": "code",
   "execution_count": 159,
   "metadata": {},
   "outputs": [
    {
     "data": {
      "image/png": "[encoded data removed]",
      "text/plain": [
       "<Figure size 576x360 with 2 Axes>"
      ]
     },
     "metadata": {},
     "output_type": "display_data"
    }
   ],
   "source": [
    "sns.set(font_scale=1.0)\n",
    "labels = ['True Neg','False Pos','False Neg','True Pos']\n",
    "categories = ['Fake Review', 'Actual Review']\n",
    "\n",
    "cm_isolation_text = confusion_matrix(y_text_test['label'], y_text_test['anomaly'])\n",
    "make_confusion_matrix(cm_isolation_text, \n",
    "                      group_names=labels,\n",
    "                      categories=categories, \n",
    "                      cmap='Blues',figsize=(8,5))\n",
    "\n",
    "plt.title('Confusion Matrix',fontsize=15)\n",
    "plt.tight_layout();"
   ]
  },
  {
   "cell_type": "markdown",
   "metadata": {},
   "source": [
    "The specificity score is not as well as the previous model using user activities data (more data), but the True negative rate is higher than the previous model."
   ]
  },
  {
   "cell_type": "markdown",
   "metadata": {},
   "source": [
    "## Conclusion\n",
    "\n",
    "After experimenting with different datasets and several methods, we can conclude that using user behavior data is better than using text data when it comes to detecting fake reviews. One possible reason is that A.I. bots are better trained and now can write more human-realistic reviews, which make it even harder to catch fake reviews. Moreover, since it usually takes a long time to convert large amounts of text to vectors, using user activities data is way faster and more robust. In this dataset, we saw that supervised learning gives us better results; however, this result might not apply to other datasets, especially without prelabeled data. While the results might not stay the same, the explained approach in this article works on any unseen domain by using NLP and Machine Learning techniques."
   ]
  }
 ],
 "metadata": {
  "kernelspec": {
   "display_name": "metis",
   "language": "python",
   "name": "metis"
  },
  "language_info": {
   "codemirror_mode": {
    "name": "ipython",
    "version": 3
   },
   "file_extension": ".py",
   "mimetype": "text/x-python",
   "name": "python",
   "nbconvert_exporter": "python",
   "pygments_lexer": "ipython3",
   "version": "3.7.3"
  }
 },
 "nbformat": 4,
 "nbformat_minor": 2
}
